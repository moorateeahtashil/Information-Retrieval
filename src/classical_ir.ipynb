{
 "cells": [
  {
   "cell_type": "markdown",
   "metadata": {},
   "source": [
    # 2. Classical Information Retrieval
",
    "
",
    "This notebook implements and evaluates two classical information retrieval models: TF-IDF and BM25. It loads the preprocessed data, builds the models, tunes parameters for BM25, and evaluates their performance using standard IR metrics.
   ]
  },
  {
   "cell_type": "markdown",
   "metadata": {},
   "source": [
    "## 2.1. Setup and Installation
",
    "\n",
    "Install and import the necessary libraries for data manipulation, classical IR models, and visualization."
   ]
  },
  {
   "cell_type": "code",
   "execution_count": 1,
   "metadata": {},
   "outputs": [
    {
     "name": "stdout",
     "output_type": "stream",
     "text": [
      "Defaulting to user installation because normal site-packages is not writeable\n",
      "Requirement already satisfied: numpy in /Users/moorateeahtashil/Library/Python/3.9/lib/python/site-packages (2.0.2)\n",
      "Requirement already satisfied: scipy in /Users/moorateeahtashil/Library/Python/3.9/lib/python/site-packages (1.13.1)\n",
      "Requirement already satisfied: rank_bm25 in /Users/moorateeahtashil/Library/Python/3.9/lib/python/site-packages (0.2.2)\n",
      "Requirement already satisfied: pandas in /Users/moorateeahtashil/Library/Python/3.9/lib/python/site-packages (2.2.3)\n",
      "Requirement already satisfied: scikit-learn in /Users/moorateeahtashil/Library/Python/3.9/lib/python/site-packages (1.5.2)\n",
      "Requirement already satisfied: matplotlib in /Users/moorateeahtashil/Library/Python/3.9/lib/python/site-packages (3.9.2)\n",
      "Requirement already satisfied: seaborn in /Users/moorateeahtashil/Library/Python/3.9/lib/python/site-packages (0.13.2)\n",
      "Requirement already satisfied: tqdm in /Users/moorateeahtashil/Library/Python/3.9/lib/python/site-packages (4.67.1)\n",
      "Requirement already satisfied: python-dateutil>=2.8.2 in /Users/moorateeahtashil/Library/Python/3.9/lib/python/site-packages (from pandas) (2.9.0.post0)\n",
      "Requirement already satisfied: pytz>=2020.1 in /Users/moorateeahtashil/Library/Python/3.9/lib/python/site-packages (from pandas) (2025.2)\n",
      "Requirement already satisfied: tzdata>=2022.7 in /Users/moorateeahtashil/Library/Python/3.9/lib/python/site-packages (from pandas) (2025.2)\n",
      "Requirement already satisfied: joblib>=1.2.0 in /Users/moorateeahtashil/Library/Python/3.9/lib/python/site-packages (from scikit-learn) (1.4.2)\n",
      "Requirement already satisfied: threadpoolctl>=3.1.0 in /Users/moorateeahtashil/Library/Python/3.9/lib/python/site-packages (from scikit-learn) (3.5.0)\n",
      "Requirement already satisfied: contourpy>=1.0.1 in /Users/moorateeahtashil/Library/Python/3.9/lib/python/site-packages (from matplotlib) (1.3.0)\n",
      "Requirement already satisfied: cycler>=0.10 in /Users/moorateeahtashil/Library/Python/3.9/lib/python/site-packages (from matplotlib) (0.12.1)\n",
      "Requirement already satisfied: fonttools>=4.22.0 in /Users/moorateeahtashil/Library/Python/3.9/lib/python/site-packages (from matplotlib) (4.55.0)\n",
      "Requirement already satisfied: kiwisolver>=1.3.1 in /Users/moorateeahtashil/Library/Python/3.9/lib/python/site-packages (from matplotlib) (1.4.7)\n",
      "Requirement already satisfied: packaging>=20.0 in /Users/moorateeahtashil/Library/Python/3.9/lib/python/site-packages (from matplotlib) (24.2)\n",
      "Requirement already satisfied: pillow>=8 in /Users/moorateeahtashil/Library/Python/3.9/lib/python/site-packages (from matplotlib) (11.0.0)\n",
      "Requirement already satisfied: pyparsing>=2.3.1 in /Users/moorateeahtashil/Library/Python/3.9/lib/python/site-packages (from matplotlib) (3.2.0)\n",
      "Requirement already satisfied: importlib-resources>=3.2.0 in /Users/moorateeahtashil/Library/Python/3.9/lib/python/site-packages (from matplotlib) (6.4.5)\n",
      "Requirement already satisfied: zipp>=3.1.0 in /Users/moorateeahtashil/Library/Python/3.9/lib/python/site-packages (from importlib-resources>=3.2.0->matplotlib) (3.21.0)\n",
      "Requirement already satisfied: six>=1.5 in /Library/Developer/CommandLineTools/Library/Frameworks/Python3.framework/Versions/3.9/lib/python3.9/site-packages (from python-dateutil>=2.8.2->pandas) (1.15.0)\n"
     ]
    }
   ],
   "source": [
    "!pip install numpy scipy rank_bm25 pandas scikit-learn matplotlib seaborn tqdm"
   ]
  },
  {
   "cell_type": "markdown",
   "metadata": {},
   "source": [
    ## 2.2. Load Processed Data
,
Load the preprocessed corpus, queries, relevance judgments, and the inverted index from the files saved in the previous notebook.
   ]
  },
  {
   "cell_type": "code",
   "execution_count": 2,
   "metadata": {},
   "outputs": [
    {
     "name": "stdout",
     "output_type": "stream",
     "text": [
      "Data loaded successfully.\n",
      "Corpus size: 57638 documents\n",
      "Queries size: 6648 queries\n",
      "Qrels size: 17110 relevance judgments\n"
     ]
    },
    {
     "data": {
      "text/html": [
       "<div>\n",
       "<style scoped>\n",
       "    .dataframe tbody tr th:only-of-type {\n",
       "        vertical-align: middle;\n",
       "    }\n",
       "\n",
       "    .dataframe tbody tr th {\n",
       "        vertical-align: top;\n",
       "    }\n",
       "\n",
       "    .dataframe thead th {\n",
       "        text-align: right;\n",
       "    }\n",
       "</style>\n",
       "<table border=\"1\" class=\"dataframe\">\n",
       "  <thead>\n",
       "    <tr style=\"text-align: right;\">\n",
       "      <th></th>\n",
       "      <th>doc_id</th>\n",
       "      <th>text</th>\n",
       "      <th>processed_text</th>\n",
       "    </tr>\n",
       "  </thead>\n",
       "  <tbody>\n",
       "    <tr>\n",
       "      <th>0</th>\n",
       "      <td>3</td>\n",
       "      <td>I'm not saying I don't like the idea of on-the...</td>\n",
       "      <td>[say, like, idea, training, ca, expect, compan...</td>\n",
       "    </tr>\n",
       "    <tr>\n",
       "      <th>1</th>\n",
       "      <td>31</td>\n",
       "      <td>So nothing preventing false ratings besides ad...</td>\n",
       "      <td>[nothing, prevent, false, rating, besides, add...</td>\n",
       "    </tr>\n",
       "    <tr>\n",
       "      <th>2</th>\n",
       "      <td>56</td>\n",
       "      <td>You can never use a health FSA for individual ...</td>\n",
       "      <td>[never, use, health, fsa, individual, health, ...</td>\n",
       "    </tr>\n",
       "    <tr>\n",
       "      <th>3</th>\n",
       "      <td>59</td>\n",
       "      <td>Samsung created the LCD and other flat screen ...</td>\n",
       "      <td>[samsung, create, lcd, flat, screen, technolog...</td>\n",
       "    </tr>\n",
       "    <tr>\n",
       "      <th>4</th>\n",
       "      <td>63</td>\n",
       "      <td>Here are the SEC requirements: The federal sec...</td>\n",
       "      <td>[sec, requirement, federal, security, law, def...</td>\n",
       "    </tr>\n",
       "  </tbody>\n",
       "</table>\n",
       "</div>"
      ],
      "text/plain": [
       "  doc_id                                               text  \\\n",
       "0      3  I'm not saying I don't like the idea of on-the...   \n",
       "1     31  So nothing preventing false ratings besides ad...   \n",
       "2     56  You can never use a health FSA for individual ...   \n",
       "3     59  Samsung created the LCD and other flat screen ...   \n",
       "4     63  Here are the SEC requirements: The federal sec...   \n",
       "\n",
       "                                      processed_text  \n",
       "0  [say, like, idea, training, ca, expect, compan...  \n",
       "1  [nothing, prevent, false, rating, besides, add...  \n",
       "2  [never, use, health, fsa, individual, health, ...  \n",
       "3  [samsung, create, lcd, flat, screen, technolog...  \n",
       "4  [sec, requirement, federal, security, law, def...  "
      ]
     },
     "metadata": {},
     "output_type": "display_data"
    }
   ],
   "source": [
    "import pandas as pd\n",
    "import json\n",
    "import os\n",
    "import numpy as np\n",
    "from tqdm import tqdm\n",
    "import matplotlib.pyplot as plt\n",
    "import seaborn as sns\n",
    "from sklearn.feature_extraction.text import TfidfVectorizer\n",
    "from sklearn.metrics.pairwise import cosine_similarity\n",
    "from rank_bm25 import BM25Okapi\n",
    "import itertools\n",
    "from collections import defaultdict\n",
    "\n",
    "# Set style for better plots\n",
    "plt.style.use('seaborn-v0_8')\n",
    "sns.set_palette(\"husl\")\n",
    "\n",
    "DATA_DIR = '../fiqa/processed_data'\n",
    "\n",
    "# Load data\n",
    "corpus_df = pd.read_pickle(os.path.join(DATA_DIR, 'corpus_processed.pkl'))\n",
    "queries_df = pd.read_pickle(os.path.join(DATA_DIR, 'queries_processed.pkl'))\n",
    "qrels_df = pd.read_pickle(os.path.join(DATA_DIR, 'qrels.pkl'))\n",
    "with open(os.path.join(DATA_DIR, 'inverted_index.json'), 'r', encoding='utf-8') as f:\n",
    "    inverted_index = json.load(f)\n",
    "\n",
    "# Create mappings for faster lookups\n",
    "query_id_to_text = pd.Series(queries_df.processed_text.values, index=queries_df.query_id).to_dict()\n",
    "\n",
    "print(\"Data loaded successfully.\")\n",
    "print(f\"Corpus size: {len(corpus_df)} documents\")\n",
    "print(f\"Queries size: {len(queries_df)} queries\")\n",
    "print(f\"Qrels size: {len(qrels_df)} relevance judgments\")\n",
    "display(corpus_df.head())"
   ]
  },
  {
   "cell_type": "markdown",
   "metadata": {},
   "source": [
    "## 2.3. TF-IDF Model
",
    "\n",
    "Implementation of the TF-IDF (Term Frequency-Inverse Document Frequency) model using `scikit-learn`'s efficient `TfidfVectorizer`. This model represents documents as vectors in a high-dimensional space and uses cosine similarity to measure relevance."
   ]
  },
  {
   "cell_type": "code",
   "execution_count": 3,
   "metadata": {},
   "outputs": [
    {
     "name": "stdout",
     "output_type": "stream",
     "text": [
      "Initializing optimized TF-IDF model...\n",
      "Fitting TF-IDF vectorizer...\n",
      "TF-IDF matrix shape: (57638, 27443)\n"
     ]
    }
   ],
   "source": [
    "class OptimizedTFIDFModel:\n",
    "    def __init__(self, corpus_df):\n",
    "        self.corpus = corpus_df\n",
    "        self.doc_ids = corpus_df['doc_id'].tolist()\n",
    "        \n",
    "        # Convert processed text to strings for TfidfVectorizer\n",
    "        # TfidfVectorizer expects strings, not lists of tokens\n",
    "        self.documents = [' '.join(doc) for doc in corpus_df['processed_text']]\n",
    "        \n",
    "        # Initialize TF-IDF vectorizer with optimized settings\n",
    "        self.vectorizer = TfidfVectorizer(\n",
    "            lowercase=False,  # Already processed\n",
    "            token_pattern=r'\\S+',  # Match any non-whitespace sequence\n",
    "            max_features=50000,  # Limit vocabulary size for efficiency\n",
    "            min_df=2,  # Ignore terms that appear in less than 2 documents\n",
    "            max_df=0.95,  # Ignore terms that appear in more than 95% of documents\n",
    "            sublinear_tf=True,  # Use 1 + log(tf) instead of raw tf\n",
    "            norm='l2'  # L2 normalization for cosine similarity\n",
    "        )\n",
    "        \n",
    "        print(\"Fitting TF-IDF vectorizer...\")\n",
    "        self.tfidf_matrix = self.vectorizer.fit_transform(self.documents)\n",
    "        print(f\"TF-IDF matrix shape: {self.tfidf_matrix.shape}\")\n",
    "        \n",
    "        # Create mapping from doc_id to matrix index\n",
    "        self.doc_id_to_idx = {doc_id: idx for idx, doc_id in enumerate(self.doc_ids)}\n",
    "    \n",
    "    def rank_documents(self, query_terms, top_n=100):\n",
    "        # Convert query terms to string\n",
    "        query_text = ' '.join(query_terms)\n",
    "        \n",
    "        # Transform query to TF-IDF vector\n",
    "        query_vector = self.vectorizer.transform([query_text])\n",
    "        \n",
    "        # Compute cosine similarities\n",
    "        similarities = cosine_similarity(query_vector, self.tfidf_matrix).flatten()\n",
    "        \n",
    "        # Get top documents\n",
    "        top_indices = np.argsort(similarities)[::-1][:top_n]\n",
    "        \n",
    "        results = []\n",
    "        for idx in top_indices:\n",
    "            if similarities[idx] > 0:  # Only include documents with non-zero similarity\n",
    "                doc_id = self.doc_ids[idx]\n",
    "                score = similarities[idx]\n",
    "                results.append((doc_id, score))\n",
    "        \n",
    "        return results\n",
    "\n",
    "# Initialize the optimized TF-IDF model\n",
    "print(\"Initializing optimized TF-IDF model...\")\n",
    "tfidf_model = OptimizedTFIDFModel(corpus_df)"
   ]
  },
  {
   "cell_type": "markdown",
   "metadata": {},
   "source": [
    "## 2.4. BM25 Model
",
    "
",
    "Implementation of the Okapi BM25 model, a probabilistic retrieval model that improves upon TF-IDF by considering term frequency saturation and document length normalization. We use the `rank_bm25` library for an efficient implementation."
   ]
  },
  {
   "cell_type": "code",
   "execution_count": 4,
   "metadata": {},
   "outputs": [
    {
     "name": "stdout",
     "output_type": "stream",
     "text": [
      "Initializing BM25 model with optimized parameters...\n",
      "BM25 initialized with k1=1.2, b=0.75\n",
      "Average document length: 64.92\n"
     ]
    }
   ],
   "source": [
    "class BM25Model:\n",
    "    def __init__(self, corpus_df, k1=1.2, b=0.75):\n",
    "        self.corpus = corpus_df\n",
    "        self.doc_ids = corpus_df['doc_id'].tolist()\n",
    "        self.tokenized_corpus = corpus_df['processed_text'].tolist()\n",
    "        self.k1 = k1\n",
    "        self.b = b\n",
    "        \n",
    "        # Initialize BM25 with given parameters\n",
    "        self.bm25 = BM25Okapi(self.tokenized_corpus, k1=k1, b=b)\n",
    "        \n",
    "        # Calculate average document length for BM25 formula\n",
    "        self.avg_doc_length = np.mean([len(doc) for doc in self.tokenized_corpus])\n",
    "        print(f\"BM25 initialized with k1={k1}, b={b}\")\n",
    "        print(f\"Average document length: {self.avg_doc_length:.2f}\")\n",
    "    \n",
    "    def rank_documents(self, query_terms, top_n=100):\n",
    "        # Get BM25 scores for all documents\n",
    "        doc_scores = self.bm25.get_scores(query_terms)\n",
    "        \n",
    "        # Get top documents\n",
    "        top_indices = np.argsort(doc_scores)[::-1][:top_n]\n",
    "        \n",
    "        results = []\n",
    "        for idx in top_indices:\n",
    "            if doc_scores[idx] > 0:  # Only include documents with non-zero scores\n",
    "                doc_id = self.doc_ids[idx]\n",
    "                score = doc_scores[idx]\n",
    "                results.append((doc_id, score))\n",
    "        \n",
    "        return results\n",
    "\n",
    "# Initialize BM25 with optimized default parameters\n",
    "print(\"Initializing BM25 model with optimized parameters...\")\n",
    "bm25_model = BM25Model(corpus_df, k1=1.2, b=0.75)"
   ]
  },
  {
   "cell_type": "markdown",
   "metadata": {},
   "source": [
    "## 2.5. Evaluation Functions
",
    "
",
    "Define a suite of standard information retrieval evaluation metrics, including Precision@k, Recall@k, F1@k, MAP, MRR, and nDCG@k."
   ]
  },
  {
   "cell_type": "code",
   "execution_count": 5,
   "metadata": {},
   "outputs": [
    {
     "name": "stdout",
     "output_type": "stream",
     "text": [
      "Evaluation functions loaded successfully.\n"
     ]
    }
   ],
   "source": [
    "import math\n",
    "\n",
    "def precision_at_k(retrieved, relevant, k):\n",
    "    \"\"\"Calculate Precision@k\"\"\"\n",
    "    retrieved_k = retrieved[:k]\n",
    "    if k == 0:\n",
    "        return 0.0\n",
    "    return len(set(retrieved_k) & set(relevant)) / k\n",
    "\n",
    "def recall_at_k(retrieved, relevant, k):\n",
    "    \"\"\"Calculate Recall@k\"\"\"\n",
    "    retrieved_k = retrieved[:k]\n",
    "    if not relevant:\n",
    "        return 0.0\n",
    "    return len(set(retrieved_k) & set(relevant)) / len(relevant)\n",
    "\n",
    "def average_precision(retrieved, relevant):\n",
    "    \"\"\"Calculate Average Precision (AP)\"\"\"\n",
    "    if not relevant:\n",
    "        return 0.0\n",
    "    \n",
    "    hits = 0\n",
    "    sum_precisions = 0.0\n",
    "    for i, doc_id in enumerate(retrieved):\n",
    "        if doc_id in relevant:\n",
    "            hits += 1\n",
    "            sum_precisions += hits / (i + 1)\n",
    "    \n",
    "    return sum_precisions / len(relevant)\n",
    "\n",
    "def mean_average_precision(results, relevant_docs):\n",
    "    \"\"\"Calculate Mean Average Precision (MAP)\"\"\"\n",
    "    aps = [average_precision(results[qid], relevant_docs.get(qid, [])) for qid in results]\n",
    "    return np.mean(aps)\n",
    "\n",
    "def mean_reciprocal_rank(results, relevant_docs):\n",
    "    \"\"\"Calculate Mean Reciprocal Rank (MRR)\"\"\"\n",
    "    rrs = []\n",
    "    for qid in results:\n",
    "        relevant = relevant_docs.get(qid, [])\n",
    "        for i, doc_id in enumerate(results[qid]):\n",
    "            if doc_id in relevant:\n",
    "                rrs.append(1 / (i + 1))\n",
    "                break\n",
    "        else:  # If no relevant doc was found\n",
    "            rrs.append(0.0)\n",
    "    return np.mean(rrs)\n",
    "\n",
    "def ndcg_at_k(retrieved, relevant, k):\n",
    "    \"\"\"Calculate Normalized Discounted Cumulative Gain@k\"\"\"\n",
    "    retrieved_k = retrieved[:k]\n",
    "    dcg = 0.0\n",
    "    for i, doc_id in enumerate(retrieved_k):\n",
    "        if doc_id in relevant:\n",
    "            dcg += 1 / math.log2(i + 2)  # relevance=1\n",
    "    \n",
    "    idcg = 0.0\n",
    "    num_relevant_k = min(len(relevant), k)\n",
    "    for i in range(num_relevant_k):\n",
    "        idcg += 1 / math.log2(i + 2)\n",
    "        \n",
    "    return dcg / idcg if idcg > 0 else 0.0\n",
    "\n",
    "def f1_at_k(retrieved, relevant, k):\n",
    "    \"\"\"Calculate F1@k\"\"\"\n",
    "    p = precision_at_k(retrieved, relevant, k)\n",
    "    r = recall_at_k(retrieved, relevant, k)\n",
    "    if p + r == 0:\n",
    "        return 0.0\n",
    "    return 2 * p * r / (p + r)\n",
    "\n",
    "def evaluate_model(results, relevant_docs, k_values=[1, 3, 5, 10, 20]):\n",
    "    \"\"\"Comprehensive evaluation of a retrieval model\"\"\"\n",
    "    metrics = {}\n",
    "    \n",
    "    for k in k_values:\n",
    "        precisions = [precision_at_k(results[qid], relevant_docs.get(qid, []), k) for qid in results]\n",
    "        recalls = [recall_at_k(results[qid], relevant_docs.get(qid, []), k) for qid in results]\n",
    "        ndcgs = [ndcg_at_k(results[qid], relevant_docs.get(qid, []), k) for qid in results]\n",
    "        f1s = [f1_at_k(results[qid], relevant_docs.get(qid, []), k) for qid in results]\n",
    "        \n",
    "        metrics[f'P@{k}'] = np.mean(precisions)\n",
    "        metrics[f'R@{k}'] = np.mean(recalls)\n",
    "        metrics[f'nDCG@{k}'] = np.mean(ndcgs)\n",
    "        metrics[f'F1@{k}'] = np.mean(f1s)\n",
    "    \n",
    "    metrics['MAP'] = mean_average_precision(results, relevant_docs)\n",
    "    metrics['MRR'] = mean_reciprocal_rank(results, relevant_docs)\n",
    "    \n",
    "    return metrics\n",
    "\n",
    "print(\"Evaluation functions loaded successfully.\")\n"
   ]
  },
  {
   "cell_type": "markdown",
   "metadata": {},
   "source": [
    ## 2.6. BM25 Parameter Tuning

Perform a grid search to find the optimal hyperparameters (`k1` and `b`) for the BM25 model. The best parameters are selected based on the highest Mean Average Precision (MAP) score on a sample of the queries.
   ]
  },
  {
   "cell_type": "code",
   "execution_count": 6,
   "metadata": {},
   "outputs": [
    {
     "name": "stdout",
     "output_type": "stream",
     "text": [
      "Starting BM25 parameter tuning...\n",
      "k1 values: [0.8, 1.0, 1.2, 1.4, 1.6, 1.8, 2.0]\n",
      "b values: [0.0, 0.2, 0.4, 0.6, 0.75, 0.8, 1.0]\n",
      "Evaluating on 100 queries with 7 k1 values and 7 b values\n",
      "Total combinations: 49\n",
      "\\n[1/49] Testing k1=0.8, b=0.0\n",
      "BM25 initialized with k1=0.8, b=0.0\n",
      "Average document length: 64.92\n"
     ]
    },
    {
     "name": "stderr",
     "output_type": "stream",
     "text": [
      "                                                                \r"
     ]
    },
    {
     "name": "stdout",
     "output_type": "stream",
     "text": [
      "MAP: 0.1081\n",
      "*** New best MAP: 0.1081 with k1=0.8, b=0.0 ***\n",
      "\\n[2/49] Testing k1=0.8, b=0.2\n",
      "BM25 initialized with k1=0.8, b=0.2\n",
      "Average document length: 64.92\n"
     ]
    },
    {
     "name": "stderr",
     "output_type": "stream",
     "text": [
      "                                                                \r"
     ]
    },
    {
     "name": "stdout",
     "output_type": "stream",
     "text": [
      "MAP: 0.1438\n",
      "*** New best MAP: 0.1438 with k1=0.8, b=0.2 ***\n",
      "\\n[3/49] Testing k1=0.8, b=0.4\n",
      "BM25 initialized with k1=0.8, b=0.4\n",
      "Average document length: 64.92\n"
     ]
    },
    {
     "name": "stderr",
     "output_type": "stream",
     "text": [
      "                                                                \r"
     ]
    },
    {
     "name": "stdout",
     "output_type": "stream",
     "text": [
      "MAP: 0.1643\n",
      "*** New best MAP: 0.1643 with k1=0.8, b=0.4 ***\n",
      "\\n[4/49] Testing k1=0.8, b=0.6\n",
      "BM25 initialized with k1=0.8, b=0.6\n",
      "Average document length: 64.92\n"
     ]
    },
    {
     "name": "stderr",
     "output_type": "stream",
     "text": [
      "                                                                \r"
     ]
    },
    {
     "name": "stdout",
     "output_type": "stream",
     "text": [
      "MAP: 0.1714\n",
      "*** New best MAP: 0.1714 with k1=0.8, b=0.6 ***\n",
      "\\n[5/49] Testing k1=0.8, b=0.75\n",
      "BM25 initialized with k1=0.8, b=0.75\n",
      "Average document length: 64.92\n"
     ]
    },
    {
     "name": "stderr",
     "output_type": "stream",
     "text": [
      "                                                                 \r"
     ]
    },
    {
     "name": "stdout",
     "output_type": "stream",
     "text": [
      "MAP: 0.1684\n",
      "\\n[6/49] Testing k1=0.8, b=0.8\n",
      "BM25 initialized with k1=0.8, b=0.8\n",
      "Average document length: 64.92\n"
     ]
    },
    {
     "name": "stderr",
     "output_type": "stream",
     "text": [
      "                                                                \r"
     ]
    },
    {
     "name": "stdout",
     "output_type": "stream",
     "text": [
      "MAP: 0.1644\n",
      "\\n[7/49] Testing k1=0.8, b=1.0\n",
      "BM25 initialized with k1=0.8, b=1.0\n",
      "Average document length: 64.92\n"
     ]
    },
    {
     "name": "stderr",
     "output_type": "stream",
     "text": [
      "k1=0.8, b=1.0:   0%|          | 0/100 [00:00<?, ?it/s]/Users/moorateeahtashil/Library/Python/3.9/lib/python/site-packages/rank_bm25.py:119: RuntimeWarning: invalid value encountered in divide\n",
      "  score += (self.idf.get(q) or 0) * (q_freq * (self.k1 + 1) /\n",
      "                                                                \r"
     ]
    },
    {
     "name": "stdout",
     "output_type": "stream",
     "text": [
      "MAP: 0.1535\n",
      "\\n[8/49] Testing k1=1.0, b=0.0\n",
      "BM25 initialized with k1=1.0, b=0.0\n",
      "Average document length: 64.92\n"
     ]
    },
    {
     "name": "stderr",
     "output_type": "stream",
     "text": [
      "                                                                \r"
     ]
    },
    {
     "name": "stdout",
     "output_type": "stream",
     "text": [
      "MAP: 0.1083\n",
      "\\n[9/49] Testing k1=1.0, b=0.2\n",
      "BM25 initialized with k1=1.0, b=0.2\n",
      "Average document length: 64.92\n"
     ]
    },
    {
     "name": "stderr",
     "output_type": "stream",
     "text": [
      "                                                                \r"
     ]
    },
    {
     "name": "stdout",
     "output_type": "stream",
     "text": [
      "MAP: 0.1439\n",
      "\\n[10/49] Testing k1=1.0, b=0.4\n",
      "BM25 initialized with k1=1.0, b=0.4\n",
      "Average document length: 64.92\n"
     ]
    },
    {
     "name": "stderr",
     "output_type": "stream",
     "text": [
      "                                                                \r"
     ]
    },
    {
     "name": "stdout",
     "output_type": "stream",
     "text": [
      "MAP: 0.1690\n",
      "\\n[11/49] Testing k1=1.0, b=0.6\n",
      "BM25 initialized with k1=1.0, b=0.6\n",
      "Average document length: 64.92\n"
     ]
    },
    {
     "name": "stderr",
     "output_type": "stream",
     "text": [
      "                                                                \r"
     ]
    },
    {
     "name": "stdout",
     "output_type": "stream",
     "text": [
      "MAP: 0.1714\n",
      "\\n[12/49] Testing k1=1.0, b=0.75\n",
      "BM25 initialized with k1=1.0, b=0.75\n",
      "Average document length: 64.92\n"
     ]
    },
    {
     "name": "stderr",
     "output_type": "stream",
     "text": [
      "                                                                \r"
     ]
    },
    {
     "name": "stdout",
     "output_type": "stream",
     "text": [
      "MAP: 0.1653\n",
      "\\n[13/49] Testing k1=1.0, b=0.8\n",
      "BM25 initialized with k1=1.0, b=0.8\n",
      "Average document length: 64.92\n"
     ]
    },
    {
     "name": "stderr",
     "output_type": "stream",
     "text": [
      "                                                               \r"
     ]
    },
    {
     "name": "stdout",
     "output_type": "stream",
     "text": [
      "MAP: 0.1632\n",
      "\\n[14/49] Testing k1=1.0, b=1.0\n",
      "BM25 initialized with k1=1.0, b=1.0\n",
      "Average document length: 64.92\n"
     ]
    },
    {
     "name": "stderr",
     "output_type": "stream",
     "text": [
      "                                                                \r"
     ]
    },
    {
     "name": "stdout",
     "output_type": "stream",
     "text": [
      "MAP: 0.1541\n",
      "\\n[15/49] Testing k1=1.2, b=0.0\n",
      "BM25 initialized with k1=1.2, b=0.0\n",
      "Average document length: 64.92\n"
     ]
    },
    {
     "name": "stderr",
     "output_type": "stream",
     "text": [
      "                                                                \r"
     ]
    },
    {
     "name": "stdout",
     "output_type": "stream",
     "text": [
      "MAP: 0.1074\n",
      "\\n[16/49] Testing k1=1.2, b=0.2\n",
      "BM25 initialized with k1=1.2, b=0.2\n",
      "Average document length: 64.92\n"
     ]
    },
    {
     "name": "stderr",
     "output_type": "stream",
     "text": [
      "                                                               \r"
     ]
    },
    {
     "name": "stdout",
     "output_type": "stream",
     "text": [
      "MAP: 0.1434\n",
      "\\n[17/49] Testing k1=1.2, b=0.4\n",
      "BM25 initialized with k1=1.2, b=0.4\n",
      "Average document length: 64.92\n"
     ]
    },
    {
     "name": "stderr",
     "output_type": "stream",
     "text": [
      "                                                                \r"
     ]
    },
    {
     "name": "stdout",
     "output_type": "stream",
     "text": [
      "MAP: 0.1680\n",
      "\\n[18/49] Testing k1=1.2, b=0.6\n",
      "BM25 initialized with k1=1.2, b=0.6\n",
      "Average document length: 64.92\n"
     ]
    },
    {
     "name": "stderr",
     "output_type": "stream",
     "text": [
      "                                                                \r"
     ]
    },
    {
     "name": "stdout",
     "output_type": "stream",
     "text": [
      "MAP: 0.1698\n",
      "\\n[19/49] Testing k1=1.2, b=0.75\n",
      "BM25 initialized with k1=1.2, b=0.75\n",
      "Average document length: 64.92\n"
     ]
    },
    {
     "name": "stderr",
     "output_type": "stream",
     "text": [
      "                                                                \r"
     ]
    },
    {
     "name": "stdout",
     "output_type": "stream",
     "text": [
      "MAP: 0.1646\n",
      "\\n[20/49] Testing k1=1.2, b=0.8\n",
      "BM25 initialized with k1=1.2, b=0.8\n",
      "Average document length: 64.92\n"
     ]
    },
    {
     "name": "stderr",
     "output_type": "stream",
     "text": [
      "                                                                \r"
     ]
    },
    {
     "name": "stdout",
     "output_type": "stream",
     "text": [
      "MAP: 0.1646\n",
      "\\n[21/49] Testing k1=1.2, b=1.0\n",
      "BM25 initialized with k1=1.2, b=1.0\n",
      "Average document length: 64.92\n"
     ]
    },
    {
     "name": "stderr",
     "output_type": "stream",
     "text": [
      "                                                                \r"
     ]
    },
    {
     "name": "stdout",
     "output_type": "stream",
     "text": [
      "MAP: 0.1524\n",
      "\\n[22/49] Testing k1=1.4, b=0.0\n",
      "BM25 initialized with k1=1.4, b=0.0\n",
      "Average document length: 64.92\n"
     ]
    },
    {
     "name": "stderr",
     "output_type": "stream",
     "text": [
      "                                                                \r"
     ]
    },
    {
     "name": "stdout",
     "output_type": "stream",
     "text": [
      "MAP: 0.1098\n",
      "\\n[23/49] Testing k1=1.4, b=0.2\n",
      "BM25 initialized with k1=1.4, b=0.2\n",
      "Average document length: 64.92\n"
     ]
    },
    {
     "name": "stderr",
     "output_type": "stream",
     "text": [
      "                                                               \r"
     ]
    },
    {
     "name": "stdout",
     "output_type": "stream",
     "text": [
      "MAP: 0.1453\n",
      "\\n[24/49] Testing k1=1.4, b=0.4\n",
      "BM25 initialized with k1=1.4, b=0.4\n",
      "Average document length: 64.92\n"
     ]
    },
    {
     "name": "stderr",
     "output_type": "stream",
     "text": [
      "                                                                \r"
     ]
    },
    {
     "name": "stdout",
     "output_type": "stream",
     "text": [
      "MAP: 0.1642\n",
      "\\n[25/49] Testing k1=1.4, b=0.6\n",
      "BM25 initialized with k1=1.4, b=0.6\n",
      "Average document length: 64.92\n"
     ]
    },
    {
     "name": "stderr",
     "output_type": "stream",
     "text": [
      "                                                                \r"
     ]
    },
    {
     "name": "stdout",
     "output_type": "stream",
     "text": [
      "MAP: 0.1690\n",
      "\\n[26/49] Testing k1=1.4, b=0.75\n",
      "BM25 initialized with k1=1.4, b=0.75\n",
      "Average document length: 64.92\n"
     ]
    },
    {
     "name": "stderr",
     "output_type": "stream",
     "text": [
      "                                                                 \r"
     ]
    },
    {
     "name": "stdout",
     "output_type": "stream",
     "text": [
      "MAP: 0.1629\n",
      "\\n[27/49] Testing k1=1.4, b=0.8\n",
      "BM25 initialized with k1=1.4, b=0.8\n",
      "Average document length: 64.92\n"
     ]
    },
    {
     "name": "stderr",
     "output_type": "stream",
     "text": [
      "                                                               \r"
     ]
    },
    {
     "name": "stdout",
     "output_type": "stream",
     "text": [
      "MAP: 0.1616\n",
      "\\n[28/49] Testing k1=1.4, b=1.0\n",
      "BM25 initialized with k1=1.4, b=1.0\n",
      "Average document length: 64.92\n"
     ]
    },
    {
     "name": "stderr",
     "output_type": "stream",
     "text": [
      "                                                                \r"
     ]
    },
    {
     "name": "stdout",
     "output_type": "stream",
     "text": [
      "MAP: 0.1483\n",
      "\\n[29/49] Testing k1=1.6, b=0.0\n",
      "BM25 initialized with k1=1.6, b=0.0\n",
      "Average document length: 64.92\n"
     ]
    },
    {
     "name": "stderr",
     "output_type": "stream",
     "text": [
      "                                                                \r"
     ]
    },
    {
     "name": "stdout",
     "output_type": "stream",
     "text": [
      "MAP: 0.1082\n",
      "\\n[30/49] Testing k1=1.6, b=0.2\n",
      "BM25 initialized with k1=1.6, b=0.2\n",
      "Average document length: 64.92\n"
     ]
    },
    {
     "name": "stderr",
     "output_type": "stream",
     "text": [
      "                                                                \r"
     ]
    },
    {
     "name": "stdout",
     "output_type": "stream",
     "text": [
      "MAP: 0.1465\n",
      "\\n[31/49] Testing k1=1.6, b=0.4\n",
      "BM25 initialized with k1=1.6, b=0.4\n",
      "Average document length: 64.92\n"
     ]
    },
    {
     "name": "stderr",
     "output_type": "stream",
     "text": [
      "                                                                \r"
     ]
    },
    {
     "name": "stdout",
     "output_type": "stream",
     "text": [
      "MAP: 0.1619\n",
      "\\n[32/49] Testing k1=1.6, b=0.6\n",
      "BM25 initialized with k1=1.6, b=0.6\n",
      "Average document length: 64.92\n"
     ]
    },
    {
     "name": "stderr",
     "output_type": "stream",
     "text": [
      "                                                               \r"
     ]
    },
    {
     "name": "stdout",
     "output_type": "stream",
     "text": [
      "MAP: 0.1681\n",
      "\\n[33/49] Testing k1=1.6, b=0.75\n",
      "BM25 initialized with k1=1.6, b=0.75\n",
      "Average document length: 64.92\n"
     ]
    },
    {
     "name": "stderr",
     "output_type": "stream",
     "text": [
      "                                                                 \r"
     ]
    },
    {
     "name": "stdout",
     "output_type": "stream",
     "text": [
      "MAP: 0.1614\n",
      "\\n[34/49] Testing k1=1.6, b=0.8\n",
      "BM25 initialized with k1=1.6, b=0.8\n",
      "Average document length: 64.92\n"
     ]
    },
    {
     "name": "stderr",
     "output_type": "stream",
     "text": [
      "                                                                \r"
     ]
    },
    {
     "name": "stdout",
     "output_type": "stream",
     "text": [
      "MAP: 0.1592\n",
      "\\n[35/49] Testing k1=1.6, b=1.0\n",
      "BM25 initialized with k1=1.6, b=1.0\n",
      "Average document length: 64.92\n"
     ]
    },
    {
     "name": "stderr",
     "output_type": "stream",
     "text": [
      "                                                               \r"
     ]
    },
    {
     "name": "stdout",
     "output_type": "stream",
     "text": [
      "MAP: 0.1434\n",
      "\\n[36/49] Testing k1=1.8, b=0.0\n",
      "BM25 initialized with k1=1.8, b=0.0\n",
      "Average document length: 64.92\n"
     ]
    },
    {
     "name": "stderr",
     "output_type": "stream",
     "text": [
      "                                                                \r"
     ]
    },
    {
     "name": "stdout",
     "output_type": "stream",
     "text": [
      "MAP: 0.1076\n",
      "\\n[37/49] Testing k1=1.8, b=0.2\n",
      "BM25 initialized with k1=1.8, b=0.2\n",
      "Average document length: 64.92\n"
     ]
    },
    {
     "name": "stderr",
     "output_type": "stream",
     "text": [
      "                                                                \r"
     ]
    },
    {
     "name": "stdout",
     "output_type": "stream",
     "text": [
      "MAP: 0.1459\n",
      "\\n[38/49] Testing k1=1.8, b=0.4\n",
      "BM25 initialized with k1=1.8, b=0.4\n",
      "Average document length: 64.92\n"
     ]
    },
    {
     "name": "stderr",
     "output_type": "stream",
     "text": [
      "                                                               \r"
     ]
    },
    {
     "name": "stdout",
     "output_type": "stream",
     "text": [
      "MAP: 0.1624\n",
      "\\n[39/49] Testing k1=1.8, b=0.6\n",
      "BM25 initialized with k1=1.8, b=0.6\n",
      "Average document length: 64.92\n"
     ]
    },
    {
     "name": "stderr",
     "output_type": "stream",
     "text": [
      "                                                                \r"
     ]
    },
    {
     "name": "stdout",
     "output_type": "stream",
     "text": [
      "MAP: 0.1685\n",
      "\\n[40/49] Testing k1=1.8, b=0.75\n",
      "BM25 initialized with k1=1.8, b=0.75\n",
      "Average document length: 64.92\n"
     ]
    },
    {
     "name": "stderr",
     "output_type": "stream",
     "text": [
      "                                                                 \r"
     ]
    },
    {
     "name": "stdout",
     "output_type": "stream",
     "text": [
      "MAP: 0.1629\n",
      "\\n[41/49] Testing k1=1.8, b=0.8\n",
      "BM25 initialized with k1=1.8, b=0.8\n",
      "Average document length: 64.92\n"
     ]
    },
    {
     "name": "stderr",
     "output_type": "stream",
     "text": [
      "                                                                \r"
     ]
    },
    {
     "name": "stdout",
     "output_type": "stream",
     "text": [
      "MAP: 0.1613\n",
      "\\n[42/49] Testing k1=1.8, b=1.0\n",
      "BM25 initialized with k1=1.8, b=1.0\n",
      "Average document length: 64.92\n"
     ]
    },
    {
     "name": "stderr",
     "output_type": "stream",
     "text": [
      "                                                               \r"
     ]
    },
    {
     "name": "stdout",
     "output_type": "stream",
     "text": [
      "MAP: 0.1415\n",
      "\\n[43/49] Testing k1=2.0, b=0.0\n",
      "BM25 initialized with k1=2.0, b=0.0\n",
      "Average document length: 64.92\n"
     ]
    },
    {
     "name": "stderr",
     "output_type": "stream",
     "text": [
      "                                                               \r"
     ]
    },
    {
     "name": "stdout",
     "output_type": "stream",
     "text": [
      "MAP: 0.1076\n",
      "\\n[44/49] Testing k1=2.0, b=0.2\n",
      "BM25 initialized with k1=2.0, b=0.2\n",
      "Average document length: 64.92\n"
     ]
    },
    {
     "name": "stderr",
     "output_type": "stream",
     "text": [
      "                                                                \r"
     ]
    },
    {
     "name": "stdout",
     "output_type": "stream",
     "text": [
      "MAP: 0.1456\n",
      "\\n[45/49] Testing k1=2.0, b=0.4\n",
      "BM25 initialized with k1=2.0, b=0.4\n",
      "Average document length: 64.92\n"
     ]
    },
    {
     "name": "stderr",
     "output_type": "stream",
     "text": [
      "                                                                \r"
     ]
    },
    {
     "name": "stdout",
     "output_type": "stream",
     "text": [
      "MAP: 0.1614\n",
      "\\n[46/49] Testing k1=2.0, b=0.6\n",
      "BM25 initialized with k1=2.0, b=0.6\n",
      "Average document length: 64.92\n"
     ]
    },
    {
     "name": "stderr",
     "output_type": "stream",
     "text": [
      "                                                                \r"
     ]
    },
    {
     "name": "stdout",
     "output_type": "stream",
     "text": [
      "MAP: 0.1631\n",
      "\\n[47/49] Testing k1=2.0, b=0.75\n",
      "BM25 initialized with k1=2.0, b=0.75\n",
      "Average document length: 64.92\n"
     ]
    },
    {
     "name": "stderr",
     "output_type": "stream",
     "text": [
      "                                                                 \r"
     ]
    },
    {
     "name": "stdout",
     "output_type": "stream",
     "text": [
      "MAP: 0.1609\n",
      "\\n[48/49] Testing k1=2.0, b=0.8\n",
      "BM25 initialized with k1=2.0, b=0.8\n",
      "Average document length: 64.92\n"
     ]
    },
    {
     "name": "stderr",
     "output_type": "stream",
     "text": [
      "                                                                \r"
     ]
    },
    {
     "name": "stdout",
     "output_type": "stream",
     "text": [
      "MAP: 0.1595\n",
      "\\n[49/49] Testing k1=2.0, b=1.0\n",
      "BM25 initialized with k1=2.0, b=1.0\n",
      "Average document length: 64.92\n"
     ]
    },
    {
     "name": "stderr",
     "output_type": "stream",
     "text": [
      "                                                                "
     ]
    },
    {
     "name": "stdout",
     "output_type": "stream",
     "text": [
      "MAP: 0.1396\n",
      "\\n=== Parameter Tuning Complete ===\n",
      "Best parameters: k1=0.8, b=0.6\n",
      "Best MAP: 0.1714\n"
     ]
    },
    {
     "name": "stderr",
     "output_type": "stream",
     "text": [
      "\r"
     ]
    }
   ],
   "source": [
    "def evaluate_bm25_parameters(corpus_df, queries_df, qrels_df, k1_values, b_values, \n",
    "                           sample_size=50, top_n=100):\n",
    "    \"\"\"\n",
    "    Evaluate BM25 with different parameter combinations and return the best parameters.\n",
    "    \n",
    "    Args:\n",
    "        corpus_df: DataFrame with processed documents\n",
    "        queries_df: DataFrame with processed queries\n",
    "        qrels_df: DataFrame with relevance judgments\n",
    "        k1_values: List of k1 values to test\n",
    "        b_values: List of b values to test\n",
    "        sample_size: Number of queries to use for evaluation (for speed)\n",
    "        top_n: Number of top documents to retrieve\n",
    "    \n",
    "    Returns:\n",
    "        best_params: Dictionary with best k1 and b values\n",
    "        results_grid: Grid of results for visualization\n",
    "    \"\"\"\n",
    "    \n",
    "    # Create relevance mapping\n",
    "    relevant_docs = qrels_df.groupby('query_id')['doc_id'].apply(list).to_dict()\n",
    "    query_id_to_text = pd.Series(queries_df.processed_text.values, \n",
    "                                index=queries_df.query_id).to_dict()\n",
    "    \n",
    "    # Select queries with sufficient relevance judgments for evaluation\n",
    "    rel_counts = qrels_df.groupby('query_id').size()\n",
    "    rich_queries = rel_counts[rel_counts >= 3].index.tolist()\n",
    "    \n",
    "    if len(rich_queries) > sample_size:\n",
    "        # Randomly sample queries for faster evaluation\n",
    "        np.random.seed(42)  # For reproducibility\n",
    "        eval_queries = np.random.choice(rich_queries, sample_size, replace=False)\n",
    "    else:\n",
    "        eval_queries = rich_queries\n",
    "    \n",
    "    print(f\"Evaluating on {len(eval_queries)} queries with {len(k1_values)} k1 values and {len(b_values)} b values\")\n",
    "    print(f\"Total combinations: {len(k1_values) * len(b_values)}\")\n",
    "    \n",
    "    # Grid search\n",
    "    results_grid = {}\n",
    "    best_map = 0\n",
    "    best_params = {'k1': 1.2, 'b': 0.75}\n",
    "    \n",
    "    total_combinations = len(k1_values) * len(b_values)\n",
    "    combination_count = 0\n",
    "    \n",
    "    for k1 in k1_values:\n",
    "        for b in b_values:\n",
    "            combination_count += 1\n",
    "            print(f\"\\\\n[{combination_count}/{total_combinations}] Testing k1={k1}, b={b}\")\n",
    "            \n",
    "            # Initialize BM25 with current parameters\n",
    "            bm25 = BM25Model(corpus_df, k1=k1, b=b)\n",
    "            \n",
    "            # Evaluate on sample queries\n",
    "            results = {}\n",
    "            for qid in tqdm(eval_queries, desc=f\"k1={k1}, b={b}\", leave=False):\n",
    "                query_terms = query_id_to_text[qid]\n",
    "                ranked_list = bm25.rank_documents(query_terms, top_n=top_n)\n",
    "                results[qid] = [doc_id for doc_id, score in ranked_list]\n",
    "            \n",
    "            # Calculate MAP\n",
    "            map_score = mean_average_precision(results, relevant_docs)\n",
    "            \n",
    "            # Store results\n",
    "            results_grid[(k1, b)] = {\n",
    "                'MAP': map_score,\n",
    "                'k1': k1,\n",
    "                'b': b\n",
    "            }\n",
    "            \n",
    "            print(f\"MAP: {map_score:.4f}\")\n",
    "            \n",
    "            # Update best parameters\n",
    "            if map_score > best_map:\n",
    "                best_map = map_score\n",
    "                best_params = {'k1': k1, 'b': b}\n",
    "                print(f\"*** New best MAP: {best_map:.4f} with k1={k1}, b={b} ***\")\n",
    "    \n",
    "    print(f\"\\\\n=== Parameter Tuning Complete ===\")\n",
    "    print(f\"Best parameters: k1={best_params['k1']}, b={best_params['b']}\")\n",
    "    print(f\"Best MAP: {best_map:.4f}\")\n",
    "    \n",
    "    return best_params, results_grid\n",
    "\n",
    "# Define parameter ranges for tuning\n",
    "k1_values = [0.8, 1.0, 1.2, 1.4, 1.6, 1.8, 2.0]\n",
    "b_values = [0.0, 0.2, 0.4, 0.6, 0.75, 0.8, 1.0]\n",
    "\n",
    "print(\"Starting BM25 parameter tuning...\")\n",
    "print(f\"k1 values: {k1_values}\")\n",
    "print(f\"b values: {b_values}\")\n",
    "\n",
    "# Run parameter tuning (this will take some time)\n",
    "best_params, tuning_results = evaluate_bm25_parameters(\n",
    "    corpus_df, queries_df, qrels_df, \n",
    "    k1_values, b_values, \n",
    "    sample_size=100,  # Use fewer queries for faster tuning\n",
    "    top_n=100\n",
    ")\n"
   ]
  },
  {
   "cell_type": "code",
   "execution_count": 7,
   "metadata": {},
   "outputs": [
    {
     "data": {
      "image/png": "iVBORw0KGgoAAAANSUhEUgAABFgAAAMWCAYAAADF9jI3AAAAOXRFWHRTb2Z0d2FyZQBNYXRwbG90bGliIHZlcnNpb24zLjkuMiwgaHR0cHM6Ly9tYXRwbG90bGliLm9yZy8hTgPZAAAACXBIWXMAAA9hAAAPYQGoP6dpAAEAAElEQVR4nOzdd1hTVx8H8O8NG0VFUFTcCxUciIpb6/Z1rzqquG2tVVv3asVdHK2t1i2469571K0VNy5QUXGgLGXJJvf9I3BNTBghQEL9fp4nj+bem5tzOCfn5v5yhiCKoggiIiIiIiIiIsoymb4TQERERERERESU1zHAQkRERERERESkIwZYiIiIiIiIiIh0xAALEREREREREZGOGGAhIiIiIiIiItIRAyxERERERERERDpigIWIiIiIiIiISEcMsBARERERERER6YgBFiKiPCYpKUnfSSDKEtZdoszj54WIKO8x1ncCiP7r9u7di6lTp2rcZ2RkBDMzM9jY2KBu3boYOXIkSpcurXLMtWvX4ObmprKtRYsWWLlypdr5OnTogKdPn6psO3PmDEqWLCk9f//+PdatW4ezZ8/i9evXMDY2RtmyZdGhQwe4ubnB1NRU5fXv3r1Ds2bN0s3jrVu3kC9fvnSPadGiBd68eaOyTRAE6W9QuHBhNGzYECNGjFBJL6k6evQotm7diq1bt+rl/QcMGABvb+9MH29vb49//vknB1OkSvnzVq9ePWzevDnX3jszNH0OUhkZGcHS0hLFixeHq6srhg8fDjs7u1xOYdYot1Oayvz58+f49ddfMXToUNSrVy9L7/HTTz/h6NGj6NOnD2bNmqVzmgHN7fOAAQMwY8YMlW3JycmoV68eoqOjVbb7+fmlee79+/dj8uTJ0vNp06Zh4MCBaR4/ZcoU7Nu3T227kZERTE1NUaBAATg6OmLo0KGoU6dOuvlSFh8fj7///hunT5/Gs2fPEBERAXNzc5QsWRL169dH//79UapUqUyfLy9T/vwtWLAA3bt3VztGuU7kdvuVKjs+L0REpB/swUKkR8nJyYiJicGrV6+wd+9e9OjRA76+vhm+ztvbG8nJySrbgoOD1YIrn3v27Bk6deqE9evX49mzZ0hISEBMTAwePnyIRYsWYfDgwYiPj1d5zcOHD7XPWCaJooikpCR8/PgRr169wo4dO9CzZ89M/Q2+NMHBwfjmm2/w008/4e3bt/pODuWA5ORkREVF4fHjx9i8eTO6dOmCFy9e6DtZOvvjjz/QqVMnnDt3DqIoZvk8devWBQCtAnxZcfXqVbVt9+7dUwuuZGT37t0qz3ft2pWl9CQnJyM2NhZBQUH4559/4Obmhv3792fqtUFBQejUqRMWLFiA69evIywsDElJSYiOjoavry82bNiATp064cyZM1lKG2W/7Pq8EBGRfrAHC1Euyp8/P/r27QtAEVxITk5GWFgYTp8+jZiYGERGRmLWrFn4+++/0z1PdHQ0fHx84OzsLG37999/M3z/GTNmIDQ0FABQtGhRtGzZEu/fv8epU6cgl8tx48YNrFq1CmPHjpVe8+jRI+n/HTp0QIkSJdTOa2JikuF7K2vWrBkqV64MuVyO+Ph4PHz4ELdu3QIAfPjwAb/88gt27typ1Tn/654/f44bN27oOxno2LEjatasqbJt7dq1KvuLFy8uPS9QoECupQ0AKleujOHDhwOAwf8qn/o5AD4FG589e4YLFy4AUHwWfv31V6xatUqfydTZgQMHkJiYqPN5Un/Jf/bsGUJDQ2Fra6vzOTV5+vQpgoODUbRoUWmbpqBLel68eIHr16+rbHvy5Alu3rwJFxeXDF9fuXJlqedgfHw8Xr9+jYsXLyIxMRHJycmYNWsWmjZtisKFC6d7nkmTJiEgIAAAYG5ujmbNmqFYsWIICwvDP//8g5iYGMTGxmLChAk4fvx4nukx9V+WXZ8XIiLSDwZYiHJRwYIFMWHCBLXtV69exaBBgwAohttER0cjf/78asdZWFggNjYWAHDlyhWVAIvyDYClpSViYmJUXhsQEICbN29K59m9e7f0ZdrLywu//vorAODQoUMqARbl3iRjxoxB2bJltcmyRu3atVPrmv3bb79h9erVAIC7d+/i8ePH0s0nGY7evXurbVMOsHz99ddwdXXNzSSpcHJygpOTk97eXxuaPgcA8Pvvv0tBlfPnzyMhIUFt6N6XqGLFiihcuDDev38Pb29v/O9//8vW83/evnbt2lXal9q+ampbNdmzZ4/0/4IFCyIiIgIAsHPnzkwFWBwdHdWuFRcvXsSwYcMAADExMTh69Cj69++f5jkCAwOlwLupqSmOHj0Ke3t7af/z58/RvXt3xMTEICYmBkeOHMGQIUMyTBsRERGljUOEiAyAcqAEAORyucbjqlSpAgsLCwDqv6heu3YNAFC2bFlYW1urvTYwMBD29vYwNTWFk5OTyi+VjRs3lv7/7t07ldel9mAxMTHJ0R4BgwcPVnn+8uVL6f+iKGLr1q3o3bs3XFxcULVqVdSuXRvdu3fHpk2b1IZLtWjRAg4ODnBwcMCbN28wYsQIVK9eHa6urtKcHNqeM/V8TZs2RVJSEtasWYPWrVujRo0a6NSpE44cOQIAiIiIgLu7Oxo1aoRatWqhR48eOHHihMY8h4SEYM6cOWjRogWcnJzQqFEjjB49Gnfv3lU5bsqUKSrz8Lx58wYODg5o0aKFynEBAQGYMmUKGjduDCcnJzRt2hSTJk2Cv7+/2ntPmTJFytPZs2cxb948uLi4wNnZGePHj9eY3qwaMGCA9F579+5V2bd3715p34ABA1T2pW5v1KgRAMUQiy5duqBGjRpo3LgxZs2ahQ8fPmTqfK9fv5a2f/3110hOTsa6devQrl07VK9eHS1atMBvv/2GuLg4tfQnJCRgzZo1KscuX74ciYmJaN26tXTe7FK7dm3p/3K5HOHh4Sr7M1tvUl27dg2jRo2S6kWNGjXQtm1bzJo1C0FBQWrHp+bHwcEBr1+/VtmnXG+WLVuWbj6uXbsmfQZTubm5wcHBQWqvRFHE7t270b9/f9SrVw/VqlWTPoerVq1SK4/0hgllpb4oSytgHR8fj9u3bwNQLZu0JCUlqcylkhq8BoDjx48jMjIyw3No0qRJE5Wgc2rPlLQEBwdL/0+d30dZuXLlMGjQIDRo0AANGjSAsbH6b24vX77EjBkz0KJFC1SvXh2NGzfGgAEDcPTo0TSvUxcvXsSoUaPQtGlTODk5oUmTJhg3bhx8fHzUjlX+vC5evBi7d+9Gs2bNUL16dXTs2FEKZsnlcmkIaa1atVC7dm306tULW7duzfWJYKOiovD777+jbdu20nVl2LBhUs8zTccvWbIE//vf/1CzZk1Uq1YNrq6uGDRoEM6fPy8dl5nPi/K1LSkpCTt37kTHjh1Ro0YNtGnTBlu2bAEAxMXF4bfffkPz5s1Ro0YNdOzYETt27NCYvkuXLmH48OFo0KABqlWrJrUP8+fPV6urn183bt68iUGDBsHZ2Rmurq746aefVK7dRERfIvZgITIAFy9elP5fpUqVNIdVmJiYwNnZGVeuXMGdO3cQExMDS0tLvHz5UvpS5urqikuXLqm9tkGDBtJkfam/0qZS/kKnHJyJjo6WbrAsLCwwYsQI3L59GzKZDLVr18aoUaPUhotkF+Wx5/Pnz8emTZtU9n/8+BEPHjyQHh4eHhrP8/3330u9cBISElChQgWdzimXy/HDDz/g7Nmz0rbHjx9j3LhxCA0NxdatW1VufO7fv48xY8Zg2bJlaNOmjcprBg8eLA3ZAoDQ0FCcPHkSp0+fxuzZs9GrV68M/06p/v33X4wcOVLl1/WgoCAcOHAAx48fx7Jly9KcrHjp0qUqPZUMcZJhd3d3laFzISEh2LZtG+7evYudO3dqvDlMS3JyMkaNGqVShm/evMHq1avx5MkTlQmkExMTMWLECJUb7jdv3mDZsmW4c+eOWiAuO1y5ckX6f758+VSGgWhbbw4fPowJEyaozeXw4sULvHjxAufOncO2bdtUhnXlppkzZ6rd+Cl/Dq9fv45Vq1ZJwxDr1q2LEydOZDgPS1bqi52dHcqUKYOAgACV8r516xYSEhIAKIYpaWpflZ0/fx4hISEAgDp16qBFixZwdnbG7du3ERcXhwMHDqgFE7Mio/k5SpcuDSMjI2kOlx49eqBfv35o0aIFypcvDwAqvRU/d+nSJYwePVqlTQkJCUFISAi8vb1x7do1lcmGRVHUOMQ1ODgYR44cwbFjxzBx4sQ0e8lcuHBBpTeclZUVLC0tkZSUhDFjxqjNE+Pj4wMfHx+cOXMGq1atypVeXkFBQXBzc1OZGykhIQEXL16UAktjxoyR9sXFxWH48OFSgC5VeHg4rl69iqtXr2L+/Pno0aOH1mmZNWuWylDagIAAzJkzB2FhYbh8+bJKwPXJkyf45ZdfEBMTo/JjxsmTJzF27FiVYFlycrLUPly6dAl79uyRfthR9s8//2DPnj1SG5jaq+ry5cvYtGkTqlSponWeiIj+CxhgIcpFERERWLx4sfQ8OTkZb968kQIfJiYmaqtXfK5evXq4cuUKEhMTcePGDTRt2lTlZiAzNwDKX5bkcrnKl9qGDRtK//f19ZW+xEdGRqqc9/z587hy5QoWL16Mdu3apft+meHl5aXyPPUGwM/PTwqEmJiYoH379rC2tsaDBw+kOUkOHDiAyZMna5yPwNfXF3Xr1kWlSpVw9+5duLq66nTOkJAQnD17FvXq1UO5cuVw+vRphIWFAVAEbQBFjyB7e3scOXJEmhhz7dq1UoAl9YYh9SbZ3t4eTZs2RWBgIM6fPw+5XI5Zs2ahZs2a0lwMiYmJOHz4MIBPc/mkBuLCw8Px448/SjdCFStWhKurKx4/fozr168jPj4eEyZMwLFjxzTOW+Hr64uyZcuicePGuH37Njp06JDJUssdoaGh+Pvvv1G1alXUqVMH169flwJCDx48wLVr16ReC5lx//59AICLiwuqVauGc+fO4dWrVwAUNw0vXryQhsJ5eXmpfL5cXFxQuXJl3LhxQyUwmhXHjx/Hs2fPACg+h3FxcfD391eZT6l3795SMEDbegMoek+kfoZdXV3h4OCAuLg4nDp1Ch8+fEBgYCCWLl2aZoBSFyVKlMDw4cPx999/S5+D1Dl6SpQogWfPnknBFRMTE7Ro0QIlSpRAUFAQTp06hcTERFy6dAkHDx6UbkBTe7D4+/sjLCwMNjY2au+rS32pV68eAgICEBQUBH9/f1SoUEGtfc2I8uS23bp1AwD07NlTusneuXNnlgIsly5dwuPHj6XnqW1kWgoXLowePXpIN+Fv3rzBokWLsGjRIhQtWhSurq5o0aIFWrZsCTMzM5XXvn//HuPGjZPalNKlS6NRo0YIDQ3FmTNnIJfLsX37djRp0gStWrUCAGzYsEEluFKnTh1UrlwZd+/exYMHDyCXy+Hh4QF7e3u0bdtWLb1+fn6wsrJChw4d8PbtWykgvHr1aim4YmJigjZt2iBfvnw4ceIEIiIicPnyZSxfvhzjxo3T6u+p/PlTpvw3/tykSZOk4ErhwoXRqlUrREZG4tSpU0hOTsZff/2F2rVrS71Cd+3aJZW7jY0N2rZtC0EQcOnSJSkQv2HDBvTo0SPDz8vndu7cCUdHR9SoUQMXLlyQfihZsWIFAEWPrKpVq+LUqVNSwG/dunVSgCUxMRGzZ8+WgiuNGzdGxYoV8fbtW5w+fRrJycnw9/fHhQsXNJbXzp07YWFhgdatWwNQBGvi4uIQERGB8ePH4/DhwxAEIb0iICL6T2KAhSgXRUdHqwQzPjdz5kzpBiItyl/wr169qjHAklmiKOKXX36RggpGRkYqvy4qT3BrYmKCVq1aoVChQtKXucTEREydOhUuLi4oUqRIpt839YutKIr4+PEjHj16hDt37kj7a9euLfU0iY+PR79+/eDn54du3bpJv86Looi2bdsiICAAoiji9evXGgMsTk5O2LRpE2SyTyMidT1nx44dsWTJEgBA06ZNMWrUKGmf8hKvrq6u0pd+5WE6p06dwvPnzwEohnTt3btXWuZ63bp1WLRoERITE7Fp0ybMnTsX7du3R+HChaUAy+dz+ezevVsa+lC3bl14eXlJv/jPmjUL27ZtQ2RkJHbt2oWRI0eq5cfc3Bxbt27NsUlDs0Pz5s2xcuVKyGQyxMXFoXXr1tIQiCdPnmgVYAGgstTvd999hxYtWkgraD19+lQKsGzbtk16jXLZJiYmYuTIkToFWc6fP68yROBzHTp0wE8//SQ917bexMfHSzdWxYsXx8aNG6UbnmHDhmH27NmoUKECqlWrluU8pKdUqVKYMGECjh49Kt0wKs/Rozykon379li0aJH0/OjRozhy5AgqVqyo0qPKwcEBhQoVQnh4OK5du5bmPCxZrS/16tWTVvu5evWqSoDF0tIS1atXTzfPISEhUr4sLS3Rvn17KX/z5s1DTEwMHj9+jNu3b6sNDVX24MEDKRgfFxeH169fq/y9rKysMhXY/vnnnxEeHo6TJ0+qbA8ODsahQ4dw6NAh2NraYtasWVKgBFDcPKfOG1OjRg1s2rRJCsyvXLkSS5cuhYWFBby9vdGqVSvExsbir7/+kl4/btw4fPvttwAgBf62b98OAPDw8ECbNm003nx7eHigZcuW0vOEhARs2LBBer5y5Uo0adIEADBixAh07twZMTEx2Lp1K0aOHKmxp0VaMvr8fc7Hx0cKfhYqVAj79++XhtoeO3YMP/74IwBg/fr1UoDFxsYGXbt2xePHj7Fw4UJUqlQJAPD27Vs0b94cAKTgbkafl8/VrVsXGzduhJGRER49eqQyZ1CLFi2wYsUKCIKALl26SHNnhYaGIjw8HIUKFUJERAS6dOkCX19f2NvbY/bs2dLrp02bJs0jlJq+zxkbG2Pr1q1wdHQEAPTt2xf9+vWDKIp4+vQprl69qvKDDRHRl4IBFiIDMmPGDNy6dQtz5sxJc8hDjRo1pMkYr1y5AlEUVeZfUV75Ij1yuRwzZsxQmYxxxIgRKnNJ1K5dG+PHj0dAQAD69++PqlWrAlAEirp06YLXr18jJiYG+/btw4gRIzKdz/S+2BYrVkxlzoIaNWqgRo0a0vPExET4+fnh33//RVRUlLT98+WlU7Vv314luJId51SemLRcuXIq+5QngVXuIq3czV45INa5c2fpJjn13Kk3mspDRdKjfL6ePXuqrOrUvXt3KUhw5coVjQEWV1dXgw6uAIq5CFLL0dzcHDVq1MDp06cBKIaUaEu5m7ytrS3Kly8vBRRTb24CAwNVlsT+/vvvpf+bmJjg+++/17kXy+cEQYCbmxu6dOki3bik0rbemJmZoUKFCvD398fbt2/Rvn17fPXVV3BxcYGLiwvWr1+frWnXloODA4yNjZGUlISDBw8iMDAQjRs3Ru3atdGiRQuNwRNBEODi4oIzZ87g+vXraQZYslpflG9mr1y5gi5duuDBgwcAFO1hRkPR9u3bJ80JktrTAlAM9frf//4n9W7ZuXNnugGWx48fp9mTwtTUFB4eHhmuIJR67LJly3Dt2jXs3r0bFy9eVJuHJjQ0FKNHj8bq1avRtGlTAJ/m9AIUN/nKgYsBAwagTZs2KFeunPQ3vnz5stR22tvbS5PxAoBMJsPEiRNx4MABxMbG4s2bN3j06JFaYC9fvnz46quvVLY9fPhQmgekVKlSUnAl9Xm9evVw7tw5aWW9nJxgW7lnWcuWLVXmMWvfvj2mTZuGmJgYXL9+XZqY+n//+59KHY2Ojsa9e/dw+fJlaZumeZ8yo3PnzjAyMgKg3pupd+/eUgDr86E6MTExKFSoEGxtbTFx4kRpuyiKCAgIwI0bN1R+XEkrfa1atVJpo1J77qS2ibdu3WKAhYi+SAywEOUie3t7aTgQoPh1Ljw8HBcuXMCcOXMQFxeHvXv3oly5cmkGLJTnYUkNCrx//x4AMv3lMikpCZMnT5Z6RACKL4jKY8cBxUoWn9/kAYohKt26dZMmubx3716m3lcTIyMj5M+fH8WLF0ezZs0wePBgtUl6P3z4gJ07d+LcuXO4f/++NB+CsrQmXFReNSO7zlmsWDHp/5+P+1f+tV25273yfAnKN+1//vkn/vzzT43v8+bNG8TGxmb4q6zy+SZPnozJkydrPE7TZLdA2n+j3JDW3/hzyn9zACrBhcyeQ9nnc45oOp/yJKGFChVSu6GtWLGi1u+rbMGCBejYsSMeP36MX375BQ8ePIAoijh16pTG1ZqyUm8WLFiAESNGIDw8HM+fP8fz58/h6ekJQRDg5OSEnj17omfPnpmewyYrf+u02NnZ4eeff8acOXOQlJSEGzduSL3pTE1N0bBhQ/Tv31/lphpQ9DI5c+ZMuvOwZLW+KM/D4u3tjatXr0pzTGSmfVUOWN+7d09aHQ6Ayrw5x44dw7Rp02BlZZXhOWUyGSwsLFCkSBHUrl0bQ4cO1bruubq6wtXVFaIowtfXF//++y9OnTolrSwnl8vx22+/SQEW5cnOP28f8ufPr7bKnfK8Uw4ODtKNv/JrSpcuDT8/P+n4zwMsxYsXVwuGBwYGSv9/9epVupNJ+/v7axVgWbBggcZVvPbu3YupU6eqbVdOy549e1TKWlliYiJevXol9cL09/fHjh07cPXqVTx9+lSt/mU0l05alAM86V2HzM3NVfYpv39SUhIOHDiAkydP4tatWxonYE4rfZ//uAAAFSpUkAIsqb3niIi+NAywEOmRqakpihYtip49eyIgIABr1qwBoBjykV6PkLp160q9V37//Xdpe2a+XCYnJ2P8+PE4fvy4tK1jx47w8PBQ+3KbHuW5D7TtQZDWF1tNXrx4gW+++Ua6OXFycoKrqytq166NVatWZRjc0bTcta7nVA6cfN7N/fMvs5oof8HNnz9/uq+JiYnJMMCiPNFqwYIFVXqwKEtrEkhNf6Oc8vnNRWJiYqZe9/kcEdrU1ayeT/nGIjsDC8pSV/Vat24dOnfujJCQEAQGBmLgwIE4cOCAyucsK/WmZs2aOHXqFA4cOIDTp09LE7aKooh79+7h3r17OHfuHFauXKlxyMbnN1eZLa/M6tOnDxo2bIh9+/bh3LlzePToEURRREJCAs6dO4dz585h0qRJGDp0qPSa1GGUT58+xfv37zX25NClvtStWxcBAQGIiorCunXrpO0ZDb+8fv26yuSn/v7+aQY1Y2NjcfDgQXzzzTca93fr1k2lJ19W+Pj44MWLFwgNDUXt2rVRq1YtCIKAqlWromrVqhg8eDC8vLyk93n06JHGgG5mVunJTIBOuS5pqmua2iHlOm9iYoKCBQumef6cmHA6rbRYWlqqrcqkLHUi+ePHj2PChAlITEyEiYkJGjZsiDp16sDZ2RkDBw7UKT3Kn//P/56f139N4uLiMGjQIGmOGHt7e7Rv316akDmtVYdSaerhqXzt4fwrRPSlYoCFyEAo/+L6+VLJn1P+oq+8UkBm5l9xd3dXCa58/fXXmDVrlsYbkNQVcd69e4fx48ejTJkyGtOo/Etadlu6dKkUCFEe1w8Aq1atyvD1moINup4zPZn5Uqk8jGvEiBEq7y+Xy7UOHtjZ2Uk3dr/88gs6duwo7UtOTlb7NflzaQVksotyfj7vbp7esrn6plxOkZGRapOqpjcZprYKFy6MmTNn4ocffgCg+PX3l19+UZnXIqv1xtLSEh06dMCAAQOQkJCAe/fu4erVq1i1ahUSExNx9uxZ3L17F7Vq1QKgKK/Um8nPVxzLifIqUqQIhg4dirFjxyIyMhK3b9/GsWPHpKWOly1bhsGDB0v5q1q1KqysrBAVFYVr165J85xkl3r16klDeVLbV0tLSzg5OaX7OuXJbTNj586daQZYssPmzZtx8OBBAEDbtm019niqX7++yvP4+HhYWFigWLFi0gSwz58/l3q2AIrJ2pctW4aKFSuiYsWKqFOnjkovFz8/P7X6GB0drTKXR+ocR8o0tUPK1xZ7e3u1Je8z075lF+XPX6dOnVTmLAHUP4NyuRxz586VgpKbN2+WhoV9/rnKbpm5Du3du1cKrjRp0gRr1qyR0v/kyZMMX6+p/VMOMObk9wIiIkOm20+ARJQt5HK5ytCh0qVLp3t86jwsysqVK5fhRLM7duxQWdaxe/fumD17dpo3ZqdOncLGjRtx4sQJlfkaIiIisHfvXun55134s5Py8sGFChVS2a68L60eBpq+aOp6Tl0p9zTas2ePNOcHAGzZsgW1a9dGr1698Mcff0jblW8iPu9FoBxY27Ztm8pwp4ULF6JevXro168ftmzZojE9Of1Lo/Kvzspf3BMTE6V5MQyRvb29yuodyss3x8fHq5RPdmjdurXKUt6nT59W+ftoW2+uX7+Ojh07olatWujVqxeio6NhamoKFxcXjBo1SmUYgfLwI+Vl4p8+fSr9/927dyoB3cxSbl+Ue0Ns2LBBWsJ42rRp0ns3a9ZMZXLf2NhYhIeHq5zPxcVFymN209QTMKP5V6KiolRu/vft2wc/Pz+1x7lz56TPm6+vb5b+npmlvCz7yZMn1Sa6TUpKgqenp/Tczs5Oag+V25Tdu3er1LV9+/Zh8+bNmDlzprRyWoMGDaRr0ps3b1SuF6IoYsmSJVJQoXTp0hqH+mhqh5ycnKSeIqnLiqcKDg5GvXr10LZtW/zwww8ICgpK/w+iI+V6ceLECZUfGc6cOQNnZ2d069YNM2fOhCiKCAsLUxkmo3ytOXDggMq5la81aX1espvyta5gwYLS+0ZFRal8H0nrOnj58mWVuXr8/PxUJmKuU6dOdieZiChPYA8Wolz0+TLNoigiPj5ebVI55dUANDE1NUWtWrW0Wj0oJiYGv/32m/RcJpMhf/780mo4ylJXqOnfv7/0Hjt27IC/vz8qVaqE8+fPS/NTODg4qNwUZrciRYpIK6fMnz8fPj4+iI+Px8mTJ1UCDWlNSJtb59RG27ZtsXTpUrx9+xYBAQHS5KMfP37EiRMnkJiYCB8fH2mJV0C1+3xwcLA0z4qHhwe+/vpreHp64uPHj7h58yY6deqEhg0bIjg4WLpBv3nzpkqPh9zk4OAg3Xzu3r0bVlZWsLe3x4EDB6QJRA1Vv379pM/s5s2b4evri4oVK+Lq1asqv9ZmlxkzZuDKlSvSDe38+fPRuHFjmJuba11vnJycEBISgsTERLx+/RqdO3dGkyZNYGJiglu3bkmfAWNjY9SsWVNKQ5UqVaQJPefOnYugoCDI5XJs3rxZZbLmzFKuu0uWLMGRI0fw9ddfw9nZGQsWLACguGHt1asXatWqhfj4eJVJsMuVK6c2DKhu3bo4d+5cuvOwZFWxYsVQunRpvHz5UtqW0fDLw4cPqwQQ0lqZqXjx4nBxcZHmmtmxY4fK3z47tW3bFqtWrcKTJ08giiJGjx6NevXqoXLlyoiNjYW3t7dKrxLlFeS+/vprrF+/HlFRUXj8+DE6deqEJk2aIDw8XCXol7rcdL58+TBw4ECpB+DixYtx4cIFVKpUCXfu3FH5nE+ePDnTQV0LCwv06dNHCgR9//330gSzZ86cQXR0NKKjo1GgQIEc7zFRp04dODk54f79+wgPD0enTp3QqlUrCIKAY8eOIS4uDg8fPkTDhg0hCAIKFCgAMzMz6ToyaNAgtGrVCi9evMClS5dUzh0XFycFktL6vKT2MMsuyj1yUutvkSJFcObMGZXAUFqT3IqiiKFDh6J169YwNzfHiRMnpLxWrVo1wxURiYj+qxhgIcpFGS3TDCi+xLm5uWV4rnr16qkEWDK6ATh06JDKr8ByuRybNm3SeGxqgKVVq1YYMGAANm/eDAAqk1ACil88//rrr0xPkJkVQ4cOxfXr1yGKIuLi4lS64acOEwCg1c1uTpxTGxYWFvjzzz8xePBgREdHIzg4WG28e6dOndCnTx/pefny5aXlaQFg//79kMlkmDdvHooWLYpFixZh7NixSExMxIsXL9TS/u2336r8op2bevbsiQ0bNiAyMhJJSUkqn4F+/fqpLIVsaAYNGoRLly5JAYfr169LvSa6desmDWPJrl5AdnZ2GDdunDT84M2bN1i5ciV++uknreuNhYUFVq5ciaFDhyImJgZv3ryRlspNJQgCpkyZotJTZ8iQIbh27Zr0K3zqHB2WlpYqec4sFxcXKYD84MEDPHjwAC4uLujRowemT5+OefPmAVDMGeLj46PyWktLSykIoyw1oJzePCy6qFevnkqAJaMAtnIbktHyyR06dJDa0dTJbnNiHiQTExOsWLECQ4cOlfLi7e2tMSjVo0cPlTlBbGxssGTJEowdOxaxsbEIDAxUq2sdO3ZUCQKPGTMGb9++lXpnfP5eMpkMU6ZMUVkOOjPGjh2L+/fvw9vbG8nJyWo9cYoVK6bxh4LsJggCfv/9d3zzzTcIDg5GZGSkSk9OQDHkavTo0QAU86D0799f6s3z7t07qRehIAjIly+fFEgNCAiQVulL6/OS3QGWnj17YtOmTdJy3GfOnJH2KV8HlScwVubq6oq7d+/i6NGjKtsLFSqksuQ6EdGXhkOEiPRIEASYmJjAysoK1atXx4QJE+Dp6ZnmZKTKPv/Cn5kJGLNixowZWL58ORo0aAArKyuYmJigdOnSGDx4MA4ePIhSpUpl6byZ1bx5c3h5eaFu3booUKAAzM3NUaVKFUyfPh1Lly6Vjvv8S3dun1NbNWrUwOHDh/HNN9+gdOnSMDMzg7W1NWrXrg0PDw8sXLhQpau4qakpli9fjurVq0uTPbq6ukq/LrZs2RL79+9Ht27dUKJECZiYmKBIkSJo2LAhVq5ciXHjxuVYXjJiZ2eH7du3o2XLlrCyskK+fPng6uqK9evXo3///npLV2aYmJhg7dq1GDVqFEqVKgVTU1OUK1cOv/zyC6ZPny4dl9FExNro27evys2Up6enFDDTtt7Url0bR48exZAhQ1C5cmUUKFAAJiYmsLOzQ9u2bbFlyxapF0KqZs2aYdWqVXB2doaFhQUKFy6MDh06YO/evVnqbTF27Fh07txZ+qxVrFhRmsvGzc0Nu3btQseOHVG2bFlYWFjAzMwMZcuWRd++fXHw4EGNyxlXq1YNlpaWEEUxR3qxKLenGc2/4uvri/v370vPMwqwtGvXTgpKx8TESPOk5ITSpUvj4MGDmD59OlxdXVG4cGEYGxsjX758KF26NDp37gwvLy/Mnz9fLUjYrFkz7Nu3D927d0fx4sVhYmKC/Pnzw8XFBQsWLFDpjQkohjEuXLgQa9asQZs2bWBnZye1Qx06dMCuXbuyNLGrubk5vLy88Msvv8DZ2RlWVlYwNzdH+fLlMXToUOzZsyfDYbXZpXTp0jh06BCGDx+OihUrwsLCAlZWVnB0dMTPP/+MtWvXqkw+O2HCBLi7u8PBwQHm5uawsrKCq6sr1qxZo/K5Ux5elt7nJTsVK1YMu3fvRrt27VCkSBGYmJigZMmSGDRoEI4cOSJ9D7l8+bLGiezr1q2Lbdu2oX79+rCwsEChQoXQsWNH7N69G5UqVcr29BIR5RWCmNX14YiIiP7jUntvWVtbo1y5cirLlnt7e0s3SZUrV8ahQ4f0kkYiotwwZcoUqQfbDz/8IPXWISKiTzhEiIiIKA2nTp2SJnI0MzND+/btUbhwYYSEhODs2bPScc2bN9dTComIiIjIUDDAQkRElIZRo0bh9u3bSEhIQHx8PPbv3692TNmyZTF06NDcTxwRERERGRTOwUJERJQGV1dX7N69G927d0e5cuVgYWEBmUyGfPnywdHREaNHj8bu3btVlmAlIiIioi8T52AhIiIiIiIiItIRe7AQEREREREREemIARYiIiIiIiIiIh0xwEJEREREREREpKP/7ipCore+U0D6xumFSPbfbeIoExKj9Z0C0jcjc32ngPSN1wGiL5yLvhOQo2YJDvpOgmSm6KfvJBgE9mAhIiIiIiIiItIRAyxERERERERERDpiv0kiIiIiIiKiPIa9JQwPy4SIiIiIiIiISEcMsBARERERERER6YhDhIiIiIiIiIjyGPaWMDwsEyIiIiIiIiIiHTHAQkRERERERESkIw4RIiIiIiIiIspj2FvC8LBMiIiIiIiIiCjXxMfHY9q0aahTpw4aN24MT0/PDF9z48YNtGzZUmWbg4ODxsf+/ftzKOXpYw8WIiIiIiIiojwmL/eWWLhwIe7fv4+NGzciMDAQkydPRokSJdCuXTuNx/v5+WHs2LEwMzNT2X7p0iWV5xs2bMCxY8fUAjG5hQEWIiIiIiIiIsoVMTEx2LVrF9auXQtHR0c4OjriyZMn2Lp1q8YAy/bt2+Hh4YFSpUohOjpaZV+RIkWk/7969QqbN2/GqlWrYGVlleP50CQvB72IiIiIiIiIKA/x9fVFUlISnJ2dpW0uLi64e/cu5HK52vEXLlyAh4cHBg0alO55//zzTzRo0AANGzbM7iRnGnuwEBEREREREeUxebW3REhICKytrWFqaipts7W1RXx8PMLDw1G4cGGV41esWAEA2Lt3b5rnDAwMxOHDh7F9+/acSXQm5dUyISIiIiIiIqI8JjY2ViW4AkB6npCQkKVz7t69G05OTqhZs6bO6dMFAyxERERERERElCvMzMzUAimpz83NzbN0zhMnTqBz5846p01XHCJERERERERElMcI+k5AFtnZ2eHDhw9ISkqCsbEiJBESEgJzc3MUKFBA6/O9ffsWT58+1dvKQcrYg4WIiIiIiIiIckXVqlVhbGyMO3fuSNtu3ryJ6tWrQybTPkRx9+5dFC9eHCVKlMjGVGYNAyxERERERERElCssLCzQtWtXuLu7w8fHB6dPn4anpyfc3NwAKHqzxMXFZfp8T548QYUKFXIquVphgIWIiIiIiIgoj5EZ0ENbU6dOhaOjIwYOHIhZs2Zh9OjRaNOmDQCgcePGOHr0aKbPFRoaioIFC2YhFdlPEEVR1HcicoTore8UkL79R6s2aUHGaaa+aInR+k4B6ZtR1ibKo/8QXgeIvnAu+k5AjvpNcNB3EiTjRD99J8Eg8KpDRERERERElMdwOIrhYZkQEREREREREemIARYiIiIiIiIiIh1xiBARERERERFRHsPeEoaHZUJEREREREREpCMGWIiIiIiIiIiIdMQhQkRERERERER5DHtLGB6WCRERERERERGRjhhgISIiIiIiIiLSEYcIEREREREREeUx7C1heFgmREREREREREQ6Yg8WIiIiIiIiojyGvSUMD8uEiIiIiIiIiEhHDLAQEREREREREemIQ4SIiIiIiIiI8hj2ljA8LBMiIiIiIiIiIh0xwEJEREREREREpCMOESIiIiIiIiLKY9hbwvCwTIiIiIiIiIiIdMQACxERERERERGRjjhEiIiIiIiIiCiPYW8Jw6PXAEtcXByOHz+O27dvIygoCAkJCTA3N0eRIkVQq1YttG/fHubm5vpMIhERERERERFRhvQW9Hrw4AFatWqFlStXIiEhARUrVkStWrVQvnx5xMfHY+XKlWjdujV8fX31lcRcFx+fgGnT16JO3W/RuMkP8PQ8muFrbtz0Q8tW49S2Hz58Fa1aj0fNWkMx6oeleP8hStoXEfEREyauRD3X79Ck6RgsWbIDcrlc7RwBAUGoUXOIbpkirSjqwDrUqfcdGjcZDU+vYxm+5sZNP7RsPV5t++EjV9GqzQTUdB6GUT/8oV4HJq1Cvfoj0aTZWCz5badKHbh4yQedu05HjVpD0bnrdJy/cDd7Mkjpio9PwLRpa1CnzjA0bvw9PD2PZPiaGzd80bLlWLXthw9fQatWP6JmzUEYNeo3vH8fCQC4du0hHBz6aXwEBoaqnCMqKgZNmozC3r3nsyeDlKH4+ERM+3kj6jQYi8bNJ8Bzw8kMX3Pj1hO0bDdNbfvho95o1W4aatYZhVFjVqi0AR9j4jBj5ibUbzIOTVtOwpr1x1Ve+/jJG/QftAjOdUejbcefcfiot+6Zo0wxlOvAnTtP0afvbDi7DEfb9pOwa9e5bMkfpc9QrgOBgaEYPtwDNWsOQuvWP+Ho0X+zN6OUJtYB0obMgB6koLceLO7u7mjfvj2mT5+e5jFz587FzJkzsWPHjlxMmf4sXLgd9+8/x8YNUxEYGIrJU1ajRAlbtGtXT+Pxfn6vMHbsMpiZmqhs9/Hxx/QZ6zDLfTCqVC2NeXM3Y+qUNVi9WvHla9asDQgNi8DWLTMQFhaJCRNXwMamAAYNai+d4+3bMHz73RLExyfmXIZJzcJF23H/wXNs9JqiqANT16BECRu0a5tGHXj8CmN/XJ5GHViPWTMHKerAvC2YOnUNVq9KqQOzNyrqwObpCHsfiQkTVsKmcAEMGtQOAQFB+GH0n/hpbE+0bFkbp8/cxKgf/sDxYx4oaV8kx/8GX7KFC7fh/v1n2LhxuqL8J69KaQNcNR7v5/cSY8f+ATOzz8v/KaZPX4NZs4agSpWymDdvI6ZOXY3VqyfC2bkyLl1aoXL8jz/+iUKF8qNECVuV7YsW/Y3g4A/Zm0lK18Ilu3H/QQA2rh+HwMD3mDzdS9EGtHHReLzf49cY+9Nq9Tpw7zmm/7IRs37ujypVSmHegu2YOn0DVq8YDQD4eeZmPHgYgL/++B6iKGLSVE+YGBth8MDWSEhIxHc/LEerFrUwf/ZAeN94jCnTvFCmdFFUdyqb03+CL54hXAdCQsIx/NvF6NunJX5dMAIPHrzA1OlrUaRIITRvXiun/wRfNEO4DiQlJePbbxehZMmi2LdvPry9H2HSpL9QsaI9KlculWN5JwXWAaK8TW/BpidPnqBv377pHtO3b1/4+fnlUor0KyYmDrt2n8P0aQPg6FgWrVvXwbBhHbB16ymNx2/f/g/69J0NG5sCavu2bD2F9u3qoWvXxqjiUBoLF36H8xfu4tXrYADA+Qt3MXhQe1SqVBL161dDxw4NcfXqQ+n1p0/fQPceP8PUlFP05KaYmHjs2n0e06f1/1QHhnbA1q2nNR6/fcc/6NN3Thp14LRqHfD4Fucv+ODV6xAAKXVgYDtFHXCtho4dG+Dqvw8AAO+C3uPrXs0xaFA7lCpVFIMHtYelpRl8fJ7lXOZJ0QbsOovp093g6FgOrVvXxbBhHbF1q+YeDNu3n0GfPu6wsSmotm/LlpNo374+unZtiipVSmPhwu9x/vwdvHoVDFNTYxQpUkh6XLv2EI8fv8ScOcNUznHjhi/+/fc+ihQplBPZJQ1iYuKxa88lTJ/SG47VyqB1K2cMG9IWW7ed1Xj89p3n0ae/h+Y2YNtZtG9bB127NEAVh5JYuGAIzl+8j1evQ/H+QxSOHLuOWTP7w6V2RdRxqYQJP3XH+pTeMk/93+LNmzCMHd0FpUsXRc/ujVG5sj28rz/O0fyT4VwHTp+5BVvbghj3Uy+ULVsMHTrUR9cujXHoyNWcyzwZzHXg/Pk7ePs2DIsWjUT58iXQp09LNG1aC7dvsw3IaawDRHmf3gIslStXxp49e9I9ZseOHShfvnwupUi/fH1fIikpGc7OlaRtLrUdcNfHX+PwnQsX78Lj1xEYNLCd2r67d/xRp24V6Xnx4jYoUdwGd+/4AwAKFcqPg4cuIzY2HkFBH3Dxkg+qVisjHX/u/F2MHdMT06cNyM4sUgZ8/VLqQC2lOuBSOZ064AOPBcM114G7T1GnjoP0XKoDd58CSK0DVxR1IPgDLl68h6pVFXXAtV5VTJ/WHwCQmJiEXbvPIyEhETVqfBmfRX351AZUlra5uDjg7t2nmsv/wh14eHyn0vMslaL8P2sDSnwq/1SJiUlYunQnvvuuKwoX/nSDlpCQiJ9/XodffhnMQGsu8vV7nVIHKkjbXJwr4u6955rrwKX78Jg3GIPcWqntu+vzDHVcPrUlxYsXRonihXHX5xlev1Z0/65ZvZy036FySYSEROD1m1AULJgPALBrzyXI5XLcvuOPZ8/foVpV/mqZ0wzlOtCkSXUsmDdc7ZzRUTE655HSZijXAW/vh2jQwBH581tKx61YMR69e7fUOY+UPtYB0pa+hwVxiJA6vQ4RGjFiBE6ePAkXFxcULVoUpqamSEhIQEhICG7fvo2oqCisWrVKX0nMVSEhEbC2tlK5mbG1LYD4+ESEh0er3PwAwIq/fgIA7N17Qe1cwSHhKFrUWmWbjW0BvAt6DwCYOXMQJk1ahdouwyGXi2jY0BE/jOomHTt3zlAAwLVrj7Inc5QpISHh6nXAJp06sPxHAMDefRfVzhUcEqG5DrxLqQO/DMSkyatRu84IRR1ooFoHAMUcPO07TEZyshzjx33N4UE5TGP52xZMu/xXKLr5a5ofJThYQxtgUxDv3oWpbDt27F9ERcXgm2/aqGxfteoAqlUri8aNa+iUJ9JOSGg4rAvlh6mJpjbgIwoXtlI5fsWfowAAe/dfUTuXog0opLLNxsYK7959gHMtRQAnKDgcZcvYAQDeprQNHz5Eo7pTWYwb2w2Ll+zBwsW7kZwsx+jvO6FB/arZllfSzFCuAyXti6i0+WFhkThy9F+M/uw6QdnLUK4Dr14Fw96+CBYv/hsHDlyCtbUVxozpgVat6uqcR0of6wBR3qe3YFO1atVw6tQpfPvttzA1NcXjx49x48YN+Pn5wcTEBMOHD8eJEydQvXp1fSUxV8XGxav9UmyaMp46ISFJq3PFxcWrfEFPPVdCgmI+lefP38LJqRz+3vYLli8biydPXmPtusM6pJ6yQ2xsgsZyA7JYBz6vTyYm0nmkOrD1Zyz/c0xKHVCdRK1wYSvs3umOX352w7Ll+3Di5HVts0RaiI2Nl8o7VWoZpn52M0tj+ZuaqNWjnTv/Qc+eX8Hc3FTa9vTpa2zffhpTp7IHW26LjU3QUG6pdUDbNkDTuUyQkJgE+xI2qFWzPOb9ugPhER8REhqB5SsOAQASE5ORmJiEZ8/foffXTbHr76mYOqkX1noexzXvL2PIrj4Z2nVAcZ4EjB77J2xtC6J376+0SgNpx1CuAzExcdi37wIiIz9i1aoJ6Nq1CcaM+QP37nGocE5jHSDK+/Ta99vCwgI9e/ZEz5499ZkMg2Bmpt7gpTakyg1eps+VqH4uC3MzvHjxDh4e23Du7B/Sr5uxcfFwd9+A4cM6wtjYKOuZIJ2kVW5AFuvA5/UpMREWFqaKOrDwb5z7Z6lSHUiA+6wNGD6sg1QHrKwsUa1aWVSrVhb+/oHYsuUU2rbhLxc5RVFmql+eUsvQ3NxMy3OZamxPLCw+1aOwsAjcuOGHn38eJG0TRREzZqzDmDG9YGurPp6bcpbm60BKHbDIhjYgIREWKW3JwgVDMOanVajfeBysrCwwbmw33L77DPnzm2P/wX9x/8ELHN7vDkEQ4FitDJ76v8Vaz+Nwreeg6e0omxjadeDjxzh8/8NSvHjxDtu2zICFhXZtEWnHEK4DAGBkZIRChfLD3X0IZDIZHB3L4cYNX+zceQbVq3O4cE5iHSBtCfpOAKkx6MH18fHxOHbsGLp27arvpOQ4u6LW+PAhCklJydIXm5CQCJibm6JAAcsMXv35uQojNCRcZVtoaASKFCmEh48CYG1tpdJ1vFrVsvj4MQ4REdEaJ8mi3GFnp6EOhGa1DlgjNDRCZVtoSHp1oExKHfiI9+8jERHxUWXsfoUKJeDtzSFjOcnOrrCGNiA8a+VvZ43Q0HCVbYo24FNX4YsXfVCyZBE4OJSWtgUGhuL27cfw8wuAh8cWAIpf1GfO9MTRo/9i3brJWcwdZYZdUWt8CI9WrQNhETA3N0EBKwstz1UIoaGRKttCQyNRpIiijS9TuigO7PkFYWGRsLKywMtXIZDJBJQoXhjbtp9D5Ur2EIRPX9uqVi2NW7f9dcwhZcRQrgM2NgUQHR2LYSMW4+XLIGz0moKyZYvpnD9KnyFcBwCgaNFCEAQBMtmnju7lypWAn99LLXNE2mIdIMr7DHo+mqioKEyZMkXfycgVVauWgbGxEe4oTTx189ZjVHcqp9K4ZUbNWhVw89anWb7fvg3D27fvUbNWBRQtWggfPkQhLOzTl65nzwJhaWmuNq6TclfVKqXV68DNLNaBmhVx8+ZndeDde9SsWVGpDny6+fpUB6xw9txtzPjFE6IoSvsfPHiB8hVK6JA7yojUBtx5Im27edMP1auXz2L5fxrOoWgDwlCzZkVpm4/PU9SuXVnldXZ2hXHy5G/Yv3+B9Cha1BpjxvTEPA0TXlL2qlqlpKIOKK3YdfPWU1R3Kqt9HahRHjdvfWpL3r59j7fvPqBmjfKQy+UYMvx3+D1+DRubAjA1NcG58/dQrWpp5M9vgaJFC+Gp/1uV8z1/9g4l7W10yyBlyFCuA3K5HD+M/gOvXwVj86ZpqFSppO6ZowwZwnVA8dpKePLkFZKTP02q6u//Bvb2tlqlgbTHOkCU9xlMgOXDhw8ICgpCZOSni72trS18fX31mKrcY2Fhhq5dm8Dd3Qs+957h9Okb8PQ8Cje3tgAU0eu4uIRMnatvn5Y4cOAydu0+B1+/l5g0eTWaN6+FUiWLolbNiqhQwR6TJq/Gkyev4e39CAsXbUf/b1qp/FpJuU9RBxrD3X1DSh24CU+vY3AboJh0TLs60AIHDl7Grt3nFXVgypqUOlDkUx2YkloHfLFw8Q6pDnTu1AghIeFYvGQnXrx4h61bT+PgoSv4dninnMz+F09R/k3h7u4JHx9/nD59HZ6eR+DmplgdRKvy79sKBw5cwq5dZ+Hr+xKTJq1E8+bOKFWqqHTMkyevUbGi6k2TsbERypQppvIwNpbBxqYA7OwKZ19mSSMLCzN07dwA7rO3wufeC5w+cxueG07C7RvFqg0hoRGZrwO9m+HAoX+xa88l+Pq9xqRpnmjerDpKlbSFTCaDuYUplvy+Fy8CgnD6zG38tfIwvhv+PwBApw6uePU6BIt+24OXL4Ox/+BV7NxzEQP6c/WInGYo14Hdu8/jmvcjzJ0zFAWsLBESEo6QkHCEh0fnZPa/eIZwHQCAjh0bQC4XMWuWJwIC3mHr1lO4ePEuvv66RfZklNLEOkDa0vfKQVxFSJ1e/xYnT56Em5sbatWqhYYNG6J58+ZwdXWFs7MzBgwYgNOnT+szeblu6pR+cKxWDgMHzses2ZswenR3tEmZ86Jxk9E4evTfTJ3H2bkSZs8ajL/+2o++fWejYMF8WDBf8euzsbER1q6ZAEsLM3zTfy4mTV6NDv+rjzFjeuRYvijzpk7uB0fHshg4aAFmzdmE0T90+1QHmo7B0WPXMnUeqQ6s2Ie+/eagYAFLLJg3DEBKHVg9XlEHBszDpCmr0OF/rhgzujsAoFixwli/diKuX/dFl24zsPXv0/hj6Q9wdCybI3mmT6ZO7Q9Hx3IYOHAuZs3agNGje6JNm3oAgMaNv8fRo1czdR5n58qYPXso/vprL/r2naloAxZ8q3JMaGgEChTIl+15IN1MndQLjtXKYOCQJZg172+MHtUZbVrXBgA0bj4RR4/fyNR5nGtVwOyZ/fHXykPo298DBQvkw4K5g6T9s37pD5mRDN16zcWvi3ZhxrQ+aN3KGQBQqqQtPNf8hJs3n6BLzzlYu/445s12Q5NGjtmeX1JnCNeBE6duQC4X8e3I39C46RjpMXrMnzmTaZIYwnUgf35LeHlNxbNngejYcTI2bTqO338fDUfHcmrHUvZjHSDK2wRReRxALvLy8sLy5csxbNgwuLi4wMbGRlqmOTQ0FDdu3ICXlxfGjh2LAQOysJqF6J39iaa8RT9VmwyJzKCnmaKclshf2794Rub6TgHpG68DRF84F30nIEf9LRjO5PN9Ra42COhxkltPT094eHigVatWavsqVKgAV1dXODg4YM6cOVkLsBARERERERER5RK9DRGKi4tDyZLpT5pmZ2eHqKioXEoREREREREREVHW6C3A0rp1a0yZMgU3btxAUpLqGu1yuRy3bt3CtGnT0LZtWz2lkIiIiIiIiMgw6XtiW05yq05vQ4Tc3d3h4eGBoUOHIjk5GYUKFZLmYAkPD4exsTG6dOmCqVOn6iuJRERERERERESZordJblPFxsbC19cXISEhiI2NhZmZGezs7FC1alWYm+swOR0nuSVOckuc3PDLxkluiZPcEq8DRF+4//YktzsMaJLb3pzkFoAee7CksrCwgLOzs76TQURERERERJRncGiO4WGZEBERERERERHpSO89WIiIiIiIiIhIO+wtYXhYJkREREREREREOmKAhYiIiIiIiIhIRxwiRERERERERJTHsLeE4WGZEBERERERERHpiAEWIiIiIiIiIiIdcYgQERERERERUR7D3hKGh2VCRERERERERKQjBliIiIiIiIiIiHTEIUJEREREREREeQx7SxgelgkRERERERERkY7Yg4WIiIiIiIgoj2FvCcPDMiEiIiIiIiIi0hEDLEREREREREREOuIQISIiIiIiIqI8hr0lDA/LhIiIiIiIiIhIRwywEBERERERERHpiEOEiIiIiIiIiPIYQd8JIDXswUJEREREREREpCMGWIiIiIiIiIiIdMQhQkRERERERER5DHtLGB6WCRERERERERGRjtiDhYiIiIiIiCiPYW8Jw8MyISIiIiIiIiLSEQMsREREREREREQ64hAhIiIiIiIiojyGvSUMD8uEiIiIiIiIiEhHDLAQEREREREREemIQ4SIiIiIiIiI8hhB0HcK6HPswUJEREREREREpCMGWIiIiIiIiIiIdMQhQkRERERERER5jEwQ9Z0E+gx7sBARERERERER6Yg9WIiIiIiIiIjyGE5ya3jYg4WIiIiIiIiISEcMsBARERERERER6YhDhIiIiIiIiIjyGI4QMjzswUJEREREREREpKP/bA+W5B9G6jsJpG9yfSeA9M6Ycf0vWlSSvlNA+haTrO8UkL7xOvBlY/l/8Yw23dV3EugL858NsBARERERERH9VwmCqO8k0Gc4RIiIiIiIiIiISEcMsBARERERERER6YhDhIiIiIiIiIjyGIHTDBkc9mAhIiIiIiIiItIRe7AQERERERER5THswWJ42IOFiIiIiIiIiEhHDLAQEREREREREemIQ4SIiIiIiIiI8hiZIOo7CfQZ9mAhIiIiIiIiItIRAyxERERERERERDriECEiIiIiIiKiPIaLCBke9mAhIiIiIiIiItIRAyxERERERERERDriECEiIiIiIiKiPEbgGCGDwx4sREREREREREQ6Yg8WIiIiIiIiojyGPVgMD3uwEBERERERERHpiAEWIiIiIiIiIso18fHxmDZtGurUqYPGjRvD09Mzw9fcuHEDLVu2VNt+/PhxtG3bFrVq1cKQIUPw5s2bnEhypjDAQkRERERERJTHCIJoMA9tLVy4EPfv38fGjRsxc+ZMLF++HMePH0/zeD8/P4wdOxaiqPpet27dwvjx4zF48GDs3bsXpqamGDdunNbpyS4MsBARERERERFRroiJicGuXbswffp0ODo6onXr1hg2bBi2bt2q8fjt27ejT58+sLGxUdvn6emJzp07o0+fPihfvjymT5+OkJAQvH//PqezoREDLERERERERESUK3x9fZGUlARnZ2dpm4uLC+7evQu5XK52/IULF+Dh4YFBgwap7fP29kbr1q2l56VKlcI///yDwoUL50jaM8IACxEREREREVEeIxMM56GNkJAQWFtbw9TUVNpma2uL+Ph4hIeHqx2/YsUKtGnTRm17ZGQkIiIikJycjKFDh6JRo0YYOXIkgoKCtP1TZhsGWIiIiIiIiIgoV8TGxqoEVwBIzxMSEjJ9npiYGADA3Llz0alTJ6xcuRIJCQn49ttvNfaEyQ0MsBARERERERHlMYJgOA9tmJmZqQVSUp+bm5tn+jxGRkYAgF69eqFr166oUaMGFi9ejMePH+POnTvaJSqbMMBCRERERERERLnCzs4OHz58QFJSkrQtJCQE5ubmKFCgQKbPY21tDRMTE5QvX15lW6FChfDu3btsTXNmMcBCRERERERERLmiatWqMDY2VullcvPmTVSvXh0yWeZDFMbGxnB0dISvr6+07f379/jw4QPs7e2zM8mZxgALERERERERUR4jQDSYhzYsLCzQtWtXuLu7w8fHB6dPn4anpyfc3NwAKHqzxMXFZepcgwcPxubNm3Hs2DH4+/tj2rRpqFq1KmrUqKH13zM7GOvlXYmIiIiIiIjoizR16lS4u7tj4MCByJ8/P0aPHi2tFNS4cWMsWLAA3bt3z/A87dq1Q2RkJBYtWoSwsDDUq1cPK1asgKDtxDDZRBBFUbtwUx6RPMpF30kgfdPPxNFkSIz107CSgYhKyvgY+m+LSdZ3CkjfeB34srH8v3hGm+7qOwk56o5V+YwPyiW1op7pOwkGgT1YiIiIiIiIiPIYPXXSoHRwDhYiIiIiIiIiIh0xwEJEREREREREpCMOESIiIiIiIiLKYzhEyPCwBwsRERERERERkY7Yg4WIiIiIiIgoj5EJ/8kFgfM09mAhIiIiIiIiItIRAyxERERERERERDriECEiIiIiIiKiPIaT3Boe9mAhIiIiIiIiItIRAyxERERERERERDrSa4DFz88PS5cuxdy5c3HmzBm1/dHR0Zg6daoeUkZERERERERkuAQDepCC3gIs//zzD3r06IF79+7h+fPnGDNmDNzc3PDhwwfpmLi4OOzfv19fScx9xqYQvvkZskXnIJt/AkLL/hm/pkItyGYdSHu/cysY/XVTdVuRkpCNWg7Zbxchm3MEQqsB6uecvAWy3y5BNnUb4FBP+7xQ1hibQuj/M2RLzkH2qxZ1YE46daB2Kxit1FAHRi+H7PeLkM07AqH1Z3WgdBXIJnop9k/aAJRz0jorlAXGphD6/QyZx1nI5h6H0OKbjF9TviZkM/envb9WSxgtu6G6zbYkZN8vg2zxBchmHYbQcoDm15rng2zOUQiuHTOdBdKRiSmEITMhW3ERsqWnILRLo2yUVaoF2cLDae+v2xpGG+6obqv9FYw23FF5yEYtknYLDf4H2a8HIFvzL2TTN7INyE0mphC+mwWZ12XIVv8DoaNbxq9xcIZs2bG099dvA6Od91S3GZtAGDodMs/LkK05B6HvGJXdsol/wmjnPZUHajfNQoZIKyamEIa7Q7b2EmR/nYHwv0yW/9Kjae93bQ2jbT6q2+q0gNE2H5WHbOyST/urN4BswS7IPP+FbNoaoHjZLGWHssDEFMJQd8hWXoTsz9MQ2mWiDlR2hmzxkbT3120No013Vbe5tIDRprsqD9kPiz/tL1kRshkbIFt3DbJ5u4GqdbOWH6IvjN4muf3jjz8wdepUfPON4gbiyZMnGD16NPr164fNmzfD1tZWX0nTG6HbWAilq0H+53dA4eKQDXCH+P4tcFu9dw8AoERFyIZ5AIkJmvdb5Ies18TP3kSAbOQfEAMeQlzQDyhaGrLB84HwEIg3jgP5rSH7binEE+sh3v4HQp02kH37G+SzuwPhwdmbYVIjdB8LoUw1yJem1IGBmagDwz2ApHTqwNca6sCoPyC+eAhxfkodGJpSB64fB6ysIRu7CuLNUxA3zYLg2BCyMSsgn/018OFd9maYVAhdx0IoXRXyZSnl398d4vt3wJ00yr94BciGZtAG9NRQ/t/9AfHlA4ge3wBFSkM2aB4QHgzx5gnVQ7uMgVCoKMRsyBtljtD7Jwhlq0HuMRywKQ7Z8DkQQ98CN05rfkHJioovxGnVAUsryL6ZpP4+9hUg3j4H+YY5nzamnqOyM4QhMyF6zoL49C6EFl9DNn455OPbA/GxOuaQMiL0Hw+hvCPks4cBtsUhGzUPYshb4NopzS8oVQmy8b8BCfGa91taQTZ4ivr7DJ4CwbEe5PO+BSzyQfbjQiDkLcTTuxQHlCwP+Z9TIN7799OLPkbqmDvKiNBvnKL85w1XlP93cxVtgHc65T92CZCYTvm7aSh/+woQb56DfN2sTxtT2wD7CpBNXA7x4HqIl49CaN4NsulrIR/fmW1ALhD6jINQrhrkvw4HbEtANmIOxLBA4HpG14F06sCAyervU6I8xFvnIPea/Wljah2wyA/ZpNUQb5+DuOZnCI06QjbmN8gndQGi3uuYQ6L/Nr31YHn58iWaNv30S0ilSpWwbds2GBsbw83NDe/ff2EfXlNzCA27Qr57MfDKF7h7FuLpTZA1/Vrj4ULj7pCN9wQi0/47Cd1+BEJfq260soH4+jHE7QuAkFfAg8uAnzdQoZZif4VagDwZ4unNQNgbiCe8FA12uerZkk1Kh6k5hEZdId+pVAdObYKseTp1YKJnuhc6ofuPQIiGOvDqMcS/leqA76c6ILh2BD5GKPYHvYD4zzbA/w6Epj2zKaOkkak5hAZdIN+9BHjtB/icg3hmc9ptQKPukI3LoPy7jtXQBhSG+MYP4o5fFeX/8DLwWKkNSFW+JoTKdSFGhOqYMco0U3MITbtBvm0REOAL3DoL8egGyFr10Xi40LyHondJRFiapxR6/wQEv1bfUbwcxNf+itemPmKiFPsK2kI8uBbi1aNAyBuIB9ZAyF8IKFFB9zxS+swsILTsDvmGX4Hnj4Dr/0A86AVZu74aDxda9YJs7mYgPJ06MGAcEPRKdWO+AhC+6gb56lmA/33g/jWIhzYBlVKu9cYmQFF7iP73VetIUmJ25ZQ0MbOA8FV3yDd5AC8eATf+gXjYC7I2abQBLXpC5r4p/Tag3zgg+JX6DvtyEF8/1dgGCK2/Bp7chbh7BfD2BcS/fwdioiE06pAduaT0mFpAaNYN8i0LFdeBm/9APJLOdeCrnpD9vAmITKcO9EnjOlCifNp1oHFnID4G4oZ5QPAriPtWAkEvgXLVsiWblH0EQTSYBynoLcBSpkwZXLhwQWVb4cKF4eXlheTkZLi5ueHt27d6Sp0e2FcGjIyBZ5+674n+d4CyThrX3xKqNYJ800yIZ7dpPl/F2hAquUB+fL3q9shQiJ5TgfgYxfPyNYGKtYEnKUNIPoYrvkjX/ErxvEZzwDwf8OapTtmjTCipoQ48vZN2HXBsBPnGmRDPpFEHKtWGUDmNOrD+szpQqTbwOKUO2NpDfPkIEOWf0vH6CYTyDLLlqNQ24PlnbUAZxzTagIaQb3FPvw2o6AL5SU/V7ZFhEL2mfSr/cjWBCkptAAAYm0DWdwbku9LpHUXZr7SDog48uSNtEp/cAcqn0QbUaAz5up8hntyq+XwOLhAc6kB+aJ36a0uUB4ICNL/u+imIqa8xMYPQtj/EiDAg0F/LDJHWyqS0A353pE2i7y1F4ENTHXBuDPlf0yEe2az5fFXrQKhWF/K9a1W3V6kNxEQDjz4NHxQPrIe48hfFkxLlAFEEgjTclFHOKZ1S/o/vSJtEv9tAxTTKv1ZjyFfNgHgsjfKv4gKhWh3I92toA+wrAG9faHyZULQkxKeqQ8rEV0+ASjUznRXKotQ6oHwdeHwbqJBGHajRCPK1P0M8vkXz+RxcIFSpA/nBtWq7BPvywDvN1wGhah2It86pfBeUu38D+FzSKjtEXyK9DRH68ccfMXr0aJw/fx7jx4+Hg4MDAMDW1habNm3CsGHD4OaWiTGH/xUFbYGP4UBy0qdtkWEQTM2BfAWB6HCVw+Vrxiv+U7+T+rmMTSDrNx3yHR5Actq/NsnmHIZQuDjEexcgpg5BeXob8vM7IBu2EBDlEIyMId/sDgSn8UWcsk9BW0U5K9eBqHTqwOoM6sA30yHf7pHuL46yuYch2BSH6KNUB6LCIJSspDospHAxIH+hLGSKMq2AhjYgvfJfO0HxH03zoxibQNZnekqAJEl9fwrZrEOf2oA7/0jbhTaDIb72A3yv6ZAh0lohDW1AREodyF8IiPqgcrj8z58U/2ncWf1cxiaQDfoZ8s0LNF8HipcFnBpA1nEoIJNBvH4K4t4Vqu9dtR5kE1cCECCunsahAbnBuggQFZ75OrBorOI/zbqon8vYBLJvf4F8/Ty164BgVxIICYTQtBOEbsMBYxOI5/ZD3LsGEEUI9uUUPRZGz4dQrS4Q9g7ynSuAO7y5ylGFtCz/335U/KdpGm3AsJmQe83X/D2geFmgRiPIugwDZEYQr52EuOsvIDlJEVAtXFTlcMGmGBAdwSGjOa2QrXodiEynDvyRwXVgyC+Qb1qQdh2o3hCyzsMAIeU6sEdRB1DEHnh2H8LgnyE4NwdCAyH/e4lK4IcMg4a4G+mZ3nqwNG/eHLt27YKDgwNMTExU9tnZ2WHnzp1wc3ND2bJl9ZPAXCaYmqs3fqnPjU21O1e7YRBf+QK+/6Z7nHztRCSv/BEoWRlCz5SbdTNLCLb2EI+ugXzRQMiPrYPQcwJgV1arNJD2BJNsrAP/GwbxpS/wKIM6sGYikv/6UVEHeinqgHj7H6CsE4RG3QCZEVC1AYQazQAjk3TPRbrJ1jag7TCIr30zDJDI101C8qofFeXffZxiY7FyEBr1gLj3N63ek3QnmJqrz6WS2oPIWLvPn9B5BMSAR8CDq+o7bYpDMLMAkhIhXzEJ8u2/Qaj/Pwi9x6ke9+Yp5O79IO5bAWHYbMUvqJSjNNaBxJR2wETLdqDHdxCfPwJ8NNQBc0ugeGkIrXpBvuJnyDcvhtC+H4QOKZMq25cDzMyBO1cgn/8dxNsXIZu8DCjP4QE5STBLpw3Qtvy7fQvxxSPgnobyty0OwdwCSEyA/M+JkG9dAqFRBwjfpHwPuHoCgmsbwLkpIDOC0KQzUN5R63aItCeYWqj3HE3M4nWgywhFHbif3nUgAfLlExXXgQb/g9An5Tpgbgmhw2AgPBTyJaMg+t6EbNIqoLBdFnJF9GXRWw8WAKhSpQqqVKmicZ+FhQV++ukn/PTTT7mcKv0QExMgfN5wpj5PiMv8iYpXgNC4O+Tzemd87MtHAAD5HlPIBs6FuPd3CK0HAhAgHlN0JRRf+UIo6wThq76KeVsox4hJ2VQHSqTUgTla1IHdppANngtxz+9AoD/ErXMhfD0RQr+pwOvHEC/sglC5TubTQFoTE+Ozrw1o1A3yBZrHa6t4lVL+e3+HzG0OxAN/QNZ3BsSjqzmJnR6IiQkQPr+JSg2uaVMH7CtAaN4D8hlpzJsU9hbJo5p+mrD0pR/kMhlkI+ZB/Hvxpy7hke+ByPcQX/pBqFADwle9IPrf03xOyhYa60Dqj1Da9CAqVRFCqx6QT+iheX9yMgRLKyT/ORkIVQzHFm2LQ2jTG+LhTRD3rIZ4bJtUR8SAxxDKV4PQqhfENbM0n5N0JibGp90GaFP+JStCaNET8sndNe8PfYvk4Y0/tQEBfpALMshGzYe4eRHgcxninlWQ/fgbYGQEPLwO8eIhCJZW2meKtKL4LvB5G5CV60BFCF/1hHxaGm1A2Fskj2yieh0QBMi+mw9x22IgORkI8FPMvQJADPCFUL0BhEYdIR5ar/mcRARAzwGWjMTHx+PYsWPo2rWrvpOS88KDgXyFFD0G5MmKbQVsISbEAbFRmT6N4NwCsCzwaelmQdFJSfbbRYh/z4foew0oVwPwOffpRW+fKS7o5vkhlK4C8c0TlXOKr/0glKjAbqE5LTxY0f0zu+rA7JQ6IEupA79fhLgtpQ6UrwHcPffpRUp1AB/DIV49BPHfI4BVYSAyFEK3MUBYYPbkkzSLCNHQBthoX/61Uso/denm1DZg8QWI2+dD9PNWTFrtc/7Ti96llL+VDYTyNQH7SopJsgHAxBxC76kQareGfOVYnbNJ6figoQ0oaAMxPvbTBLSZINRpBeQr8Gnp5tQ2YNUViBvnKiav/Xw1mMDnKV3QCwK2JRTvH+Ar7RYDnylWnNAlf5Sx90GAVSHVOlDIVvs64NoKyF8QsmUpS/em1oFN1yCuma1YNS4hTgquAIAY+AKCbbGUJ6JaHRFfP4NQqiLrQE56H5w95V+vFZC/wKelm1PL3/NfiOtnQ7ysqQ149qkNiPoA8cBaiEc2AJZWQOR7CGMWQQzh94Ac90FDHSiYhTpQt6XiOpC6dHNqHVhzFaLXnIyvA+GhEN8+V9ktvgtQDBkngyLjECGDY9ABlqioKEyZMuXLCLC8fqwY81iuOuB/BwAgVKgFBDxQfNHJJPHcDojXj0nPhbLVIQyaC/mCvopfI4uXh2z4Ishn/E9xQwdAKF0VYtR7xY11eCiEYuVUvkAJdmUhhvKimuNepVEHXmhZB87ugOj9WR0YMhfy+Sl1oER5yEYsgnya5jqAynUgNOkOcf00IFKxgozg2Ajixd3ZlVPS5LWfovzLOkkTHQvla2nfBpz/vA1wgjBwLuS/9lP0SileHrKhiyD/pcOn8i+VUv4RIUie1VXlfLIxqxXnvHEMlMNeptSBCtWlce5CZWfguZZ14PTfii/PKYQK1SF8Ox/yX3orVppwagDZdwsgH9dO+kVUKO0AMeoDEPUBQvfvIdjaQ77k+0/nKFsVolLAhXLIi5Q6UKkG4HcbACBUqQ34a1kHjm2DePGI9FyoVAPCmF8hn9hTsVKIdVHITM2B4mWAt4o51gT78kCw4lovfD8XEOWfJr0FIJStAvGl6g8wlM0CNJS/gzPwTMvyP7EN4mWl8q9YHcKoXyGf2ktR/jUaQjbqV8hHt/nUBpSp8qkNaNAeqFgd4uaFiu8NJmaKyZJX/Zy9+SV1qdeBijWAxyl1ICvXgVN/Q7zy2XVg5ALIZ3ytuA5UbwjZyAWQ/9hWqQ58ug6I/j4Qqrio3g8ULwvxKr8LEGVEb3OwfO7Dhw8ICgpCZOSnaKqtrS18fb+QL3SJcRCvHYasz1SgdDWgRnMIrQZAfvZvxf4CNoCJWcbniYlULMub8hDDgxXbQ14rVg0JeAi8egRZ/5lAsXKAYyMI3cZCPK5YaUS8sk+x7at+gI09hK/6AtUaQry4K4cyTpLEOIj/Hoas31SgTDWgZnMIrXOgDrx4CLx8BJmbUh3oPhbisZTVZoICIFRvqliW2dYeQp8pgKUVxH8P50y+SSExHqL3Ech6T0tpA5pBaDkA8vPbFfuttCj/0NfSQwxXBFEQ+lkb8M0vivKv1ghC1zEQT3gqfi1Tei1CXyu2Rb+XgjGUgxLiIF4+BNnAGUA5R6D2VxDauUF+KmWlqIKZrAMfIxXLsqY8xA8pbUDwKyAuBnh6F0iIhzB4JlCsDFC9EYTeP0E8uhEAIJ7bA1StC6F1P8CuNISuI4FyThBPpLFaEWWfhDiI5w9CNvxnoIIjULcFhE4DIT+askKINnUg6JX0EN8HKbYHpdSBty8g3jwP2fdzFSsX1WwIoesQiKd2AADEG2chNOkIoWknwK4UhB7fAVWcIR5PY9Uyyh4JcRAvHIRsyM+KOU/qfAWhw0DIj6d89rJc/iltQGr5P76jaAOGuysmOq3ZGEK/nyAe2gAAEN+9gNCyF1C3JVCsNGQ//AqEBQF3OclxjkuIg3jpEGSDlK4D7d0gP5nN14EndxR1YGjKdaBGIwi9xyl6LQEQ/9kFlKoModt3QNFSELp/DxQpCfHKkTTfkogU9BpgOXnyJNzc3FCrVi00bNgQzZs3h6urK5ydnTFgwACcPn1an8nLdeKe3yG+9IXsx9WQ9Z4M8cgq4O5ZAIDRgpMQXNpkw5vIIV89DkiIhWzCBsj6/Qzx3HaI51Ju4l/ch3ztRAj1O0I2fTuEeh0gXzEGePtM9/emDIm7lepAn8kQD68C7qTUAY9srAOrxgHxsZBN2gBZ/5Q6kBrIiQiBfN0UCM37QDZjBwS7MpD/8T1XEMkF4t7fIL56BNmYVZD1mqyYCyW1DZh/AkLt1tnwJnLFKmQJsZCN84Ks3wxFD5XUQA7plfj3EogvHkE2eS1kA6ZC3L8KuKlY4cnojzMQXNvq/iZxMZAv/h6ClTVkM7dBNmQmxHN7IB7boNgf4Av5snEQmnaFbM5OxXLQS75XDGOkHCduXATx+UPIZnpCNnQaxJ0rAG/FKm9Ga89BaNguW95H/ucUiO9eQjZ7k2LujePbFfOuAID3GYjr5kLoPgKyJfsg1P0K8vkjAQ4RyXHilsWK8p+xHrJB0yDuXglcTyn/lWchNMimNuDX7yAUsIZs7t+QjXCH+M8eiIe9FPufP4LoNReybyZANldxbZAvGqVVDwrKOnHbYogvHkI2dR1kbtMU86DcSKkDy/7JvuvAopGK68CsvyEb6g7x3G6IRzco9oe9Veyv1Qyy+XsgODeD/LcfFEOYyKAIgmgwD1IQRFE/raWXlxeWL1+OYcOGwcXFBTY2NjA1NUVCQgJCQ0Nx48YNeHl5YezYsRgwYIDW508e5ZIDqaY8Ra7vBJDeGXNg6hctKu0lqukLEZOs7xSQvvE68GVj+X/xjDbd1XcSctSTImX0nQRJpZAAfSfBIOhtDhZPT094eHigVatWavsqVKgAV1dXODg4YM6cOVkKsBARERERERER5Ra9BVji4uJQsmTJdI+xs7NDVFTmZ8wmIiIiIiIi+hKwj5bh0dscLK1bt8aUKVNw48YNJCWpduOWy+W4desWpk2bhrZts2GcIRERERERERFRDtJbDxZ3d3d4eHhg6NChSE5ORqFChaQ5WMLDw2FsbIwuXbpg6tSp+koiERERERERkUES2IXF4OhtkttUsbGx8PX1RUhICGJjY2FmZgY7OztUrVoV5ubmWT4vJ7klTnJLnNzuC8dJbomT3BKvA182lv8X778+ya1/UcOZ5LZCMCe5BfTYgyWVhYUFnJ2d9Z0MIiIiIiIiIqIs03uAhYiIiIiIiIi0Iwh6HYxCGuhtklsiIiIiIiIiov8KBliIiIiIiIiIiHTEIUJEREREREREeYyM8zgbHPZgISIiIiIiIiLSEQMsREREREREREQ64hAhIiIiIiIiojxG4BAhg8MeLEREREREREREOmIPFiIiIiIiIqI8hj1YDA97sBARERERERER6YgBFiIiIiIiIiIiHXGIEBEREREREVEeI0DUdxLoM+zBQkRERERERESkIwZYiIiIiIiIiIh0xCFCRERERERERHkMVxEyPOzBQkRERERERESkIwZYiIiIiIiIiIh0xCFCRERERERERHmMIOMYIUPDHixERERERERERDpiDxYiIiIiIiKiPEZgdwmDwyIhIiIiIiIiItIRAyxERERERERERDriECEiIiIiIiKiPEbgHLcGhz1YiIiIiIiIiIh0xAALEREREREREZGOOESIiIiIiIiIKK+RcYyQoWEPFiIiIiIiIiIiHbEHCxEREREREVEeI7C7hMFhkRARERERERER6YgBFiIiIiIiIiIiHXGIEBEREREREVEeIwic5NbQsAcLEREREREREZGOGGAhIiIiIiIiItIRhwgRERERERER5TFcRcjwsEiIiIiIiIiIiHTEAAsRERERERERkY44RIiIiIiIiIgor+EqQgaHPViIiIiIiIiIiHTEHixEREREREREeQwnuTU8/9kAy8kV0fpOAunZE30ngPTOXN8JIL0qpe8EkN4VMJHrOwmkZ8lydp//kpkasw340tXfpO8U0JeGMS8iIiIiIiIiIh39Z3uwEBEREREREf1XCTL20jM07MFCRERERERERKQjBliIiIiIiIiIiHTEIUJEREREREREeYzAEUIGhz1YiIiIiIiIiIh0xAALEREREREREZGOOESIiIiIiIiIKI8R2F3C4LBIiIiIiIiIiIh0xB4sRERERERERHmNjLPcGhr2YCEiIiIiIiIi0hEDLEREREREREREOuIQISIiIiIiIqI8RuAIIYPDHixERERERERERDpigIWIiIiIiIiISEccIkRERERERESUxwhcRcjgsAcLEREREREREZGOGGAhIiIiIiIiItIRhwgRERERERER5TECu0sYHBYJEREREREREZGO2IOFiIiIiIiIKI8RBE5ya2jYg4WIiIiIiIiISEcMsBARERERERER6YhDhIiIiIiIiIjyGnaXMDgsEiIiIiIiIiIiHTHAQkRERERERESkIw4RIiIiIiIiIspjuIiQ4WEPFiIiIiIiIiLKNfHx8Zg2bRrq1KmDxo0bw9PTM8PX3LhxAy1btlTbXqdOHTg4OKg8Pn78mBPJzhB7sBARERERERFRrlm4cCHu37+PjRs3IjAwEJMnT0aJEiXQrl07jcf7+flh7NixMDMzU9keFBSEqKgonD59Gubm5tJ2S0vLHE1/WhhgISIiIiIiIspjBFneHCMUExODXbt2Ye3atXB0dISjoyOePHmCrVu3agywbN++HR4eHihVqhSio6NV9vn7+6NIkSIoVapUbiU/XRwiRERERERERES5wtfXF0lJSXB2dpa2ubi44O7du5DL5WrHX7hwAR4eHhg0aJDavqdPn6JcuXI5mVytMMBCRERERERElMcIMsN5aCMkJATW1tYwNTWVttna2iI+Ph7h4eFqx69YsQJt2rTReC5/f3/ExsZiwIABaNy4MYYPH47nz59rl6BsxAALEREREREREeWK2NhYleAKAOl5QkKCVud69uwZIiIiMHLkSKxYsQLm5uYYNGiQ2lCi3MI5WIiIiIiIiIgoV5iZmakFUlKfK09Umxnr169HYmIi8uXLBwBYvHgxmjVrhrNnz6JTp07Zk2AtMMBCRERERERElNcIeXOSWzs7O3z48AFJSUkwNlaEJEJCQmBubo4CBQpodS5TU1OV3jBmZmYoWbIkgoKCsjXNmcUhQkRERERERESUK6pWrQpjY2PcuXNH2nbz5k1Ur14dMlnmQxSiKKJVq1bYu3evtC0mJgYBAQEoX758diY50xhgISIiIiIiIqJcYWFhga5du8Ld3R0+Pj44ffo0PD094ebmBkDRmyUuLi7D8wiCgObNm2PZsmW4du0anjx5gkmTJqFYsWJo1qxZTmdDIw4RIiIiIiIiIspjtF29x5BMnToV7u7uGDhwIPLnz4/Ro0dLKwU1btwYCxYsQPfu3TM8z8SJE2FsbIzx48cjOjoa9evXx5o1a2BkZJTTWdBIEEVR1Ms757BjgoO+k0B69kTfCSC9026KLPqvKaXvBJDeFTCR6zsJpGfJ8rw5PwFlD1NjtgFfuvpxT/WdhBwV85Xh3PNanvXTdxIMQh6OeRERERERERERGQYOESIiIiIiIiLKYwQZe+kZGvZgISIiIiIiIiLSkUEGWNzd3fH+/Xt9JyPXycxM4bRuHlp9uI6vAi+i7LjBGb7GupELmvmfVtterEdbNPU7jtbRt1H3xHqYly6h8fUuh1ejutcClW0l+nVCU7/jaBNzF/Uv/42CdatnLUOkNSMzU7RcNw/ffriOoYEX4ZyJOlC8kQsGaqgDFXu0xQC/4xgZfRtdT6yHlVIdsChSGP/b9Qe+/XAdbk9OourAbiqvLVC2JLqe8sLI6Nvo/+AISrdupHvmKENGZqZoum4eBn64jv6BF1E9E+Vv18gFfTSUf7kebfG133EMjr6N/51Yj/xK5Z+vZDG0PbQKgyJuou/zM3AaO1DltTa1qqLrvzsx5OMddPXeDdvajrpnjjLFUK4DRf7XDI1u70frqFtodPcginZqkbUMkdYEM1NUXD0frsE3UTfgMkr8OCTD11g1dIGL7z9q2226t0PtBydR/8NdVDviBTMNdUAwNUWt20dQoGk9le35nB1R/cJO1H9/BzUu7kL+erWynCfKPMHMFJXXzEPD0BtwfXUJ9j9lXP4FGrmg7uMzatttu7dFnYcn0CjiDqof81Qpf9MSdqi64080CPaGa8BFlF88FYKZqdo5jArkh2vARdi5dVPbRzlDMDNF+VULUOfdLdR+fgXFxw7N8DVWDV1Q65F6G1C4WzvUvHcKdcN8UOXwBpim0QbUuHkUBZq6ajy3UYH8qO1/CUUGZDzZKOU+QTCcBynoLcBy/fr1NB/79+/H1atXpedfCodFk1CwjhO8WwzEw+9nodLMH1CsR9s0j8/vVBnOu/8APusaVqiBM2r+vQTPl3jhSu3ukMcnoNb239ReX7z3/1C0Q3OVbdaNXeC0fh6ezl6Bi44d8OHKbdQ5thZG+SyzJY+UvsaLJqFoHSfsbTEQZ7+fBdeZP6BiOnXAxqky/rf7D7XugcUaOKPt30twe4kX/q7dHcnxCWinVAc67PsL+UsWw96v3HDhx/lo8tsUVOjW+tP+/X8h5l0ottfpAd/NB9Bh33LkL1U8+zNMKlwXTUKROk443GIgLn0/Cy4zf0C5dMrf2qkyWmsof7sGzmj59xLcW+KFvSnl31Kp/FvtXIqk6BjsdemOK2Pno+68H1G2aysAgLGlBdofXYO3F29gr0t3BF25jXZHVsPY0iJnMk0qDOE6YFXdAbX3Lsdrzz24XKsrXq3eDufdf8CqhuFMpPdfVvbXycjv4oT7bQbAf4w7Ss0YDZvu7dI83tKpMqpsX6ZWB6zqO6Py5t/w5ndP3HXtCjEhAZW3LFU5RjAzhcOW35HPsbLKdpMiheF0YhNi7vvhboPuCN11BE7HvGDK60COK+8xGfldqsOntRue/jALZX7+Abbd024DLJ0qo9qOP9WuAwUaOKPKVkX536rbDfL4BFTd9ru0v9rOP2FkaYG7zfvh0Tc/wabDVyg7+0e185dbMBFm9nbZlj/KWJkFU5CvthMethuA52Nnwn76aBTulnYbYOFYGZW2LYcgU72ty1/fGRU3/Y63f6zHvfpdIMYnoNKmP1SOEcxMUWnT77D8rA1QVnreJJjaF9MtU0RfEL0FWEaMGAE3Nze4ublhwIABKo+4uDiMHz8eAwYMkNbC/q8zsrRAqWG98GjsPETefoig/afxbOE6lP7hG43HlxrRGw2ubEd8UJjavnIThiBwy0G8WrMDHx8/x8Mx82BWvAhMbKylY0ysC8Jh0SSEe/uovNasWBH4z1mBwK0HEfv8Nfxn/wVTG2vkr1YhezNMaowtLeA4rBcujJ2HkNsP8Wz/adxcuA410qgDTiN6o9eV7YjRUAdqTxgCvy0HcX/NDoQ/fo7zY+YhX/EiMLexRlEXJ5RoVBvH+41HyJ1HeHHkHG56rEPtiYpfSEp+VR8FK5TCP9/+gg++z3Dj1zV4e/UOHIf0yNH8f+mMLS1QZVgvXBk7D2G3H+LF/tO4u3AdHNMo/6ojeqPLle2I1VD+NSYMwZMtB/FozQ5EPH6OK2PmwbJ4EZjZWMO0UAHYNXDGrbkrEfk0AAEHz+D18Yuwb9kAAFCh9/+QFBuPaxMXItz3Ga7+OA+JUR9RvlfaX+4oexjKdaB4v44I++dfBCzbjBj/l3i5YhvCzl5Dsa/bZ2+GSY3M0gJ2Q77Gs3Fz8fHOQ7w/cApvlqxF8ZH9NR5vN6wPapzfgcTgULV99uOGIWTbQQSt247Yx8/x7Kc5MC1WBMYpdcCiakXUuLQb5uXV19sq0r8bEsPC4f/DTMT6PUPgnxsQefkmin/bL3szTCpklhYoNrQX/MfNRfTthwg7cAqvF69FiVGay7/48N6odXE7EjS0ASXHDUXw1oN4u3YHYh8/h/+Pc6Xyt3AojwL1neE3dApiHj5F5KUbeOH+B4r26aRyjgKNXGDdogHi3wbnSH5JnczSAkUHf42ACXMRc+cBPhw8hbe/rUGxkQM0Hl90WB84ndupsQ0o8eMwhP59AMHrtiPuyXO8GD8bpsWV2oAqFeF0YTfMypdOMz1WDV1Q4KuGSGAdIMo0vQVYDh06hEaNGsHZ2RlHjhyBr6+v9LCwsMCpU6fg6+uLR48e6SuJucqqZhUIJsb4cOW2tO3DpZso5FpTY5+rIu2bwmfgZLz4fYPavsLN6yFo7ynpeeyL1zhfriUSwz5I26osnozAzQcQ/VB16bJ3u4/Df/4qAIDM3AxlfxqE+KBQRD/01zWLlAHbmlUgMzHGW6U6EHjpJoqlUQfKtG+KUwMn446GOlCyeT34K9WByBevsaFcS8SFfUDB8qUQExyGyOevpf2hPn4oWscJMmNjFKtfEyG3HiIpJlba//bSTRRrUCt7Mkoa2aSUf5BS+b+7dBNF0yj/Uu2b4tzAybinofyLN6+H50rlH/XiNf4u1xLxYR+QHBuHxI8xcBjcHYKxMQpWLge7RrURelvR1hatXxPvLt1UOd+7y7dgx/LPcYZyHXizcR/8pixWO6dJQausZIu0kK+Goh2IuvqpDkRevoH89TTXAet2TfF46GQE/rFBbV+BpvUQtv+k9Dz+xWvcrPwVklLqQMEm9RB57l/4NPla7bXm5Urh4+37gPzTErcf7/vBytVZl+xRBvKnXAcildqAiMs3YZVm+TeD3+ApePOHl9q+gs3qIVSp/ONevIZ3xRZICvuAhHchuPe/IUgMVg3MGBfML/1fMDVB5VVz8XTMLIjxCdmRPcoEyxqK60DU1VvStqgrN5G/ruY6UKhNMzwdNgnvlqnXgQJNXfH+szbgtkNzqQ0o0KQeIs9fw4NmvTSmRTA1RfkV8/DiR3eICawDhkqQCQbzIAW9BVhKliyJdevWoU+fPhgyZAiWLl2KhC/4w2tWvAgSQz9ATEyUtsUHhcLIwhymNoXUjr/VbRSC9p1S225c0AqmhQtBMDZCnePr0OLtJdTevwJmJYpKxxT+qj6sm9bB0zkr0kyPTYv6aBN9GxVn/oBHP85H8scY3TJIGcpXvAhiQz9ArlQHYoJCYWxhDgsNdeBIt1Hw11AHTAtawTylDnQ5vg5D315Cx/0rkC+lDsQEhcKskBWMLcyl1+QvVQxGJiYwLWiFfMWL4GOg6i8VMUFhyF+S3UNzkmXxIoj7rPxjU8rfXEP5n+w2Ci/SKX+ZsRHaH1+H/m8voc3+FbBMKf/k+ARcHjUbVb/tjaGxd9Hb7zheHbsAP8/dUjpiPiv/2KAw5GP55zhDuQ589H2GKB8/6Xn+ahVh07IBws5c1TGHlBHT4kXV6kBicBiMLMylX52V+fb8XuUGKpVRQSuYpNSBaoc9UfflFVTZsxKmJT4N9Xi3ZhueT5wPeWyc2usTg0NVjgUAs5LFYWyrngbKPqbF1NuAhCBF+ZtoaAMe9vheJYiWSip/I2M4HV2P+q8vo9reFVKZJkdE4cPJS59eIAgoMao/Pvzz6TNeeupIRN95iA+nLmdfBilDpsXU24CEoFDI0mgDHn89Eh8OaK4DxiltQJVDXqj94ioq71oFE6XPddDabQiYNE9jGwAA9pNH4uPdh4g4fUnjfiLSTO+T3Hbu3Bn79+/H27dv0bFjR1y+fBnCFzhLjpGlBeSf/UKQ+lymYdKxtBjnV8yVUvXPGQjccgg3O42EzMwUdQ6vBgRBMYHi6ll4OGo25HHxaZ4n6v4TXHbpjie//IkaG35V/IJKOcrE0gLJn9WB1OdGWtQB05Q60OzPGfDbcgiHOo2EkZkpOqfUgXfX7uJjYDCaLfsZxpYWKFihtDSZrpGpCYzTSIc2aSDtpfV3B7Qrf5OU8m/45ww83XIIJ1LKv11K+QNAoaoVEHDoLPbX741zg6agXM92qNivU7rp0KYdoqwxtOsAAJjYWMN5zzKEX76FoAPqk2hS9pJZmmdLHTDKnw8AUP63nxHy9wE86vYtZKamqLp/TaZmIgzbdwJW9WrCbsjXgJERCrVujMKdWkJmaqJFbkhbMg1tQGrvEU0T0KbFKKUNqLh0BoK3HsT9rt8pPvcHVmss/3Iek5Df2REvflbM0WJZtQKKj+gD//Hzs5oVyiKZpYVab5HU51lpA8r+9gtC/z4Avx4jIDMzRZW9azPVBlhUqYiiw/oiYOI8LVJPRABgrO8EAIC1tTU8PDxw5coVzJw5E7GxsRm/6D9GHhev1nCmPk+O0RxZ1niepGQAwOt1uxC45QAA4O43E9Ai6DIK1a+Fop2+QsSN+wg9mX40OiE4DAnBYYi664tC9Wui1Hd9EH7trjZZIi0lxcWr3UinPk/MQh14sG4XfFPqwIlvJmBY0GUUq18L767extFeP6L9zqX4LvImYoPDcHPhOjT9fRoSIqORHBev9kuZkZkpkrRIA2kvvfLX5m+fWv6+63bhSUr5//PNBAwIugy7+rVgZGGGKsN6YmvJZkiOi0fozfvIZ28H5xkj8XTbISSnkQ5t2iHKGkO7DpgWtUHdU14QZAJu9xwDiKI22aEsSK8OyGMy/91ITEoCAAR57UTIVkUdeDxwPOq9vgor11qI+vd2ei9HzIMnePrdDJT/fQYq/DUbH+8+wrtV21CwueZVRih7aCp/QSr/zLcBYkob8NZzF4JTyt93wAQ0CLyCAvVrIVJpCFq5BRNQcsxAPOr7I2IePAEAVFo9FwHuf6gNIaKcJ4+Lh2D6WR0wTb0OaN8GBHvtROi2/QCAp4PGweXlv8jvWgvRGbQB5VfOw+s5S1kH8oIvr1+CwTOIAEuqhg0b4vDhw/Dx8YGd3Zc1Y3ncmyCY2FpDMDKCmKy4MJoVK4LkmFgkhkdm+jyJoR8gT0hAtO+zT9vehyMxLBzmpYqheJ8OMCtmi9ZRirGdqRfyYj3b4pRVbRSsUx1icjIibz+UXh/90J+T3OaC6DdBsPisDuQrVgSJMbGI16IOxIZ+QHJCAj4o1YG49+GICwuHValieHcVCL5xDxvLt4SlnS1iQz+gdJtGiA15j8SPMYh+E4TCjhVVzmlZzBYfOcFZjop5EwTzz8rfolgRJGlZ/nEp5R+uVP7xKeWfr1QxWJWxR8STACQr9VwIvf0QztO/AwB8fBMEi2K2Kue0LGaLGJZ/jjOU6wAAmJUoinr/bAIAXGvuhoTQD6Ccl5BSB2BkBKTUAVM7WyTHxCIpC3Ug1u9THUhKqQNmpYpnGGABgOBNexC8ZR9Mitog8V0IyiyYhLiAN9pnijItIVBD+RfTofx9NZR/yeIAFOVfYenPKPFdX/i6TUToPsUwE7PSJVCwoQvy16iC8oumAFD0qqi0YjaKfN0B9zsOy6bckiYJge801AHFdSA5C3Ugzu/THIrKdSAaabcBpqVLwKqBCyyrV0GZX6cCUNSBcsvmwKZnB/h2yXjZaKIvmd6HCH3OzMwMdevWhampKeLj47F//359JylXRN55BDExCYXq15K2WTd2QcT1e1r9aigmJyPi5gMUqFlF2mZiYw1TW2vEvniDa80H4FL1Trhcqysu1+qK4IP/IPjgP7hcqysAoOTQnqi8YJzKOQu4OCL60TNQzgq98wjyxCQUU6oDxRu7IDgLdSD45gPYKtUBcxtrmNtaI/LFG5hZF0TPi9tgXrgQYoJCISYno1yH5nh9zhsA8O7fuyha2xFG5mbS60s0dsG7f9mDKSelln9RpfIvlsXyD735ADZK5W+WUv5RL97gY2AwClYsA5nJp67+haqUlyY9Dv73Luwaqk5kadeoNoJY/jnOUK4DRpYWqHt8HSCX41qz/lxBJBd9vKtoB6xca0nbrBrVQfQN7eoAkpMRfesBLGt8qgPGNtYwsbVG3IuMgyQFm7mi8pbfAbkcie9CAADWbZsi4ty/mU8DaS065TpQQKkNKNjIBVFZLP98NTWUf4CirS/98w8o/m0fPOr3E0J2HpGOi38TBG+HVrjp0kV6JAQG44X7H3g8YrrOeaT0xdxVXAdU2oCGLvh4U/s68PHWA1jWqCptSq0D8RkEShPeBOF2tZbwqddZeiQEBuPV7KXwHzlN2yxRDhNkhvMgBYP+U0RFRWHKlCn6TkaukMfG4c3G/XBc5Y6CdaqjaJeWKDdhCF78ofgF0dTOFjKlG970vFjihTJjBqBYz3bIV6U8anjNR+SdR4jw9kHcy0DE+L+UHklRH5EU9REx/i8BAK/W7IBNi/ooM8YNlhXLoKL7aBSqVwMvlm7IqaxTiqTYODzauB8tVrmjaJ3qKN+lJWpPGII7KXXA0s5WJeiRnttLvFBzzABU7NkO1lXKo7XXfITeeYQgbx/Ef4iASX5LNFo4EQXKlYTj0J6oNqQHbi5cBwB4c94bUa/eorXXAhSuVhEuk4fDrl4NPFi/O8fyTkBybBweb9yPJqvcUaROdZTp0hI1JwzB/ZTyt9Ci/H2WeMFpzACU69kOhaqUR3Ov+Qi78wgh3j4IOPQP5ImJaLpuLgpWKovSHb+C87Tv8ODPzQCAZ7uPw6xQATRYOh2FqlZAg6XTYZLPAs92HsuxvJOCoVwHyk/7FpYVSsNn4GTpfU3tbGFcIH96b0nZQB4bh5DN+1Dhr9nI71IdhTu3gv1PQxG4fCMAwESLOhC41BMlRrnBpkc7WFSpgErrfsXHu48QfT3jYGnskxco3KEFio3oB7NypVD+T3cYFyqI4M37dMkeZUAeG4egTftQ6a9ZyF+nOmw6t0LJcUPx5k9FG6BN+b/+zRP2PwyAbUr5O6xfgOg7jxDl7QOLKhVQZvr3eLVwDSIu34SJna30QHIy4vxfqjzEpCQkBochITAoJ7NPSGkDtuxFuWVzkM+lOqw7tULxH4fh7fINABR1QMhkHXj7x3oU+94Nhbu3h7lDBVRY45G5NiA5GfHPAlQeSE5CUkgYElkHiDJkMEOEPnz4gISEBFhYWKBAgQIAAFtbW/j6+uo5Zbnn0bgFcFzpjnpnNyIpIhpPZy6TVoho+e4yfAZNwZuNGX+5ebfnBIytC8Bh0USYFbVB2Dlv3OryfabSEHn7IW51+wGV54+Dw6/jEXX/Ca63HYr4QP6CmRsujluAr1a6o/vZjUiIiMa1mcuklYKGvbuMU4Om4FEm6sDTPSdgZl0AjRdNhEVRG7w5543DSnXgWO+f0GL1LHxz7xAin7/G0V5jEXzjHgBAlMtxuMv3aLV+Hvrc3IuIpwE40m0Uol+9zZlMk+TquAVostIdHVPK/8bMZdJKQQPeXca5QVPwOBPl/zyl/OunlH/gOW+cTCn/xMhoHG45CA3/mI5u13cjNuQ9bs1diUdrdij2R33E8Y7fosmqWag64mu89/HDsf+NUFm2m3KOIVwHivVoCyNLCzT0Vg2qvt6wF/cGT9U+U6SV5xPno8LyWXA6tRlJEVF4OftPaaWgeq+u4snQyQjevDfD84TtPQ7jQgVQdsFkmBS1QcT5a3jUY2Sm0pAQGAS/fmNR1mMKynpMRtS1O3jQfiDkXFEwxz2bsACV/pqFmqc3ISkiGgGz/pRWCmrw5gr8hkxG0KaM24DQvSdgbF0Q5T0mpZS/Nx50V5S/beeWEIyNUWb6KJSZPkrldReMK2d/pkgrAZPmo9yy2ah2YguSI6Lwes4f0kpBLgH/wn/4JIRkog14v+84jK0LosyCyTAuYoPIC9fwuNd3OZ18oi+eIIr6m7Xu5MmT2LJlC3x8fBAf/2k+AHNzczg5OWHgwIFo1apVls59THDIrmRSHvVE3wkgvTPP+BD6Dyul7wSQ3hUwkes7CaRnyXLOAPklMzVmG/Clqx/3VN9JyFGJHarpOwkSkyMPMz7oC6C3HixeXl5Yvnw5hg0bhh9++AE2NjYwNTVFQkICQkNDcePGDUyZMgVjx47FgAED9JVMIiIiIiIiIqIM6S3A4unpCQ8PD409VCpUqABXV1c4ODhgzpw5DLAQERERERERkUHTW4AlLi4OJUuWTPcYOzs7REVF5VKKiIiIiIiIiPIGgaMgDY7eVhFq3bo1pkyZghs3biApKUlln1wux61btzBt2jS0bdtWTykkIiIiIiIiIsocvfVgcXd3h4eHB4YOHYrk5GQUKlRImoMlPDwcxsbG6NKlC6ZO5YoFRERERERERGTYtF5FKCkpCd7e3rh69Spev36NqKgoWFtbo0SJEmjatClq164NQYu+SrGxsfD19UVISAhiY2NhZmYGOzs7VK1aFebmWV8DhKsIEVcRIq4i9GXjKkLEVYSIqwh92biKEP3XVxFK7uyo7yRIjA4+0HcSDEKmAywJCQnYtm0bNmzYgHfv3qFgwYIoUaIELCwsEBkZiaCgIERFRaFo0aIYPnw4evfuDVNT05xOf5oYYCEGWIgBli8bAyzEAAsxwPJlY4CFGGDJPQywKGRqiJCPjw8mTZoEExMT9OvXD+3atUPp0qXVjnv8+DHOnz+PLVu2YNOmTVi0aBFq1aqV3WkmIiIiIiIi+rLpbUZVSkumerC0b98e48eP17ikclpOnDiB33//HcePH9cpgVnFHizEHizEHixfNvZgIfZgIfZg+bKxBwv953uwdDWgHiz72YMFyGSAJTExESYmJlqfPKuvyw4MsBADLMQAy5eNARZigIUYYPmyMcBCDLDkHgZYFDI1RCirQRJ9BVeIiIiIiIiI/tNkDCIbGq2XaRZFEbt27cLZs2cRGxsLuVw1MiwIAjZu3JhtCSQiIiIiIiIiMnRaB1iWLFmCdevWoWTJkihWrJjaksxarvpMRERERERERJTnaR1g2b9/PwYPHozJkyfnRHqIiIiIiIiIKCNcRcjgaF0k0dHRaN68eQ4khYiIiIiIiIgob9I6wOLi4oJbt27lRFqIiIiIiIiIiPIkrYcIDRs2DBMnTkRSUhJq1qwJCwsLtWPq1q2bLYkjIiIiIiIiIg24ipDB0TrAMnjwYADAX3/9BQAqk9yKoghBEPDo0aNsSh4RERERERERkeHTOsCyadOmnEgHEREREREREWUWJ7k1OFoHWOrVq5cT6SAiIiIiIiIiyrO0DrAAwPPnz/Hnn3/C29sbkZGRsLa2Rp06dTBq1ChUqFAhu9NIRERERERERGTQtA6wPH36FH369IGRkRFatGgBW1tbhISE4OzZszh37hx27drFIAsRERERERFRTuIktwZH6wDL4sWLUbJkSWzevBlWVlbS9qioKAwcOBC///47li9fnq2JJCIiIiIiIiIyZFpPi3P9+nV89913KsEVALCyssKIESNw/fr1bEscEREREREREVFeoHUPFmNjY5iZmWncZ2pqioSEBJ0TRURERERERETp4BAhg6N1D5bq1atj27ZtEEVRZbsoiti6dSucnJyyLXFERERERERERHmB1j1Yxo4di759+6Jz585o164dihQpgpCQEBw/fhzPnz+Hl5dXTqSTiIiIiIiIiMhgaR1gqV69OtatW4clS5Zg+fLlEEURgiDAyckJa9euRd26dXMinURERERERESUSuvxKJTTtA6wAED9+vWxa9cuxMbGIjIyEgUKFICFhUV2p42IiIiIiIiIKE/IVIDl+vXrqFatGvLly5epVYLYi4WIiIiIiIgoB3GSW4OTqQDLgAEDsHPnTtSoUQMDBgyAIAjSJLep/1f+99GjRzmaaCIiIiIiIiIiQ5KpAMumTZtQoUIF6f9ERERERERERPRJpgIs9erVk/4vCII0XOhzkZGRuHjxYvaljoiIiIiIiIjUcZJbg6N1kbi5ucHf31/jvocPH2Lq1Kk6J4qIiIiIiIiIKC/JVA+WyZMn4+3btwAAURTh7u6O/Pnzqx334sUL2NraZm8KiYiIiIiIiIgMXKZ6sLRt2xaiKEoT2wKQnqc+ZDIZatWqhQULFuRYYomIiIiIiIgIilWEDOVBADLZg6VFixZo0aIFAMWKQu7u7tKkt0REREREREREX7pMBViUbd68Od39z549Q/ny5bOcICIiIiIiIiKivEbrAEtERAR+//13eHt7IyEhQRo2JIoiYmJiEBERgUePHmV7QomIiIiIiIgoBUfmGBytVxGaP38+du/ejTJlysDIyAhWVlaoXr06EhMTERkZidmzZ+dEOomIiIiIiIiIDJbWPVguXryI0aNH49tvv4Wnpye8vb2xdOlSfPz4Ef3798fTp09zIp1ERERERERElIqTyxocrXuwREZGwtnZGQBQoUIF3L9/HwCQL18+DBkyBOfOncvWBBIRERERERERGTqtAyzW1taIiooCAJQtWxZhYWEIDw8HANjZ2SEoKChbE0hEREREREREZOi0DrA0aNAAq1atwps3b1C6dGkULFgQ+/btAwCcPXsW1tbW2Z5IIiIiIiIiIlIiEwznQQCyEGAZO3YswsLCMHnyZAiCgG+//RYeHh5wdXXFhg0b0KNHj5xIJxERERERERGRwdJ6klt7e3scPXoUL168AAAMHjwYtra2uHXrFmrUqIFu3bpldxqzxFvfCSAivcun7wSQXj3RdwJI78wTtf4dif5jkvSdANKrqnIjfSeBiL4wWgdYAgMDUbx4cVSpUkXa1qlTJ3Tq1Anv37/H/v370bVr1+xMIxEREREREREp4+8IBkfrImnRogVGjBghTXSr7NWrV5g6dWq2JIyIiIiIiIiIKK/IUszr+vXr6NmzJ54+fZrd6SEiIiIiIiKijOh7YltOcqsmSwGWxYsXo2DBgvj6669x6tSp7E4TEREREREREVGekqUAS9GiRbFlyxa0bNkSY8aMwdKlSwEAgsDIFRERERERERF9ebSe5Pb/7N13WFTHGgbw9yzLwtI7qNjAAmJDFLH3FmPsJuq1G3uLsZeIPWhMbIlGiSUaa+xJ7CX2hhQLTcWKVKnSYe8frCvIIiwLLsT39zz73LunzM5kPgf4dmbOWxKJBCtXrkT16tWxevVqBAQEYNSoUcVZNyIiIiIiIiJSQuAmt6VOkRMsb40aNQrVqlXD9OnTcf/+/eKoExERERERERFRmaJyzqt8+fKQSCS5jrVt2xa7d++GtrZ2sVWMiIiIiIiIiKisUHkGy7lz55Qer1GjBg4dOoTAwEC1K0VEREREREREH8Cn95Q6hUqw3Lp1C7Vq1YK+vj5u3br1wWu50S0RERERERERfWoKlWAZNGgQ9u3bh7p162LQoEH5JlFkMhkEQYC/v3+xVpKIiIiIiIiIqDQrVILl999/h729veL/ExEREREREZEG8SlCxSYtLS3PXrNFUagEi6urq9L/T0RERERERERUFu3evRubN29GWFgYTp48CU9PT1hbW2PcuHFFKq9QCZb169cXukBBEDB+/PgiVYaIiIiIiIiICoGb3Krl2LFjWLVqFYYMGQJPT08AgL29PX744Qfo6upi+PDhKpfJBAsRERERERERfVK2bNmCuXPnomfPntiyZQsAYPDgwdDT08PmzZtLLsESEBCgcsFERERERERERKVRSEgIGjZsmOd448aNsWjRoiKVWezb4jx+/Li4iyQiIiIiIiKinERC6XmVQRYWFggJCclz3NvbG1ZWVkUqs1AzWHKKjY3F6tWrcfPmTaSlpUEmkwHIfkRzUlIS4uLi+JhmIiIiIiIiIiq1vvzySyxatAizZ88GkD1Z5PLly1i9ejWGDBlSpDJVTrAsX74cf//9N1q0aIHHjx9DKpWiSpUq8PLyQnx8fJGn0hARERERERERfQxff/01EhISMHXqVKSmpmL06NEQi8X46quvMGbMmCKVqXKC5dKlS5g4cSJGjx6NLVu24ObNm1i9ejXevHmD//3vf3j48GGRKkJEREREREREhVTsG358Wm7fvo2JEydi7NixePjwIWQyGezs7GBgYFDkMlXukvj4eDg7OwPIfoTRvXv3AAD6+voYPnw4Lly4UOTKEBERERERERGVtIkTJyIoKAhSqRR16tRB3bp11UquAEVIsJiamiIhIQEAUKVKFURHRyM2NhYAYG1tjfDwcLUqRERERERERERUkszMzBS5jeKi8hKhJk2aYOPGjXBwcEClSpVgbGyMQ4cOYdiwYTh//jxMTU2LtYJERERERERE9J4y+vSe0qJly5YYPXo0WrVqhcqVK0NHRyfX+QkTJqhcpiB7+xigQnr58iUGDRqE8uXLY+fOndi6dSs8PDxgbGyM+Ph4jB8/vkgVKW4LhZqargIRaZi+pitAGiXRdAVI43Q1XQHSuAxNV4A0ypF/e37y2mQFaroKJSprrpumq6AgWnpd01VQWdu2bfM9JwgCzp49q3KZKs9gqVChAv755x88efIEADBs2DBYWFjgzp07qFu3Lnr27KlyJYiIiIiIiIhIBdzkVi3nzp0r9jJVTrAAgK6uLhwcHBTvu3Xrhm7duhVbpYiIiIiIiIiISpJMJsOlS5cQFBQEsViM6tWrw83NDVpaWkUqr0gJlpMnT+LOnTuIj4/Pc04QBCxbtqxIlSEiIiIiIiIiKmmxsbEYMWIE7t+/D0NDQ8hkMiQmJsLJyQlbt26FkZGRymWqnGD54Ycf4OnpCQMDA6UfKAhc7EhERERERERUorjJrVo8PDyQkpKCw4cPK1boBAQEYPr06Vi1ahUWLlyocpkqJ1gOHTqEAQMG4LvvvlP5w4iIiIiIiIiINO38+fNYu3Ztru1PHBwcMG/ePEydOrVICRaVt8VJTU1Fx44dVf4gIiIiIiIiIqLSICMjAxYWFnmOW1hYIDExsUhlqpxg6dixI86cOVOkDyMiIiIiIiKiYiAqRa8yyMnJCbt3785zfPfu3XB0dCxSmSovEZozZw769u2LQYMGoW7dupBKpbnOC4KA8ePHF6kyREREREREREQlbcqUKRg8eDB8fHzQoEEDAICXlxcCAgLg6elZpDJVTrDs2LEDISEhCAkJwa1bt/KcZ4KFiIiIiIiIiEozZ2dn/PHHH9i6dSsuX74MmUyGmjVr4rvvvkPdunWLVKbKCZadO3eiW7dumDVrFszNzYv0oURERERERESkBj5FSG1Vq1bFN998g0qVKgEATp06pfj/RaHyaqmkpCT06dOHyRUiIiIiIiIiKpPu37+P9u3b59qH5fvvv8fnn3+OoKCgIpWpcoKladOmuHHjRpE+jIiIiIiIiIiKgaY3ti3jm9x+//33aNu2Lb755hvFsVOnTqFFixb4/vvvi1SmykuEvvjiC8yfPx9Pnz6Fs7MzDAwM8lzTo0ePIlWGiIiIiIiIiKik3bt3D8uWLYNEIlEcE4vFGDVqFPr06VOkMlVOsEyePBkA8Pfff+Pvv//Oc14QBCZYiIiIiIiIiEip1NRULFy4EKdOnYKuri6GDx+O4cOHf/Ce27dvY+bMmTh79qzS88ePH8eUKVMQGBhYqDro6+vj+fPnqFixYq7jERERuZIuqlA5wZJfY4iIiIiIiIjoIynDm9yuWLEC9+7dw/bt2xEaGoqZM2eifPny6Ny5s9LrAwMDMXnyZOjo6Cg9Hx8fj6VLl6pUh06dOmHhwoVwd3dXPDXo7t27WLRoETp06KBag+RUTrB89913GDlyJJo0aVKkDyQiIiIiIiKiT1NSUhL279+PzZs3w8nJCU5OTggODsYff/yhNMGyZ88eeHh4oGLFikhMTFRa5ooVK1CxYkVERkYWuh7ffvstnj17hmHDhkEQ3iWrOnTogBkzZqjeMBQhwXLnzp1cH05EREREREREVBgBAQHIyMiAs7Oz4piLiws2btyIrKwsiES5d829ePEiPDw8kJiYiPXr1+cp7+bNm7h58ybmzp2LUaNGFboeenp62Lx5M0JCQhAUFASxWAx7e3tUqVKlyG1Teb/fFi1a4OjRo0hPTy/yhxIRERERERGRGkRC6XmpIDIyEqamprn2ObGwsEBqaipiY2PzXP/LL7+gY8eOSstKS0vD/Pnz8d1330FXV1elerxVtWpVtGvXDjY2NkUu4y2VEyw6Ojo4evQoXF1d0adPHwwePDjXa8iQIYUu6/Xr17h48aLifXh4ODZt2oSFCxfC09MTERERqlavTNPSkeALz6WYGXMLU0MvocnUYQXeU7GZCyY9OpPr2AJZoNJX3UHdc3+eRBtj7x5D5VauSsvWMTLANy8uot6QnkVvFKmEMfBp09KRoJPnUkyIuYUxoZfQsBD9X6GZC0a+1/8AUKN3JwwPPIHJid7oc/I3GFUqrzinZ2mGL/avwYSYWxgRfApO7/VvheYu+N/tA5ic6I3B3odRqR2XhH4sWjoStPNcitExtzAi9BKcCxED5Zq5YIiSGKjWuxMGBZ7A2ERv9Dj5GwxzxIDU0gyf7V+D0TG3MDj4FBzfiwGjKrbocXorxiZ643/3/0alDs3UbxwVipaOBC09l2JIzC38L/QS6hQiBqybueArJTFQtXcn9As8gWGJ3vjs5G8wyBED+rY26HRsI4bGeaF/yFnUnqz897f8yqaSoaUjQRvPpRgRcwtDQi+hXiH636aZCwYq6SO73p0wIPAEvk70Rrf3+t/A1gafHduIkXFe+F/IWdR9r/+7HP4F42SBuV6Vu7ZWu31UMJGOBDU9l6L561to+vISKhYiBoybucDtYd4YsOzdCY0DTqBlgjfqnfgNOjl/DthXQr3jnmgRfwdNnpxHxWkjlJYtta+Elm98i94gIiWSk5PzbCL79n1aWppKZf38889wcnJC8+bNC33PkSNH0KtXL4SGhgIAHj16hI4dO6JPnz5o27Yt5s6di8zMTJXq8ZbKS4TCwsJyTeWRyWS5zr//Pj83btzAhAkTUKVKFbRs2RJ37tzBiBEjUKVKFVSpUgV37tzBhg0bsGnTJri4uKhazTKp48oZKNewNra3HQKTyuXRY7sHYp+Gwv/ASaXXW9WugX5/rkFGSmqu4z/Y5P5FuMk3Q+H0ZRcEHnm3QbGWjgS9d62CVe0a+danvcd0GFWwVqNFpCrGwKet1coZsG5YG/vaDoFR5fLost0D8U9DEZRP/1vUroEvlPR/+SbO6Lp7Fc5OWIznF26i9Q8z8PmeH7Gr6VcAgO6HfoagJcK+NoNhUMEaXX73QFp8IoIPnYaepRl6HtuIG0s3IujASTh81RU9j/yC32p2RuLL8BL/b/Cpa75yBqwa1sbBtkNgWLk8Om73QMLTUDzMJwbMa9fAZ3+uQeZ7MWDTxBmddq/CvxMW48WFm2jxwwx03vMj9stjoOuhnyHSEuFgm8HQr2CNjvIYeHTodPb5wz8j+m4Q9jTsDfse7dH10HrscPwMic9flex/AELjlTNg2bA2/pLHQOvtHkh8GoqQfGLAtHYNdFASA9ZNnNFu9ypcmbAYoRduwu2HGWi350cckcdA+32rkfg0FAddesG0VjW03fUDEp++xJPDZwosm0pOE3n/H5H3fzv5GPA4n/43q10DnZX8HLBp4owOu1fhkrz/m/4wAx33/IiD8v7vuG81Ep6GYr+8/zvs+gEJT18iRN7/prXscXrgNLw4e01RZmpMXAm1mnKyXzkDRi614dNuCHQrl4fjNg+kPA1FZD4xoF+7Bpz2r0HWezFg1MQZtXatQvDExYi5cBPVVs6A0+4fcafZV4AgoO5fmxB/6y5uN+gJafXKcNr1I1JfhiNi91+KMnRsbVDn2K/Qkqr3jT7R+3R0dPIkUt6+V2UGSVBQEPbt24djx44V+p6TJ09i1qxZ6NKli+KzZs2ahfj4eGzcuBEGBgaYO3cufv/9dwwbVnCC830qz2DZsWNHga/CWLp0KQYPHoz9+/cDyN6UZuDAgTh06BB++uknHDlyBIMHD1Z5J+CySltPCueRfXFi8lKEeT9AwOEzuLLCE64TBiq93mXUlxh+dQ8Sw6PznHsTHqV4aUt14TppEI6OnIfU+OwNgSwc7THy+j6Y2lfKtz4Vm7mgajs3JLz6tGYRaRJj4NOmrSdFnZF9cX7yUkR4P8DDw2dwa4UnnPPp/7qjvsSAq3vwRkn/N5w2HP47j8Jv017EBIXg3KSl0C9nCam5KaxdaqNCswb4e8C3iPDxx+O/L+CWhycaTc/+5qp8swbIysjErR9+Q1zIC9xY/isyUlJR3q1+STafAIj1pHAa2RcXJy9FpPcDPD58Bl4rPFE3nxioPepL9L26B0lKYqDBtOEI3HkU9zbtRWxQCP6Vx4CuuSmsXGqjfLMGODHgW0T6+OPJ3xfg5eGJBvIYsG3jBmP7ijg3+jvEBDzG7e834dU1HzgN712i7afsGHAY2RdXJy9FtPcDPDl8Br4rPOGUTww4jvoS3a/uQbKSGKg7bTiCdx6F/6a9iAsKwdVJS6FXzhI65qaQmBjBuokz7izZgPiHT/H06Fm8OHEJFXLMVvtQ2VQyxHpS1BrZF5cnL0WU9wOEHD4D7xWeqJNP/9ca9SV65TMG1J82HEE7j+KBfAy4JO9/XXNT6JgYwaaJM7yWbEDcw6d4cvQsnp24BFt5/4sk2jCqaouIW3eRHB6leGWlcXuAkibSk6LciL4InrIUid4PEHX4DJ6t9ESF8cpjoPyoL9Hgyh6kK4mBSt8OR/jOowjdtBfJQSEInrwUknKW0DY3hcTaAgk+/gga547kh0/x+vhFxJy9BpPm777UtujeDg1vH4QsVbXZBPSRiUrRSwXW1taIiYlBRkaG4lhkZCR0dXVhZGRU6HJOnTqFuLg4dOjQAc7Ozvj6668BAM7Ozjh69KjSe3bs2IFx48bhxx9/hJmZGYKCgnD37l0MHDgQrVq1gouLC6ZMmYKDBw+q1ig5lRMsbz169Ai7d+/Gpk2bsH//fjx+/Fil+58+fYoePXoo3r948QKff/55rmt69uyJR48eFbWKZYp1PQdoaYvx/Kq34tizy16o0LgeoGRT4WpdWuLwkJm4/tO2D5bbetEkhJy9hpAc30BUaeWKJ+dv4LcmXyq9R0uijW6bF+Of8YuQyUH1o2EMfNos5f3/Mkf/v7zsBZt8+r9ql5Y4PmQmvJT0f8XWrgg6eFrxPu7JC2yu2g7J0TEwsauIpIhoxIW8UJyP9AuEdcPaEInFSImOhZ6FKar3zH40XbXu7SAx1Efk3aBibC0pY1HPASJtMV7liIHQD8RA5S4tcXrITPgoiQHb1q54lCMG4p+8wLaq7ZASHQNjeQzE54iBKL9AWMljwMatHiLvPEBGUrLi/KvLXrBpUr94Gkr5MpfHQHiOGAi77AWrfGKgYpeWuDBkJu4qiYFyrV0RkiMGEp68wO6q7ZAaHYPM5BSkv0lCzWG9IIjFMK5RFdbNGiDK279QZVPJeDsGhOXo/1eXvWCdT/9X6tIS54bMhK+SPirf2hWP3+v/nfIxIEPe/w7DekEkFsOkRlWUy9H/pjXtIJPJEP/4efE3kj7IoJ4DBG0x4nLEQNxlLxjlEwNmnVvCf+hMPF+9Lc85k9auiDz0LgZSnrzAdbt2SI+OQVpYJB70/waZiW8AAMZNG8C4ZSPEXLipuN68a2uEfLcGwVM+jS+76eNydHSEWCyGj4+P4piXlxfq1KmTZ4PbD/nf//6H48eP4/Dhwzh8+DCWLFkCADh8+DDatm2r9J6AgAB89tlnivfXr1+HIAho06ZNrvo9e/ZMxVZlU3mJkEwmw4IFC7B///5cy4EEQUDPnj2xbNmyQpXj5OQET09PLFy4EADQtm1bnDlzBg4ODoprjh49Cnt7e1WrWCYZlrNEUlQMsnJsHvx29oGeuQmSomJyXb+353gA+ODeGEYVy6HOgM+xRT4d9K3bG3d/sC4t5oxBmPcDPD59RdVmkBoYA582/XKWSM6n/6XmJkh+r/+PyPv//f1TdIwNITUzgUishd4nPGFVzwGvbvjhzDh3JIZG4E14FHRMDCGW6iIjOQUAYFjRBlra2tAxNsSLS7fhvX4nvvhzLWRZWRCJxTg+dBZigkJK+L8AKYuBpPAoiPOJgb/lMfD+/ikSY0PomplAEGuh+wlPWNRzQPgNP5wf5443oRFIUhIDBvIYkBgbQr+cJd6E5p65lhQeDQNbm5JoNuWgV84SKe/FQLI8BnTNTZDyXgycksdAjXxiQCTWQpcTnjCv54CIG364PM4dSaERyExNw5Xxi9Bs/XzUnjwYIrEYgVsPIHDLnwWWTSVH1f4/Ie+jmh/o/89zjAEX5WNAZmoaLo5fhJbr56OuvP/9tx6Av7z/TR3tkBaXiPY7VqB8a1ckPg/DrQXr8OzERVDJ0ilnifSoGMhyxEBaeBS0pLrQNjdB+nsxcK9XdgzYvBcDYmNDaMt/DtQ77gn9eg6Iv+GHoPHuSHtvfG8Scg66lSsg6ti5XMuQAkfNBwCY5LNPH5USKm4uW1pIpVL06NED7u7uWLZsGSIiIrBlyxYsX74cQPZsFkNDwwKXC5mYmMDExETxPiwsDABQuXLlfO9JT0+Hjo6O4v3t27ehp6eHOnXqKI5lZGRAW1u7KE1TfQaLp6cnDhw4gEmTJuHs2bPw8/PDmTNnMGHCBBw9ehTbtm0rVDkLFizA2bNn0alTJ3h4eMDW1ha///47hgwZgoULF6J///7YsmUL5s+fr2oVyyRtPSky3psp8Pa9lo5E2S0FajCiD0Jv38PLm36FvsfC0R4uY77CyW+WF+kzqegYA582bT1pntlCmUXof20DPQBA27Xz4L/zGA51GwstHQl6/vUrIAh4dcMXiaERaLduPrT1pDCxrwQX+QZ6Iok2tA30YWxXEVfd12Ona19cW7IBbdfOg1lNu2JqKeWnuGJAIo+BVmvnIXDnMRyTx8AX8hgIu+GLN6ERaLVuPsR6UhjbV1Jspqsl0YY4n3oUdRyiwsvvvz1QtHGg6dp5eLjzGE7KY6CzPAYAwMTRHk+Pncdhty9xYegsVO3TGdUGdCumllBRFHf/t1g7D0E7j+Efef9/lqP/TR3t8eTYeRxw+xJnh86CfZ/OqC7vfxMHO4j1dPHs5GX81Xkknv3zLz47tgGWLrWLo5n0ASI9aZ4lOVny9yIVYkBLHgPV18xD2B/HcPeLsRDpSFD32K95ZsLc6zMJft1Gw6C+I6r/NFvNFhAV3uzZs+Hk5KT4+3/ixImKJwU1b94c//zzT4l8btWqVXH//n0AQGpqKq5evQo3NzdoaWkprjl//nyRH9Ws8gyWP//8EyNHjsTYsWMVx2xtbTF+/Hikp6dj3759GDp0aIHl1KxZEydOnMDBgwdx69YtXLt2DSYmJoiIiIBMJkOjRo2watUqlC9fvsCy/gsyUlIhfm/gfPs+PSmlSGU69ukEr417VLqn2+YluPDdWryJ4Jrrj40x8GnLSEnN8wv02/cZKvR/Vkb2jud3Pffjwc4jAIC/B07DuPArKO9WH6HXvHGs7xR027caE+O9kBQRjVsrPNHmpzlIi0+E68yvIQgCri3+GQAQ4f0A5RrXRYPJg3FmnHsxtJTy86EYUGUMeBsD9z33I0AeAycHTsPI8CuwcauPsGve+KfvFHTZtxpj4r2QHBENrxWeaCmPgcyUVGibm+SphypxSEVT3ONAgOd+BMtj4NzAaRgUfgXWbvWhJdWBw8g++MO2FTJTUhHldQ/6FazhPG8sHu4q/EaBVLwyi7n/H3juR5C8/08PnIZh8jFAS6qDWiP7YLu8/yO97sGggjUazhuL4F3HcHvxL7i7dgdSY+MBANF+gbB0cUKtUf3w7+h7xdFUykdWSiqE92LgbWIlU4UYkMlj4NVv+xEuj4EH/5uGZmFXYORWH/HX3i1BSvDK7tOHU5ej1s4f8HDailwzaIhKilQqhYeHBzw8PPKcCwwMVHpPr1690KtXr3zLbNy4cb735ixjyZIlCAsLw/Xr15GYmIj+/fsDyN5o9+zZs9iwYQOmTJlS+MbkoHKC5dWrV3Bzc1N6rnHjxtiyZUuhyzIwMFA83vlTF/8yHHoWphC0tCCTPxLKwMYS6UnJSJH/gFOFka0NrJyqIyDHU2MKYlypPCo1awCbejXRcdVMANnfqH6+cSGcvvwMuz77WuV6UOExBj5tiS/DIX2v//WL0P/JUTHITEvD64B3+2KlvI5FcnQsDCvaANeAsNt3sdmuHfSsLZAcFYMqHZshKfI10t8kwdrFCRG+AbnKjPD2h0Xt6sXTUMrXh2IgtQgxEPNeDKTIYyDsGhBx+y6254iBSh2bIVkeA4kvw2HmVC1XmXo2FnjDDa9LXNLLcOi+FwNSG0tkqBgDKfIYiM0RA6nyGNCvaAPDyhUQF/w019OBorwfwHnumOJrDKnsTT79r+oY8KH+N6hoA4PKFRD7Xv9Hej9Ag7f9L5Pl+bwY/8d5xgUqfqkvw6H9XgxIbCyRmZSMDBViID0qBllpaUjKEQMZr2ORER0L3Yo2SH5kDuMm9RGV43fENw8eQqQjgdjIAOnRMcqKpdKoyDuqfroGDx6MmJgYbNiwASKRCLNmzVI84nnp0qXYu3cvunfvjoEDlW8uXRCVu6RChQr5ZoUCAgJgZmZWpIook5qaisOHDxdbeaVZmI8/MtMzYJvjSR2Vmrvg5a27QCEffZ1Thcb1EPcsFPEqPFIz/mU41lbrgI31eyheCaEROP/dWhwbOVflOpBqGAOftgh5/+d8Wk+F5i4IU7H/ZZmZCPe6D8t67/azkpqbQmphirgnL6FraoyvLu2CrpkJksKjIMvMhF3X1ngu39guMTQC5rVy/xJt5mCXa1NcKhlRPv7ISs+ATY4YKNfcBRFFiIEIr/uwyBEDuuam0LUwRfyTl9AxNUaf92KgatfWeCGPgbDrvrBq4AQt3Xfrk8s3d0HYdV/1G0kf9DYGrHLEgE0RYyDK6z7Mc8SAjjwGEp68xJvQCBhXqwxRjvXlJg52uTY+po/vbf9bF8MYEPle/+ccA5KU9L+pgx0S5P3fdutytPkt956KFvUdciVtqWQk+vhDlp4BoxwxYNzcBQlFiIEEr/swyBED2uam0LYwRcqTl5BWtUXtA+shKW+lOG/oUhtpEdFMrtAnYfLkybh+/TquXr2aa/XNgAEDcOTIEXh4eKi02W5OKt/1+eefY926dTh+/Lhik1uZTIZ//vkH69evz7Ujr7oSEhIwa9asYiuvNMtIToHv9sP4fKM7yjesg5rd26HJtOG4seZ3AIC+tQXEOX7ZLYhV7eqIfKDaE5hkmZmIefQs1ysrIwNvIqKREMpvLksaY+DTlpGcgvvbD6PDRnfYNKyDat3bodG04bgj7389Ffr/9qqtaDBpEGr06QwzBzt03roMET7+CLvph5SYOEgM9NBqxXQYV7VFnRF9UHt4b9xa4Qkge2mR3Wct4TJlCIyr2qLB5CGo2rk5fH7ZVWJtp2wZySnw334YbTe6w6phHdh1b4cG04bDJ0cMaBUyBrxXbUW9SYNQrU9nmDrYocPWZYjy8Uf4TT+kxsRB20APzVZMh1FVWziN6INaw3vDSx4DL/+9iYTnr9Bh63KY1aoGl5lfw9q1Lu7/9mcBn0rqykxOQdD2w2ix0R2WDeugcvd2qDdtOO7JY0CqQgz4rdqK2pMGoWqfzjBxsEPrrcsQ7eOPyJt+eHrsHLLS09HScwmMq1dBpc/bwHnOGNxfu6Mkm0cFyEhOQeD2w2glHwOqdm+H+tOG424R+t9n1VbUnTQI9vIxoK18DIi46Ycn8v5vI+//yp+3QYM5Y+An7/8nR8+hxv+6oeag7jCyr4SG88fDprkL7q7bWWJtp2xZySkI+/0wamxwh2HDOrDo3g6Vvh2O52uzY0BibQFRIWPg+Y9bUWHiIFj26Qw9Bzs4bFmGRB9/xN/0Q/ytu0jwug/H35ZBz9EeZl1awn7FdDxdtrEkm0dU6tWsWRM1a9ZUqwyVlwh9/fXXuH37Nr755htMnz4dpqamiImJQWZmJlxdXTF58uQiVSQmJgZpaWmQSqWKZ19bWFggICCggDv/O05OXY6uG9wx5Px2pMQl4sKCdQiQP15tWtgVHB46C77bDxWqLANrCyTHxJVkdakEMAY+bRemLkeHDe7od347UuMScWXBOgTL+39c2BUcHzoL9wvR/0EHTkLH1AitVk6HnpU5nl+4icPdxynOH/vyG3T8dSGG3j2GuJAXONZ3MsJu3wUAvLrhiyO9JqLZoklotngyXgeG4MBnoxD94GHJNJpyuTR1OdpscEev89uRFpeIGwvW4ZE8BkaGXcHpobPgX4gYeCiPgeYrp0NqZY6XF27irxwxcPzLb9D214UYePcY4kNe4J++kxEhjwFZVhb+6j4O7X9biq+8DiLu4VP83XM8ElWYDUdFd23qcrTY4I7P5TFwe8E6PJHHwKCwK7gwdBaCChEDIfIYcJPHQOiFmzglj4H0+ET81W4omq6Zi563/kRy5GvcWbIB/pv2lmjbqGBXpi5Hyw3u6C7/OXBrwTo8lvf/sLArODt0FgIL0f+P5f3fJEf/H5f3f1p8Io62G4rma+aiz60/kRL5Gl5LNuCBvP8fHzqNi+MWwmXeWBhUKo/X94PxV+eRSHj6suQaTgoPpy5HjV/cUf/cdmTGJSLEfR2i5DHQ7NUV+A+bhbBCxEDkgZMQmxrBfsV0SKzMEXvhJu72kP8cyMrC3R7jUGPdfLhc3YvMN8l4uW4HXsgTOVSGKHl8N2mWIJMVYe0BgH///Rc3b95EfHw8jI2N0ahRI7Rq1UqlMk6dOoWdO3fCz88Pqanv1oHq6uqidu3aGDJkCNq3b1+U6mGhoF7miYjKPn1NV4A0is+8oQ8/3JE+BRmargBplCP/9vzktcn68IanZV3W6paaroKCaAof5Q4UYQbLW61atVI5oZLT1q1bsX79eowcORITJkyAubk5JBIJ0tLSEBUVhdu3b2PWrFmYPHkyBg0aVOTPISIiIiIiIiIqaYVKsKxfv77QBQqCgPHjxxd43ZYtW+Dh4aF0hoq9vT0aN26MmjVrYvHixUywEBEREREREeXEWVpFFhgYCIlEgqpVqxZrucWWYBFyrP8qTIIlJSUFtra2H7zG2toaCQkJBVeQiIiIiIiIiOgDXr16hTFjxiAoKAgA4OjoiDVr1qBixYrFUn6hEiwFbTR74MABfP/990hPT8eUKVMK9cEdOnTArFmzMG/ePNSvXx9i8buqZGVlwcfHBwsWLECnTp0KVR4RERERERHRJ4Ob3KpsxYoVSElJwcqVKyESibBhwwZ899132Lp1a7GUX+Q9WAAgPDwc8+fPx6VLl+Di4oJly5ahUqVKhbrX3d0dHh4eGDFiBDIzM2FiYqLYgyU2NhZisRjdu3fH7Nmz1akiERERERERERFu3LiBdevWwcXFBQBQtWpV9O3bF2lpaZBI1H9EQpETLH/++Sc8PDyQkZGB2bNnY9CgQbmWCRVEIpFg/vz5mDZtGgICAhAZGYnk5GTo6OjA2toajo6O0NXl/v9EREREREREpL64uLhcy4EcHBwAANHR0ShXrpza5aucYAkPD8e8efNw6dIlNGrUCMuWLVNrvZJUKoWzs3OR7yciIiIiIiL65HCFkMoyMzOhpaWleC8IArS1tZGRkVEs5auUYNm/fz9WrFiBjIwMzJs3D//73/+KpRJERERERERERGVZoRIsYWFhmDt3Lq5evQpXV1csXbq0wCcAERERERERERGVJt7e3jA2Nla8l8lk8PPzQ1hYWK7rGjVqpHLZgkwmkxV0kYuLC5KSkmBkZIS2bdt+uEBBwLJly1SuSHFbKNTUdBWISMP0NV0B0ij1tymjso47uVHxTPimssqRyyc+eW2yAjVdhRKVtb61pqugIJpwQdNVKBQHBwcIgoCC0iCCIMDf31/l8gs1g8XY2FiR4blx40aBFSEiIiIiIiIiKk3Onj1bouUXKsFy7ty5Eq0EEREREREREalApOkKlD0VKlQo8Jr79+9jz549WLx4scrls0uIiIiIiIiI6JOVkpKC/fv3o0+fPujTpw+OHTtWpHJUfkwzEREREREREVFZFxQUhL179+Lo0aNITEyEqakpxo8fjwEDBhSpPCZYiIiIiIiIiMoa7n9aJGlpaTh+/Dj27NkDHx8fiEQiuLm54dq1a9i2bRtq1KhR5LKZYCEiIiIiIiKi/7zvv/8ehw4dQnx8PBo0aIB58+ahc+fOMDc3h5OTE0Qi9XZRYYKFiIiIiIiIiP7ztm3bBjs7Oyxbtgxt27Yt9qcgFznB8ubNGyQkJCArKyvPufLly6tVKSIiIiIiIiL6AK4QUtmiRYtw8OBBjB8/HsbGxujYsSM+++wzNG7cuFjKVznB8uzZM0ydOhX379/P9xp/f3+1KkVEREREREREVJz69euHfv364dGjRzh48CCOHj2KP//8E+bm5sjKysLz589RrVq1IpcvyGQymSo3jBgxAvfu3cOAAQNga2urdI1Sz549i1yh4rJQqKnpKhCRhulrugKkURJNV4A0TlfTFSCNy9B0BUijHPnt/ievTVagpqtQorI2ttF0FRREY85rugpFkpWVhX///RcHDhzAhQsXkJmZifr162PQoEH47LPPVC5P5QSLs7MzFixYgB49eqj8YR8TEyxExATLp40JFmKChZhg+bQxwUL/+QTLr201XQUF0ehzmq6C2l6/fo2jR4/iwIEDePjwYZFW5qi8REhfXx+WlpYqfxARERERERERUWlkZmaGoUOHYujQoR/cEuVDVE6wdO/eHb///jvc3NygpaVVpA8lIiIiIiIiIjVwlpbK1q9fX6jrBEGAk5OTyuUXKsEye/Zsxf/PyMjApUuX0KFDB9StWxdSqTRPRZYtW6ZyRYiIiIiIiIiISsr69eshEolgY2PzwesEQcD48eNVLr9QCZYbN27kev+2Mn5+fip/IBERERERERHRx9avXz+cPn0aANC1a1d07doVDg4OxVa+ypvclhXc5JaIuMntp42b3BI3uSVucvtp4ya39J/f5HZzO01XQUH09VlNV6HQMjMzcf36dfzzzz84c+YMzM3NFcmWKlWqqFV23mcsF2D27Nl4/vy50nOPHz/GmDFj1KoQEREREREREVFJ0NLSQrNmzbB06VJcvnwZ06dPx9OnT9G7d2/07NkTmzdvRmhoaJHKLtQSobeFy2QyHDp0CO3bt1e6we3Fixdx9erVIlWEiIiIiIiIiOhj0dbWRps2bdCmTRukpaXhwIEDWLVqFX788ceSe0zzwoULcfHiRQDZm71MmDBB6XUymQzNmjVTuRJEREREREREpAKV16OQMhERETh16hROnDgBLy8vVK5cGYMGDSpSWYVKsCxatAhXr16FTCbDnDlzMHbsWFSqVCnXNSKRCEZGRmjcuHGRKkJEREREREREVNLCw8Nx8uRJnDhxAt7e3qhYsSK6dOmCefPmqbXpbaESLNbW1ujZsyeA7BksrVu3hqmpaZE/lIiIiIiIiIjoY9q2bRtOnjwJX19flC9fHl26dMHcuXPh5ORULOUXKsGSk62tLR4+fKj0nCAI0NfXR8WKFWFgYKB25YiIiIiIiIhICYGPylLV999/D21tbbRo0QJ16tQBAJw/fx7nz5/Pc21+W6N8iMoJlkGDBkGQd2TOJzwLOTpXJBKhR48eWLRokdLNcImIiIiIiIiIPqby5csDAIKDgxEcHJzvdR/ae/ZDVE6wbNiwAVOmTEGPHj3w+eefw9zcHK9fv8bJkyexZ88eTJ8+HVpaWlizZg1sbW0xduxYlStFRERERERERB/ACSwqO3fuXImWr3KCZfPmzRgwYABmzpypOGZnZ4eGDRtCT08Pp0+fxo4dOwAAv//+OxMsRERERERERPSfp/KDne7fv48WLVooPde4cWP4+voCAGrWrIlXr16pVzsiIiIiIiIiojJA5QSLpaUlbty4ofTcjRs3YGFhAQCIiYmBkZGRerUjIiIiIiIiorwEofS8CEARlgj1798fq1atQnJyMjp16gRzc3NERUXhzJkz2LlzJyZOnIiwsDBs2LABjRs3Lok6ExERERERERGVKionWEaMGIHk5GR4enoq9lqRyWQwNDTExIkTMXr0aBw+fBhpaWmYOnVqsVeYiIiIiIiIiKi0EWQ5n7WsguTkZHh7eyMmJgbW1tZwdHSEvr4+ACAzM1Pjj2deKNTU6OcTkebpa7oCpFESTVeANE5X0xUgjcvQdAVIoxy5auGT1yYrUNNVKFGy7R00XQUFYchpTVehVFB5BstbUqkUTZs2VXpO08kVIiIiIiIiIqKPSeUEy+vXr7F06VJcuHABycnJeH8CjCAIePDgQbFVkIiIiIiIiIiotFM5wbJo0SKcP38eXbt2hY2NDUQilR9ERERERERERETq4NN7Sh2VEywXL17EnDlz8OWXX5ZEfYiIiIiIiIiIyhyVEyza2tqoWLFiSdSFiIiIiIiIiAqDE1hKHZUTLB06dMBff/2V7wa3pYW1pitAGscYID5F5tNmICrSQ/LoP0RbzBj41KVn8K+PT5lUkqXpKhDRJ0blBEutWrWwevVqPH/+HPXq1YOubu6HIAqCgPHjxxdbBYmIiIiIiIiISjtB9v5jgArg4ODw4QIFAf7+/mpVqjhsFGpqugqkYZzBQpzB8mnjDBbiDBbiDJZPG2ewkGvyQ01XoUTJ/uik6SooCANParoKpYLKM1gCAgJKoh5ERERERERERGWWWs9YTkhIwKNHj5CWlobMzMziqhMRERERERERUZmi8gwWALhx4wZ++OEH3Lt3D4IgYP/+/di8eTNsbGwwa9as4q4jEREREREREeXEVZCljsozWK5du4YRI0ZAV1cX06ZNw9stXBwcHPD7779j69atxV5JIiIiIiIiIqLSTOUEy+rVq9GuXTvs2LEDQ4YMUSRYxowZg5EjR2L//v3FXkkiIiIiIiIiotJM5QSLv78/evfuDSD7iUE5NWvWDC9fviyemhERERERERGRcoJQel4EoAgJFkNDQ0RGRio99+rVKxgaGqpdKSIiIiIiIiKiskTlBEu7du3w008/4e7du4pjgiAgLCwMGzduROvWrYuzfkRERERERET0PqEUvQhAEZ4i9O2338LX1xf9+vWDhYUFAGDq1KkICwtDuXLlMHXq1GKvJBERERERERFRaaZygsXY2Bj79+/H4cOHcf36dcTGxsLQ0BCDBg1Cr169IJVKS6KeRERERERERESllsoJFgCQSCTo168f+vXrV9z1ISIiIiIiIqKCcHPZUkflPVg+ZMeOHahdu3ZxFklEREREREREVOoVa4IlKysLmZmZxVkkEREREREREVGpV6QlQkRERERERESkQVwhVOoU6wwWIiIiIiIiIqJPERMsRERERERERERqKtQSodDQ0EIVFhcXp1ZliIiIiIiIiKgQRFwjVNoUKsHStm1bCIV4BJRMJivUdURERERERERE/yWFSrAsW7aMiRMiIiIiIiKi0oJ/opc6hUqw9OrVq6TrQURERERERERUZhVqk9s1a9YgLS1NpYKTkpLw008/FalSRERERERERERlSaESLPHx8ejYsSO2bduGiIiID14bGRmJX375BZ06dUJ8fHyxVJKIiIiIiIiIchCE0vMiAIAgk8lkhbnw2rVr+P777xEcHIx69eqhbt26sLW1hVQqRUJCAl69egUvLy8EBgbC3t4e06ZNQ4sWLUq6/vnaKNTU2GdT6WCt6QqQxkk0XQHSKANRoX680X+Ytpgx8KlLz+Av/Z8yqSRL01UgDXNNfqjpKpQo2cGumq6CgtDrb01XoVQo1B4sANCkSRMcOXIEFy5cwLFjx/DXX38hOjpacd7CwgLNmzfHhAkT0KZNmxKpLBERERERERFRaVToBMtbrVu3RuvWrQEAycnJSEhIgImJCSQSfldMRERERERE9FFwkl6po3KCJSepVAqpVFpcdSEiIiIiIiIiKpPUSrAQERERERERkQZwc9lSp1BPESIiIiIiIiIiovwxwUJEREREREREpCYuESIiIiIiIiIqa7hCqNQpUoJFJpPh4sWLuHXrFuLj42FmZgY3Nze4ubkVd/2IiIiIiIiIiEo9lRMsr1+/xujRo3H37l2IxWKYmJggNjYWv/76K5o1a4b169dDV1e3JOpKRERERERERFQqqbwHy4oVK/D8+XP8/PPPuHv3Li5fvgw/Pz+sWrUKvr6++OGHH0qinkRERERERET0lkgoPS8CUIQEy9mzZzFt2jS0a9cOgvyxUCKRCJ999hm++eYb/PXXX8VeSSIiIiIiIiKi0kzlBIsgCDA3N1d6rmrVqkhLS1O7UkREREREREREZYnKCZYvvvgCnp6eSE1NzXU8KysLO3bswOeff15slSMiIiIiIiIiJQSh9LwIQCE3uZ09e7bi/2dkZMDHxwft2rVD69atYWFhgbi4OFy5cgWRkZHo379/kSsjk8ng6+uL8PBw2NnZoXr16kUui4iIiIiIiIjoYylUguXGjRu53ltbWwMArl69muu4qakpTp48iRkzZhRYZpMmTfD333/DzMwMABAZGYnRo0cjICAAJiYmiImJQatWrbBy5UoYGhoWqjFEREREREREnwTOHCl1CpVgOXfuXLF/cExMDGQymeL98uXLoaenh8uXL8PMzAzh4eGYOnUqli5diu+//77YP5+IiIiIiIiIqLiovAdLSbl9+zamTp2qmNFibW2NOXPm4MyZMxquGRERERERERHRh2kswSIIguIxz0B2QkUkyl2drKwsSCSSj101jdHSkaCV51IMi7mFQaGXUHfqsALvsWnmggGP8iah7Hp3wleBJzAi0RtdT/4Gg0rlFef0bW3Q5dhGDI/zwsCQs6gzeYjSsg0rV8CIhDso38q16I0ilYh0JHD2XIquMbfQJfQSqhUiBsybuaCjkhgo37sTOgSeQLdEbzQ9+RukOWKgXI/26CkLzPVy3b9Gcd52QDd0CDyBL5J80fLKbpg2qlM8DaQPEulIUNdzKTrG3EK70EuoWoj+N23mgjZK+t+mdye0CjyBTonecH2v/3Nq9NevqLt1ea5jhrVroMmlXeic5IsWfkdh3rpx0RpEKhN0JKixeSmaRd+G24vLsP1meIH3GDVzgWvw2TzHLXp3QiP/k2ge74M6J7ZAJ0cMSMpbo9a+tWgaeRNuzy7B/ofZEHTe/bw1aOAE58t70TzOG85X9sGwcb3iaSAVSNCRwH7jMriGe6HhkysoP6XgGDBs6oIGAXlnG5v37Azne6fQ+LUvav29NVcMKD5PIkH9O3/DqKXyn/VaRgZweXwJloN6qd4YUhnHABJ0JKi6YTkavLqD+o+vwmbyiALvMWjqgroP8o4Bpj07o67fabhE+aHmsW2Q5IiBgj5Hz9kJtS7sh0ukL2r9+yf0Xeur3TYqAZre2Jab3OahsQSLTCZD165d0b9/f8yePRsGBgZYtmyZ4jHPN2/exHfffYc2bdpoqoofndvKGbBsWBvH2g7BpXEL0XDBBNj17pTv9Wa1a6Djn2sgiHIHtHUTZ7TbvQq+q7bizwa9kJmahvZ7flSc77BvNdITk3DApReuTF4G16VTUKVH+zzlt9jgDm0D/eJrIBWo9soZMG1YG5fbDoHPuIVwWDAB5T8QA0a1a8D1zzXAezFg1sQZjXavQvCqrTjfoBeyUtPgmiMGDGtVw6uj5/CPTTPFy3vkPACAeXMXNPhtKQIW/YIzTl3x+qo3mh7fDC19vZJpNCk4rpwB44a1cb3tENwbtxDVF0yAzQf637B2DTRQ0v+mTZzhvHsVQlZtxWV5/zvn6P+3yn35Gay6ts51TGxkANfTW5D44CEu1umGsIOn4XJoPSSWZsXSRvow+xUzYehSB77tByN4wkJU/m4CLD4QA/q1a8Bp39o8PweMmjjD8Y8f8eKnLfBq2BOy1DTU2vWT4rzTvrUQ6Unh02oA/Ad8A7PP26DqoikAAG1LM9Q7vR2J94Lg5dobEfv+Qd2TW6FTsVyJtJlyq/L9TBi41Mb9ToPweJI7bOdOhHnPzvler+dUAzV3r8vzy62hmzOq7/gRoau3wNetB7JS01Bjx+pc1wg6EtTY8RP0nGrkW37lZTOgU8FGrTZR4XEMoErLZ0G/QW0EdBmEp1MWoMKciTD9wBggdaqBan+sh/DeF9UGbs6w3/4TXq35DfebdEdWahqq/f7uy7QPfY7Y0gwO/+xA0r1A3G/WE9F//g2Hv7ZBwhggKpDGEiw3b97Ezz//jF69esHY2BhisRjR0dGKfVkmTJiAcuXKYdasWZqq4kcl1pPCcWRfXJ28FFHeD/Dk8Bn4rPBE7QkDlV7vOOpL9Li6B0nh0XnO1Zs2HME7j8J/017EBYXgyqSl0C9nCV1zU0hMjGDTxBleSzYg7uFTPDl6Fs9PXIJtuya5yqg+oBu0DZlc+Zi09KSoMrIv/CYvRZz3A7w6fAbBKzxhl08MVBn1JVpe3YNUJTFQfdpwPN95FE827UViUAj8Ji2FTjlLSMxNAQCGjvaIvxeE1PAoxSs9LgEAoGNjiYDFv+D5H0eRFPICAYt+hsTcFEa17Euu8QQtPSkqjuyL+5OXIt77AcIPn8HjFZ6okk//Vxr1JZpe3YM0Jf1vN204Xu48imeb9uJNUAjuy/tfW97/AKBtagzHlTMQe9Mv1722Q3oiMzEJd8e6I+nRMwS7r8Ob4Kcwbli7eBtMeYj0pLAZ0RcPv1mCRO8HiD58Gs9XbkaFcf9Ten25UV+i/mXlMWD77QhE/HEUrzbtRXJQCB5OXgJJOUuIzU0hrWkHoybOCBw+C0kPHiLu8m08cV8Dq/7dAADWg3ogPToWweMWIDnwMV6u2Yb4K3dQfsyAEm0/ZceA1bB+CPl2Cd74PMDro6cRumozbMYqjwHrkV+hzr97kR4Rledc+W9GImrXUYR77kFKUAhCpi6Gtk12DACA1KEa6l76E7p2FfOtj2FTFxi3aYK0VxHF00D6II4BJNKTwnJoPzydtgRJPvcRc/Q0Xv24CdZjBim93nLEV6h1fh8ylIwBNlNGInr3EUT+tgcpwSF4+u0ixRhQ0OdYDOyJjNexeDLpO6QEPUb4uq1IuOoFq6+V/05CRO9oLMFiZGSEBg0aoG/fvpg1axY2b96Ms2fPQkdHB0D2xrq//PLLJ/MEIfN6DhBpixF21VtxLOyyF6wa11M65apSl5Y4P2Qm7v60Lc+58q1dEXLwtOJ9wpMX+KNqO6RExyAzOQXpb5LgMKwXRGIxjGtUhU2zBojy9ldcr2NmArcV03Fx9HfF20j6ION6DhC0xYjOEQPRl71glk8MWHdpiTtDZuKhkhiwaO2K0BwxkPTkBU5VbYe06BgAgFEteyQGPVFaj9A/TyBo2UYAgEhXB9W+GYqU8CjEP3ikRuuoIEby/o/J0f+vL3vBJJ/+t+zSEr5DZiJESf+btXZFWI7+T37yAuertkO6vP8BwPGHmXi54wgSHjzMda95a1eEHzkLZGUpjl1x7YPI4xfVaR4VgoH850B8jhiIu+KVPTVfSQyYdW6FwGGz8GLN1jznTFq5IurQKcX7lCcvcMO+LTKiY5AWFgm/LsORHpH7jzKxsQEAQNeuIhLu3MsVA4l+ATByq69uE6kA+nWzYyDh2rsYiL96GwauymPApFNLBI+YidC12/KcM2rpiugj72Ig9ckL3KnZBhlvfw60dEXcv9dxt2U/pXURJBLYb1iKx5MXIis1Tc2WUWFwDCC9utm/CyRev6M4lnDVCwaN8hsDWuHx1zMQti5vDBi1aIyYHGNA2tMX8HVojYzomAI/R6dKJbzxzh0DSfcCYNDYubiaSsVFEJWeFwHQYIJl7ty5ePDgQb7nDQwMPmJtNE+vnCVSomKQlZ6uOJYUHgWxVBe65iZ5rj/ZczxCDp3Oc1xibAhdMxMIYi10PeGJwa8uo9PhX6Bf3goAkJmahsvjF6HW6C8xMtkX/QNP4NnxiwjY8qeijKY/zkLg9kOIee8PLypZuuUskRYVA1mOGEgNj4KWVBcSJTFwo+d4hCqJAW1jQ0jkMdD0hCe6vLoMt8O/QFceAwBgULMqrDo1R4fAE+jw8DScln8LQVs7VzmWbd3wRaI3HBZMwN0py5D5Jqn4Gkt56Cjp/7QP9L9Xz/EIU9L/4hz973rCE+1eXYbL4V+gk6P/zdu4waxlQwQv/iXP/VK7ikiLfI06vy5Cu1eX0fTaXpg2bVA8jaQPkpSzRPp7MZAeHg0tqS60lcTA/V7jcv0B9ZaWsSG0zUwAsRh1jv+GJi+vwOnQL5CUtwYAZMYlIObU5Xc3CAIqjPsfYs5dU3ymjvzat3QqloO2hSmoZGnbWOWNgYjsGBCb5/3vH9h3HF4fyT8GBC0tOP61BQ2fXoXDnxsUMQAA4Zt24cn0ZchKTlFaF9uZY/DG5wHizlxWep6KH8cAUj4GREGUzxgQ3G9sriTKW1rGhhDLfxeoeXQr6odcQ/V9G6Et79eCPic9IirXeAEAOrbllNaBqKhSU1MxZ84cNGzYEM2bN8eWLVsKvOf27dto165drmOZmZn44Ycf0KxZMzg7O2Py5MmIiso7q+tj0ViC5cCBA/jqq6+wbt06JCcna6oapYZYT4rM974hevteS6fwG/1qG2Tvk9F87TwE7TyG493GQktHgi5//arIfJs42uPJsfM45PYlzg+dBbs+nVF9QPa00ArtmsCmuQu8lPzhRSVLS0+a51vCtzEgUiEGtOQxUHftPDzfeQzXuo2FSEeCJvIYkFYqD7G+HrJS03Cz3xTcm+YB24HdUHvljFzlxN8LxnmXXvD/bi0abPseptzgrkQVV/+L5f3vtHYeXu48htvy/m8k73+RjgR1fl2Ie+MXISslVen99rNGIeVVJG51+Rqv/70F11O/QdeWezCUNJGSGHj7XijCGFBt9TyE/3EU97qPgUhHgtpH3/0cyMnOYwYMGjghZF72/gyRB0/CqHE92IzsB2hpwbRjc1h80Q6CRDvPvVS8tPR0IcsnBlT7OZC9xLfqj/MRtesIAnqNhqAjgcOhTYXaiFDqUA3WX/fHk+lLVag9qYtjAImkUsjScseArAgxIJKPAZVWfYeo3UcQ3GdU9p5LBzZn/y5QwOfEHD4Bg0b1YDnsS0BLC8btW8Dk8/YQMQaoGK1YsQL37t3D9u3bsWDBAqxfvx4nTpzI9/rAwEBMnjxZsaXIW5s2bcI///yD1atXY//+/YiLi8OMGTPyKaXkiTX2yQB++ukn/PTTT9i3bx+GDh2Kvn37wsjISJNV0pjMlNQ8iZS37zOSlH+7pExWRiYAwN9zP4J3HgEAnB04DUPCr8DarT7EUh04juyDHbatkJmSikive9CvYI0G88bi8cFTaPnrIlwatxCZSv7wopKVmZKa5xfotzGQqUIMyOQx8NRzP57LY+D2wGnoEn4FZm718fqaN/4yc0V6TBwAIM43AIJIhIY7V+Lu1OWK6aCpEdFIjYhGnG8AzNzqoeqYrxBzw1ftdpJyxd3/zz3346W8/30GTkP78CswdasPq25tEHv7HqJOKf9WWpaRiXhvfwS7rwMAxPv4w6JjM1QY1B2Plv+qcruo8LKUxMDb91lFiIGw3/YjQh4D/v+bhqavrsLIrT7icyw/qbp8GmwnD8GD/lOQdD8YAJB0PxiBo+eh2up5qPHLQiT6+CN0wy6Y8GlSJS4rJTXPH1HvYqDwX0bJMjIAAOFb9yFyV3YMBA/5Fo2eX4Nh4/pIuO79odthv2EJni9ak2cJCZUsjgGUlZoK4b0nqApFGAMgHwMit+5D9O7DAIDHw6bC+el1GDSuX+DnJL8MQ8i4uai8aj6qrFuEJF9/RGz6A0Yt3YrYMioxooKT5qVRUlIS9u/fj82bN8PJyQlOTk4IDg7GH3/8gc6d827qvGfPHnh4eKBixYpITEzMdS4zMxOzZ89Go0aNAACDBg3C1KlTP0o7lNHoYqn69evj6NGjmDRpEvbt24dWrVph0qRJOHr0KF68eKHJqn10b16GQ9fCFIKWluKYno0l0pOSkRobX+hyUqJikJmWhtiAx4pjqa9jkRIdC4OKNrB0qY244Ke5EihR3g9gULk8rFzrwti+EjodWIsRCXcwIiF7XeZnxzejxYaFxdBK+pCUl+GQvBcDOjaWyEhKRroKMZAWFYOstDQk5IiBtNexSIuOhbRi9iyEt8mVtxL8H2UvRTEzhknDOjB2rpXrfPyDR9Dh1OASlZpP/2cWsf8Tc/R/+utYpEfHQreiDcp/1RU2PdqjU8IddEq4gwoDu6HCwG7oJP/3nvoqMte9APAm6AmkfHJAiUt7GZ49BT9HDEhsLJCZlIwMFWIgXR4DSYHv+jFDHgM5nwJSbc18VJw6HP6DpyPqYO4p5uHbDuKKWUNcr9QSd1x7ATIZUp6+VKN1VBhpoXljQNu66DGQrCQGJLYf/resU6k8jJq6oIrHLDSO9kHjaB/oVCoP+/WL4HjUU/VGUaFxDKD00DAlY0D27wKZRYiBlKB3++dlvI5FhnwMKMznRO04AC+bBvCp1hz3m/UAZDKkPmMMUPEICAhARkYGnJ3f7evj4uICX19fZOXY++etixcvwsPDA0OHDs1zbsKECejQoQMAIDo6Gvv374erq2uJ1b0gGt+NRiQSoW/fvjh58iQ2bNgACwsLrFu3Du3bt0f9+vXRokULTVfxo4j28UdWegasc2wgZtPcBZG37gLvTYP6EFlmJiK97sO8noPimK65KXQtTJHw5CXehEbAqFpliHLst2HiYIeEkBeIuOmHXdU6YH/9HooXAPw7ch5ufbfm/Y+iYhbn4w9ZegbMcsSAeXMXxBYhBmK97sM4RwxIzE2hY2GKpCcvYdWxObpGXYeWVFdx3ri+I1KjYpAWFYMqI/rAaXnurK+JixMS/HP/0U3F623/m+Tof9Mi9n+c130Y5eh/bXNTSCxMkfzkJa63HoSLdbrhUv0euFS/B8KPnkP40XO4JP/3HnPdB0b1auYq08DBDklP+EtVSUuU/xzIuZGkUTMXJKgYA8jMRKLXfRjUfRcDYnNTaFuYIuVJ9pcXledPQLnRX+HBgG8QuffvXLebtG4Mx10/AVlZSAuLBACYdm6J2PM3it44KpQ3vtkxYNi4vuKYUdOGSLytegy8uXMf+kpiILWAP5JTX4bjTq128HX9QvFKC43As0Vr8GjMXFWbRCrgGEBJvtm/CxjkGAMMm7rgjZfqMZDkfR96dRwVh8TmphDLx4CCPsewpRvsf18NZGUhXR4Dxh1bIf7f62q2kIqdIJSelwoiIyNhamoKSY6ZVBYWFkhNTUVsbGye63/55Rd07Njxg2WuXbsWTZs2xZ07dzT6JGKNLhF6n5ubG9zcsqeexcTEIDg4WKMb1HxMGckpCNx+GC03uuP8sDnQr2CFetOG48Kw2QAAqbUF0uISCrV0x2/VVrTZthxR3v54fS8IbiumI9rHHxE3/RAb8BhuK6ejlecS3FmyASY1q8J5zhjcnPsTMlNSEf/oWZ7y3rwMR0rk62JvM+WWmZyCZ9sPo/5Gd3gNmwNpBStUnzYcd+QxoGNtgfS4BKX7ZrwveNVWuGxbjlhvfyTcC4LTiumI9fFHzE0/iA30kZmcCmfPJQhY+DP07Sqi9soZCF6R/c1kyKa9aH1jH+wnDUbYP/+i4v++gKlrXXgN1txaxk9BVnIKXmw/jDob3eE7bA50K1jBbtpw+BWh/x+v2op625YjztsfifeC4LBiOuJ9/PM8khkAMhLeAACS5P/2n23cgyoT/4fqCybg5c6jsB3cA3p2FRXLjajkZCWnIPz3Q6jxy0IEjpgNSQVrVPx2BAJHZMeAtrUFMgsZA89/2gKHLd8jwecBku4Fw85jOhJ9/JFw0w96DvaoPG8cnn3/K+Iue0Hb2kJxX3p4FJKCnsD88zYoN6Y/Yk5ehu23w6Ftaoyw3w+VWNspW1ZyCiJ3HoL9+kV4+PUsSCpYo/w3I/Dw6+xfFFWJgdDVW1DN83u88XmApAfBqLxsBt74+iPxVgFLPTMzkfLe7wKyjAykR0QjLTS8yG2jgnEMoKzkFETtPIgqaxcjZPRMaJe3hs2UkQgZPRNAdgxkxCVAVogYeLXmN9ht8sAb3wdIvh+EiktnIsnXH2/kY8CHPiflYQhMPmsLq68HIO70JdhMGQmxqTGidh4sucbTJyU5OTlXcgWA4n3ae/sDFVb37t3Rpk0beHp6Yvjw4fj777818uAcjSVYGjVqBG3t/DdKMjU11ejUHk24NnU5WmxwxxfntyMtLhG3F6xTPCloSNgVnB+a/XSfgjw+cBI6pkZosnI6dK3M8erCTZzoPg4AkBafiL/aDUWzNXPR69afSIl8jTtLNsB/094SbRsVzt2py1F/gztanN+O9LhE+C9Yp3hS0GdhV+A1dBaeFSIGQg+chMTUCLVXToeOlTmiLtzEdXkMZCS+wZVOI1B39Ry0vn0AGQlv8OTXPQhemZ1gifN+gBs9J6DWsqlw+v5bxN8LxtVOI5ASGlFyDScAwIOpy1Fngzvczm9HRlwighasUzwpqH3YFfgOnYUXhej/sAMnoW1qBEd5/0dfuInb8v4vSPKzUNzsNBJOa+fCftYoJPo/wq2uo5DK/v8oHn27HNV/WYh6Z39HRlwinrivVTwlpGnoVQQMn4nwQsRA1IGTeGhqDHuPGdC2Mkfsvzdxr+dYAID5F+0giMWoPG88Ks8bn+u+f7VqIC00HA++mgK7FTNhv2Im4q/7wrfjUGTxSWIfxZPpy2C3biGcTu1ARlwCni9eq3hSUKNn1xA8ciYidxT8R070oRPQMjVC5eUzoW1ljviLNxDQZ2xJV5/UxDGAns1chiprF8HhxE5kxifg5ZI1iicFOT+5jsdfzyhUoiPm0Ak8MzFGpWUzIbY0R8LFGwjqN6ZQn5MeGo6H/5uESstnoeLyWUi86YOAzwYzBqjY6Ojo5EmkvH2vq6ur7JYCVa5cGUD25rktW7bEqVOn0KtXL/UqWgSC7P1teP8jNgo1C76I/tOsC76E/uMKv98+/RcZiP6TP95IBdpixsCnLj2jbG4AScVDKsm7lwN9WlyTH2q6CiVKdrqfpqugIHTYV+hr79y5g//973/w8/ODWJw95+P69esYPXo0vL29IRIp38nk4MGDWL9+Pc6dO6c4dv78edSqVQvW1u/++uvTpw+6dOmCESNGFLE1RafxPVg+JDU1FYcPH9Z0NYiIiIiIiIioGDg6OkIsFsPHx0dxzMvLC3Xq1Mk3uZIfDw+PXDmDxMREPHnyBPb29sVUW9WU6gRLQkKCRjeoISIiIiIiIqLiI5VK0aNHD7i7u8PPzw9nzpzBli1bMHjwYADZm+CmpBTu8fQDBw7Eb7/9hn///RfBwcGYPn06KlWqhJYtW5ZkE/JVaja5jYmJQVpaGqRSKYyMjABk7yQcEBCg4ZoRERERERERlTIqPr2nNJk9ezbc3d0xZMgQGBgYYOLEiYonBTVv3hzLly8v1B4qAwcORHJyMtzd3fH69Ws0a9YMGzZsUHkmTHHR6B4sp06dws6dO+Hn54fU1He7Yevq6qJ27doYMmQI2rdvX6SyuQcLcQ8W4h4snzbuwULcg4W4B8unjXuw0H9+D5YzX2q6CgpCez40BdDgDJatW7di/fr1GDlyJCZMmABzc3NIJBKkpaUhKioKt2/fxqxZszB58mQMGjRIU9UkIiIiIiIiIiqQxhIsW7ZsgYeHh9IZKvb29mjcuDFq1qyJxYsXM8FCRERERERElJOIs/RKG41tcpuSkgJbW9sPXmNtbY2EhISPVCMiIiIiIiIioqLRWIKlQ4cOmDVrFm7fvo2MjIxc57KysnDnzh3MmTMHnTp10lANiYiIiIiIiEopQVR6XgRAg0uE3N3d4eHhgREjRiAzMxMmJiaKPVhiY2MhFovRvXt3zJ49W1NVJCIiIiIiIiIqFI0+RQgAkpOTERAQgMjISCQnJ0NHRwfW1tZwdHSErq5ukcvlU4SITxEiPkXo08anCBGfIkR8itCnjU8Rov/8U4TOD9B0FRSENrs0XYVSQWMzWN6SSqVwdnbWdDWIiIiIiIiIyg6BSeTShouliIiIiIiIiIjUxAQLEREREREREZGaNL5EiIiIiIiIiIhUxCVCpQ5nsBARERERERERqYkJFiIiIiIiIiIiNXGJEBEREREREVFZI3C+RGnDHiEiIiIiIiIiUhNnsBARERERERGVNSJuclvacAYLEREREREREZGamGAhIiIiIiIiIlITlwgRERERERERlTUClwiVNpzBQkRERERERESkJiZYiIiIiIiIiIjUxCVCRERERERERGWNwPkSpQ17hIiIiIiIiIhITUywEBERERERERGpiUuEiIiIiIiIiMoaPkWo1OEMFiIiIiIiIiIiNXEGCxEREREREVFZI+IMltKGM1iIiIiIiIiIiNTEBAsRERERERERkZq4RIiIiIiIiIiorBE4X6K0YY8QEREREREREamJCRYiIiIiIiIiIjVxiRARERERERFRWSPwKUKlDWewEBERERERERGpiTNYiIiIiIiIiMoazmApdTiDhYiIiIiIiIhITUywEBERERERERGpiUuEiIiIiIiIiMoaLhEqdTiDhYiIiIiIiIhITUywEBERERERERGpiUuEiIiIiIiIiMoaEedLlDbsESIiIiIiIiIiNf1nZ7BU1HQFSOOkmq4AaVyypitAGqUtlmm6CqRh+jqZmq4CaViywO8SP2UScZamq0BEn5j/bIKFiIiIiIiI6D+LTxEqdZjWJyIiIiIiIiJSE2ewEBEREREREZU1nMFS6nAGCxERERERERGRmphgISIiIiIiIiJSE5cIEREREREREZU1fFJaqcMeISIiIiIiIiJSExMsRERERERERERq4hIhIiIiIiIiorJGxKcIlTacwUJEREREREREpCYmWIiIiIiIiIiI1MQlQkRERERERERljcAlQqUNZ7AQEREREREREamJM1iIiIiIiIiIyhqB8yVKG/YIEREREREREZGamGAhIiIiIiIiIlITlwgRERERERERlTXc5LbU4QwWIiIiIiIiIiI1McFCRERERERERKQmLhEiIiIiIiIiKmu4RKjU4QwWIiIiIiIiIiI1McFCRERERERERKQmLhEiIiIiIiIiKmtEnC9R2rBHiIiIiIiIiIjUxBksRERERERERGUON7ktbTiDhYiIiIiIiIhITUywEBERERERERGpiUuEiIiIiIiIiMoagUuEShvOYCEiIiIiIiIiUhMTLEREREREREREauISISIiIiIiIqKyRuB8idKGPUJEREREREREpCYmWIiIiIiIiIiI1MQlQkRERERERERlDp8iVNpwBgsRERERERERkZo4g4WIiIiIiIiorBE4g6W04QwWIiIiIiIiIiI1McFCRERERERERKQmLhEiIiIiIiIiKmsEzpcobdgjRERERERERERqYoKFiIiIiIiIiEhNXCJEREREREREVObwKUKljUZnsKSmpuL+/ftISEgAALx+/Rqenp5YtGgRtmzZgtevX2uyeh+dSEeCup5L0THmFtqFXkLVqcMKvMe0mQvaPDqT57hN705oFXgCnRK94XryN0grlVd6f6O/fkXdrcuVnpNWroBOCXdg1spVtYZQkYl0JHDwXIoWMbfQLPQSKhYiBoybuaCJkhiw7N0JboEn0CrRG/VP/gbdHDEgta+Eeic80TLhDpo+PY9K00bkuteocT24XNmNlgl30DjgBMqN6KN+46hApWUMMKxdA00u7ULnJF+08DsK89aNi9YgUpmgI4H9xmVwDfdCwydXUH7K8ALvMWzqggYB5/IcN+/ZGc73TqHxa1/U+nsrdJTEgCCRoP6dv2HUMvc4L6lYDo5HNqNxjB+cH5yBee8uRW8UqUTQkcB2/feo/cwHtYKuw3LCiALv0XdrCAffC3mO137mg3rxj3O9RPp6AACxhTkq//4zaj/zgYPPOZgO6J3rXr1G9VHt9H7UDr2Lml5nYDa4X7G0jz5M0JHAbuNyNAy7gwYhV1FucsH9b9jUBfX9844BZj07o97d02gU7QeHv7ZBks8YUNfrHxi1zD3OG7dvgTo3j8E15h7q3DwGk44ti94oUomgI0HFn79Hnec+cAq+DsuJhRgDmjSEo9+FPMfrPPdB/YTHuV45x4AqO35Gnec+cPQ5B7OBuceACh7z89xrMWpQsbSR6L9MYwmWBw8eoF27dujduzfatm2La9euoWfPnvjzzz/x+vVrHDlyBJ07d0ZAQICmqvjROa6cAeOGtXG97RDcG7cQ1RdMgE3vTvleb1i7Bhr8uQYQ5c5cmjZxhvPuVQhZtRWXG/RCVmoanPf8mOf+cl9+BquurfMtv/YGd4gN9IvcHlKd/coZMGxYG95thyBw3EJUXTABlh+IAf3aNVBbSQwYNXGG0+5VeLZqK27JY8DpbQwIAur+vQnpkTG45dwTgWMWoMq8sbDu/zkAQGJtgXrHNyPmwk3ccu6JkAVrUWPdfJh/1qrE2k3ZSsMYIDYygOvpLUh88BAX63RD2MHTcDm0HhJLs2JpI31Yle9nwsClNu53GoTHk9xhO3cizHt2zvd6PacaqLl7HSDkjgFDN2dU3/EjQldvga9bD2SlpqHGjtW5rhF0JKix4yfoOdXIXaiWFhwPb4YsPQO+jbsj9EdPVN/2A/RqVS+uZtIHlF8yG3rOdfCo20C8mPodrGdNgnH3/BNcurVqovKOnyGIcv9KJy5nDS0TI/jXbYX71VwVr6w3SQCAKrs2QLuCDR59PgAvZy1B+eVzYdwte7wRW1mg6p9bkXjpBoJadEP4stWosNIdhp3alFzDCQBQefks6DeojQedByFk8gJUmDsRZh8YA6RONVB91/o8/W/g5oxqv/+EV2t+w1237pClpqH672tyXSPoSFD997xjgI5dZdTY9wsidxyEb4MuiNx5CDX2b4RO5QrF11DK19sx4OHn2WOATSHGgCpKxgBt+RjwoE4r3LN3VbwUY8Du7DHgYVf5GLBsLoy/ePc7h65DdYQuWJHr3ugd+0um0UT/IRpLsCxduhSdOnWCl5cXJk6ciFGjRqFly5Y4fvw4Vq9ejSNHjqBfv35YsmSJpqr4UWnpSVFxZF/cn7wU8d4PEH74DB6v8ESVCQOVXl9p1JdoenUP0sKj85yzmzYcL3cexbNNe/EmKAT3Jy2FTjlLaJubKq7RNjWG48oZiL3pp7T88gO6QWzI5MrHJNKTovzIvgievBSJ3g8QdfgMnq3whG0+MVB+1JdwyScGKk0bjvCdRxG6aS+SgkIQNGkpJPIYkFhbINHHH4Fj3ZH88Cmij1/E67PXYNzcBQBg0aM90sKi8HjuT0h++BQRe/9B2O+HYT2gW4m2/1NXWsYA2yE9kZmYhLtj3ZH06BmC3dfhTfBTGDesXbwNpjxEelJYDeuHkG+X4I3PA7w+ehqhqzbDZuz/lF5vPfIr1Pl3L9IjovKcK//NSETtOopwzz1ICQpByNTF0LaxhFgeA1KHaqh76U/o2lXMc69pl1bQsS2H4GHTkRIUgnDPPYg58S8MmzQo3gZTHiI9KcwGf4mXMxch2fc+4v86hYg1m/L91thsWH9UO70fGUpiQLdmNaS/Ckfak+fIiIhSvABA6lwH+m4N8WzEFCT7PUDCiXOI+OlXWE7+GgBg/HlHZEREImzRD0h79ASxB/5CzO6DMO37Rck1nhRjwNNpS5Dkcx8xR0/j1Y+bYDNWef9bjfwKtS/sUz4GTBmJqN1HEOG5BynBIXjy7SJIyuUeA2pf/BM6dpXy3Ktja4OI3/YgbN1WpIY8R9jaLch6kwT9hvWKt8GUh0hPCvMhX+LljOwxIO7YKUSs3gTL0cpjwHxYf1Q/o3wM0ClgDDBwa4inw7PHgPgT5xCx+ldYyceA7PvtkexzL9e9suSUkmk4FZ0glJ4XAdDwDJahQ4dCX18fgwYNQlZWFvr37w8hR+f069cP/v7+mqriR2VUzwGCthgxV70Vx15f9oJJ43pKA9ayS0v4DpmJkJ+25Tln1toVYQdPK94nP3mB81XbIT06RnHM8YeZeLnjCBIePMxzv7aZCRxXTMfd0d+p2SpShYE8BuJyxEDsZS8Y5RMD5l1awn/ITDxXEgOmrV0RkSMGUp68wDV5DKSFReL+V98gM/ENAMC4aQOYtGyE2As3AQCvT1yC/7DZecoUGxuo20T6gNIyBpi3dkX4kbNAVpbi2BXXPog8flGd5lEh6Nd1gEhbjIRr72Ig/uptGLgqjwGTTi0RPGImQtduy3POqKUroo+cUrxPffICd2q2QYY8BoxauiLu3+u42zLvsg/jlo0Rd/4aMhMSFccC+45D+G971WkeFYJubUcI2mIk3bijOPbm2m3oNayvNAaMOrTC8zHTEfnzlrxlOVRD6sMQpZ8jqVIR6ZFRSHvyXHEs5X4A9JzrAGIx4s/8i+fjZuS5T8vIsAitosLSq5v9cyDh2rv+T7jqBYNG+YwBHVvh4cgZCFu3Nc85o5aN8fpw7jHAu2brd2NAC1fE/3sD91v1zXNv/MUbeDp9KQBAEIthObQvBB0J3tz2VbuN9GG6dbLHgDeFHQM6tsKzIowBOkrGgOR778YAkaEBJBXK5Xs/EeVPYwmWcuXKwds7+5dIb29vZGZmwtc398Dt7e0Na2trTVTvo9MpZ4m0qBjI0tMVx9LCo6Al1YXE3CTP9V49xyPs0Ok8x8XGhpCYmUAQa8H1hCfavboMl8O/QKe8leIa8zZuMGvZEMGLf1Fal1o/zsKL7YeQqCT5QiVHp5wl0vOJAW0lMXC353hE5hMD2vIYqHfCE81eXUadw79AkiMG3mr65BxcruxG/DVvRBw4CQBIefoS8Tfe/VvUtjSD9VddEXP2WjG0kvJTWsYAqV1FpEW+Rp1fF6Hdq8toem0vTJty5sLHoG1jlWcMSI+IhpZUV/Gtc06BfcfhdY4kyltab8cALS04/rUFDZ9ehcOfGyAp/+7nafimXXgyfRmylHwbqVO1IlJfvEKlJdPg8vgS6t06CrMv2hdTK+lDtG2skBGdOwYyIqIgkupCyyxvDDwZMAZxx04qLUunRjWI9KSw/3sXagVdR9U/t0BSraqiTC1jIwhS3XefXaEcBG1taBkZIv3ZSyTd8lGcE1uYw6R3NyT8e7WYWkrKSJSMAWnh2f2vbAwI6jcWMfmMAWL5zwGHY1vR4Mk11Ni/Edo5x4DNu/B0xlKlY8BbOnaV4Rp7D/Ybl+PlsvVIffpSzRZSQbSt844B6ZHyMUBJDIT0H4O4o8rHAN2a1SBIpaj2zy44BV+H3Z9boCMfA9KVjAESW/kYYGwI3Zr2kGVlwXr6eNQKuIKaV/+G6YBexdxaKh6iUvQiQIP/Jb755hvMnz8fffr0wfDhw9GxY0ccO3YMCxcuxN69e7F06VIsWLAAI0YUvLHTf4GWnhRZqWm5jmXK34t0JIUuR2yQvXGV09p5eLnzGG53GwuRjgSN/voVEASIdCSo8+tC3Bu/CFkpqXnuN2/XBKbNXfJNvlDJ0dKTQvZeDGQVIQa05DFQY+08hO88Bj95DNSTx0BOd3tPgu/no2FQ3xHVf8o7a0Wkq4M6B9YhNSwKL3/lt9clqbSMAWIDPdjPGoWUV5G41eVrvP73FlxP/QZdWxs1WkeFoaWnW0xjQPbyzqo/zkfUriMI6DUago4EDoc2FWoKr5aBHqwG9YLY1BgBvUYj8o/DqLl7HfQbcJlYSRMpiQFZmuoxAAC6NeygZWqM8JU/I6T/KGQlp8D+6A6IDPSRdNsHGa8iUGGlO0R6UkjsKis20xUk2rnKEXR1UHnnL0iPiET0ll1qtI4KItKTKvr7raL0/9sxoMqP3yFq9xEE9h6VvYn+wc0qTePPiIrG3Wa9EDJpAWznT4ZZj/z3BKPioXQMePtzQKLaGKBTww5iU2OErfgZIV+NQlZKCuyP5R4DbH9QMgZoa0Onhj0gkyEl6BEe9x6B6O17UXHtUhh361g8DSX6D9PYY5o7dOiAAwcO4PLlyzAxMcFnn32G2NhY/PDDD/j9999hZWWFZcuW4bPPPtNUFT+qzJTUPD88teTvM5MKv95RlpEJAHjuuR8vdx4BAPgMnIb24Vdg6lYfVt3aIPb2PUSdupznXpGuDur8ugj3xi1U+ocXlazMlFQI78WASI0YCPXcjzB5DNwfOA3Nw6/AyK0+4nMsP0jwugcACP5mOZz++AEPp61QfGuipa+HOkd+gV6NKvBqPuCD33KR+krDGPD2/nhvfwS7rwMAxPv4w6JjM1QY1B2Plv+qcruo8LI+MAZkJSUXuhxZRgYAIHzrPkTuyo6B4CHfotHzazBsXB8J170/dDtkGZnIeB2LxxO+A2QyvPF5AMNmDWE98ks8HndPlSaRipTFgCD/oyorufAxAACPew2DoC1WbGj5bOQU1PK/AqMu7RC7/yieDJmAytvWofZLP2RERiNizSZUWD4PWTmWhon09VBl9yboVKuKh536cf+FEpaVkqro77fevs8swhgQsXUfonYdBgA8HDoVLs+uw6BxfSQWMAa8lRmfiCTfB0jyfQCpYzXYjBuM14eVz5ag4qF0DNAp4hjQM/cY8HTEFDgFvBsDQgZPQJXt61AnVD4GrN6ECt9njwExuw4i/vhZZMbEAcheQqhTrSrMRwxE3LG8s6aI6B2NJVgAoFq1aqhWrZrivZWVFVasWKHBGmlO6stwSCxMIWhpQZaZ/QeSjo0lMpOSkR4bX+hy0qJikJWWhsSAx4pj6a9jkR4dC92KNij/VVfo2FigU0L22s63v7yX69MJt7qOhr59JbgcWJurTNfjm/Fi+2HcG7tA3WbSB6S+DIf2ezEgkcdAhgoxkC6PgaQcMZDxOhYZ8hhIfmQO4yb1EXXkrOL8mwcPIdKRQGxkgPToGGgZ6qPecU/oVasE77ZDkPzwafE1lJQqDWPAScMGSH0VmeteAHgT9ATSiuXUbSIVIC00ewyAlhYgjwFta4sijwHJgbnHgPToWEhsywH48B9X6a8iAZks+yWXEhQCvTo1VWsQqSw9NDx7KUiOGBBbWyIrKRmZKsQAkD3zIedsCFlqGtKevoB2uexlIsl3/BBQtxXEVhbIiI6BYbsWyIiKVvwxJjI0gN2BLZDYVcGjzwci7dGT4mkk5SstNCzPGPD29wBV+v/tGJAS+Ehx7O0YoGNbDokFjAFSx+oQmxkj4cptxbFk/4d5HuVMxS/9Vd4xQNuq+MaA1CcvFEvFku/4wb9O/mPA2+TKWymBj2DQqok6zaOSwM1lS51SvVgqNTUVhw8f1nQ1Poo4H3/I0jNg4lZfccy0uQtib93N9UtuQWSZmYjzug+jeg6KY9rmppBYmCL5yUtcbz0IF+t0w6X6PXCpfg+EHz2H8KPncKl+D8Te9MP5ah0U5y7V7wEA8Bs5D0HfrcnnE6m4JMpjwChHDJg0d0F8EWIgwes+DN6LAW0LU6Q8eQlpVVvUObg+154sRi61kRYRnb0JqiCgzsH1kNrZ4k6rQXjDvXg+itIwBgBAzHUfGNXL/Ye0gYMdkp5w7X1Je+Prj6z0DBg2rq84ZtS0IRJvqxYDyMzEmzv3oV/3XQyI5WNAYfZQSLjpA71aNYAcj/yUOthz/4WPIPnuA8jSM6DfyFlxTL9JQyTd8VMtBgA4+J6H6YDeivfZywCqIDXoEbRMjVHt5D5omZlkP1UkMxNGndog8dKN7IsFAVV2boCkSiU86vIVUgOCi6V99GFJvtk/B3KOAYZNXfDGq2hjgF5dR8UhVcYA065tYffL0lzH9BvURnLAo3zuoOKS7CcfA1zVHwMcfc/DbGDuMUDHPscYcCr/McBm7hTYH92RqzxpXUekBuX+AoaI8irVCZaEhATMmjVL09X4KLKSU/Bi+2HU2egO44Z1YN29HeymDceTNb8DAHSsLSDS1SlUWY9XbUWVSYNg06czDBzsUG/rMsT7+CP2ph+Sn4Ui6dEzxSsj4Q0yEt4g6dEzZKWk5jqX9OgZACDlZTjSIl+XWNspW1ZyCsK2H0bNje4wbFgHFt3bodK04XghjwGJCjHwbNVW2E4aBMs+naHnYAfHrcuQ4OOP+Jt+iL91Fwle9+G4ZRn0HO1h3qUl7FdOx5OlGwEA5Uf0gWmbxggYOQ8ZsfGQWFtAYm0BsalxibWdSscYAADPNu6BYd2aqL5gAvTsK6HGwknQs6uoWG5EJScrOQWROw/Bfv0iGLjUgdkX7VH+mxF4tX47gOzZLIWNgdDVW1Bu/GCY9+oMqYM9qm3+Hm98/ZF4q+CngETt/QsQCbBbtxC69pVgM3oATDq15FOEPgJZcgpe7zqICqsXQ9qgLoy6doDVxK8RtWEbAEBsZQGhkDEQf/I8bOZMgX7zxtBxqI6Km35EemgY4k9dQGZMHET6eii3aBYkVSrCbHA/mP2vLyLWbAIAmA3uB4OWbng+cTYy4+IhtrKA2MoCWvw5UKKyx4CDqLpuMfRd6sC0W3uUmzISr9ZvA5A9BhS2/1+t+Q024wbDrFcX6Na0h/0mj8KPAbuPQNvGCpWWTIeufWVYj/4fLPp3x8uVG9VpHhXC2zHAVj4GGH/eAVaTvkakGmOAQfPG0HWojkqb5WPAyewxQEtfD+UXy8eAIf1gPqgvwldnjwFxx8/BoLkrLCeNhKRqJZiPGAiz/r0QsXZzSTWd6D9Do0uEcoqJiUFaWhqkUimMjIwAABYWFggICNBwzT6eB1OXo84Gd7id346MuEQELVineEpI+7Ar8B2a/XSfgoQdOAltUyM4rpwOHStzRF+4idvdx5V09akYBE9djpob3OF8fjsy4xLxeME6xZOCmoddwYOhsxBWiBiIlMdAtZXTIbEyR8yFm7j7NgaysuDXfRxqrJ+Phtf2IvNNMl6s3YEXa7P/kLfs3QmClhbq/b0pV5kxF27Au83g4m0w5VIaxoDkZ6G42WkknNbOhf2sUUj0f4RbXUchNTRCrbZR4TyZvgx26xbC6dQOZMQl4PnitYonBTV6dg3BI2cicsfBAsuJPnQCWqZGqLx8JrStzBF/8QYC+owtVB0yExLx4LNhsFu3EPXv/IPUZy8RNHAK3vg8UKttVDihc5bA9qfFsP/rD2TFJyBs+WrFk4KcHt7EszHTEbPrQIHlvJr/PWTpGaj822qIjAyRePEaQvoMVzyC/enQibBdsxQ1rh1H2tPneDJkApLv+AEAjLt3hqClBbv9v+UqM/HSdTzqOqCYW0w5PZ2xDFXXLUKtkzuRGZeAF4vXKJ4U5PL0Oh59PaNQY8DrQycgNjVG5eUzIbbMHgOC+o4pVB3SXoYhoNswVF45D9bjBiP16UsED5iIJJ/7arWNCufl7CWouHoxqv39BzLjExC2bLXiSUG1H2WPAa//KHgMCJ3/PWQZGai85d0Y8Lj3uzHgydCJqLhmKWpel48Bg9+NAcl3/BAyaDzKzf0G5eZNRdqzF3g6YgqSbhZu/x76iLhEqNQRZDIV55sVo1OnTmHnzp3w8/NDauq7TVV1dXVRu3ZtDBkyBO3bF+3RkH8LXCv+qZNqugKkcaptB0f/NaaSLE1XgTRMXydT01UgDUtOK9WTtamE6Wrz58Cnrn7Cf3tZk+zp0oIv+kiEynM1XYVSQWMzWLZu3Yr169dj5MiRmDBhAszNzSGRSJCWloaoqCjcvn0bs2bNwuTJkzFo0CBNVZOIiIiIiIioFOIMltJGYwmWLVu2wMPDQ+kMFXt7ezRu3Bg1a9bE4sWLmWAhIiIiIiIiolJNY/MmU1JSYGtr+8FrrK2tkZCQ8JFqREREREREREQlLTU1FXPmzEHDhg3RvHlzbNmypcB7bt++jXbt2uU6JpPJsGnTJrRt2xYNGjTAkCFD8PCh5p6CqrEES4cOHTBr1izcvn0bGRkZuc5lZWXhzp07mDNnDjp16qShGhIRERERERGVUoKo9LxUtGLFCty7dw/bt2/HggULsH79epw4cSLf6wMDAzF58mS8v4Xsnj17sGXLFsyfPx8HDhyAra0tvv76ayQna2Y3Ro0tEXJ3d4eHhwdGjBiBzMxMmJiYKPZgiY2NhVgsRvfu3TF79mxNVZGIiIiIiIiIilFSUhL279+PzZs3w8nJCU5OTggODsYff/yBzp0757l+z5498PDwQMWKFZGYmJjr3KFDhzB8+HC0adMGQHaewdXVFXfu3EGzZs0+Snty0liCRSKRYP78+Zg2bRoCAgIQGRmJ5ORk6OjowNraGo6OjtDV1dVU9YiIiIiIiIiomAUEBCAjIwPOzs6KYy4uLti4cSOysrIgEuWeEXPx4kV4eHggMTER69evz3VuxowZubYeEQQBMplMY1uNaCzB8pZUKs31H5aIiIiIiIiICiCUzacIRUZGwtTUFBKJRHHMwsICqampiI2NhZmZWa7rf/nlFwDAwYMH85TVsGHDXO/379+PjIwMuLi4lEDNC6axPViIiIiIiIiI6NOSnJycK7kCQPE+LS2tyOX6+voqtiGxtLRUq45FxQQLEREREREREX0UOjo6eRIpb98XdZsQb29vjBgxAi1btsTkyZPVrmNRMcFCREREREREVOYIpehVeNbW1oiJicn1NOHIyEjo6urCyMhItf8EAG7cuIHhw4fDzc0Nq1atyrOHy8fEBAsRERERERERfRSOjo4Qi8Xw8fFRHPPy8kKdOnVUTo4EBQVh7NixaNGiBVavXg1tbe1irq1qmGAhIiIiIiIiKmsEUel5qUAqlaJHjx5wd3eHn58fzpw5gy1btmDw4MEAsmezpKSkFKqs7777DuXKlcPs2bMRExODyMhIle4vbkywEBEREREREdFHM3v2bDg5OWHIkCFYuHAhJk6ciI4dOwIAmjdvjn/++afAMiIjI+Ht7Y2HDx+idevWaN68ueJVmPtLgiCTyWQa+eQS9rdQU9NVIA2TaroCpHHJmq4AaZSpJEvTVSAN09fJ1HQVSMOS0/hd4qdMV5s/Bz519RMea7oKJUr24gdNV0FBsJ2m6SqUCmJNV4CIiIiIiIiIVCMIqm0uSyWPaX0iIiIiIiIiIjUxwUJEREREREREpCYuESIiIiIiIiIqc7hEqLThDBYiIiIiIiIiIjUxwUJEREREREREpCYuESIiIiIiIiIqawTOlyht2CNERERERERERGriDBYiIiIiIiKiMoeb3JY2nMFCRERERERERKQmJliIiIiIiIiIiNTEJUJEREREREREZY3AJUKlDWewEBERERERERGpiQkWIiIiIiIiIiI1cYkQERERERERUVkjcL5EacMeISIiIiIiIiJSExMsRERERERERERq4hIhIiIiIiIiojKHTxEqbTiDhYiIiIiIiIhITZzBQkRERERERFTWCJzBUtpwBgsRERERERERkZqYYCEiIiIiIiIiUhOXCBERERERERGVNQLnS5Q27BEiIiIiIiIiIjUxwUJEREREREREpCYuESIiIiIiIiIqc/gUodKGM1iIiIiIiIiIiNTEBAsRERERERERkZq4RIiIiIiIiIiorBG4RKi04QwWIiIiIiIiIiI1cQYLERERERERUZnD+RKlzX82wdKoRqqmq0AalpUp03QVSMO0pVqargJpkKGtjqarQBomrmGs6SqQphn9Z3/VpcIw0dZ0DYjoE8OUFxERERERERGRmpjWJyIiIiIiIipruMltqcMZLEREREREREREamKChYiIiIiIiIhITVwiRERERERERFTWcIlQqcMZLEREREREREREamKChYiIiIiIiIhITVwiRERERERERFTmcL5EacMeISIiIiIiIiJSE2ewEBEREREREZU13OS21OEMFiIiIiIiIiIiNTHBQkRERERERESkJi4RIiIiIiIiIipzuESotOEMFiIiIiIiIiIiNTHBQkRERERERESkJi4RIiIiIiIiIiprBM6XKG3YI0REREREREREauIMFiIiIiIiIqKyRuAmt6UNZ7AQEREREREREamJCRYiIiIiIiIiIjVxiRARERERERFRmcMlQqUNZ7AQEREREREREamJCRYiIiIiIiIiIjVxiRARERERERFRWSNwvkRpwx4hIiIiIiIiIlITEyxERERERERERGriEiEiIiIiIiKiModPESptOIOFiIiIiIiIiEhNnMFCREREREREVNYInMFS2nAGCxERERERERGRmphgISIiIiIiIiJSE5cIEREREREREZU5nC9R2rBHiIiIiIiIiIjUxAQLEREREREREZGauESIiIiIiIiIqKzhU4RKHc5gISIiIiIiIiJSExMsRERERERERERq4hIhIiIiIiIiorJG4HyJ0oY9QkRERERERESkJs5gISIiIiIiIipzuMltacMZLEREREREREREamKChYiIiIiIiIhITVwiRERERERERFTWCFwiVNpofAZLSkoKDh8+jAULFmDMmDEYPnw4xo0bhwULFuDQoUNISUnRdBU/HokODJd6wOKWH8wv3YR02MgCb9F2aQjzMxfzHLe45QerwCe5XoKeHgBAq1JlGHv+Dos792F+/gr0RozKda/B3AV57pUOHFw8baQPk+jAaPkKWN3xg+XVW9Ab8XWBt2i7NITFuUt5jlvd8YPNw6e5Xm9jICeTzVth7PGDSmVTCZFIoL/we5he8YHpuevQHTyiwFvEzg1hcvxCnuOmV3xgfvdxrhek2f0vsrKGwaqfYXr5DkzPXIXe9LmARJKnDMHAEKZnrkKne2+1m0aFpC2B1pQl0N5/A9p/XISo19ACbxGcGkB7y6n8zzfvBMlx/9wHLWwgdt8A7QO3oL3tDEQ9co/xojafQ3vzcWgf9oZ41S4INeoUpTVUFGIJhP7zISw/D2HRCaDNwILvsasHYf7h/M/XbwfRmtu5j1nYQhizDsKKixDc/wLaDlJ+r64+hIX/AK6fF7oJpAaxBEKPORDmnIYw4y+g6YCC76lUD8I3B/I/79QWosXXlZ/T0oYw4Q+gSoNch4XPvoFo8fVcLzTuo0JDqMi0JBA6zoQw/h8Iow8DLl8WfE+FOhBG7M19TBBBaDEawpjDECaehPD5QkDP9N15bSmEDjMgjD0GYdQBoNF7saZjAOGz77LvHXUAcObvAkSFodEZLPfv38fo0aOhr6+PBg0aoFq1apBIJEhLS0NUVBQ2bNiAH3/8EZs3b4aDg4Mmq/pRGMyYDXHtuogd0h+i8rYw8vgBWaEvkXryuNLrtWrUhNGaDUBqaq7jIitriIyMENWuBZAjQSVLSgIEAcabtiDjrh9ienaFVuUqMPpxLTLDw5D611EAgNi+GhJ/8EDKoT8V92YlJpRAi+l9hrPmQLt2HbweNABa5SvAeOUqZL58idQT/yi9XlyjJkzWK4kBa2uIjIwR2aY5ZMnvxUAOul27QbdNWyQf2F/osqnk6H07G2KnOogfORBa5SpAf+lKZL0KRdrpfMaA6jVh+OPPkOUzBsR0aQVZcvK7E8nZ/W/w48+QxccjfsiXEIxNYLDIA8jMRNKP3+euzzczIbK2Kd5G0gdpjZwOoboTMmYNA6zLQ/ztcsgiQiG7rDyBIlSpDvGc1UB6mvIC9Q0hHjs3z2HxnJ8giwhFxsQ+ECrZQzxzZfbnXD0DwckFWlOWIHP1fGT5e0Pr8/4QL96E9CHtgJQkJR9CxUnoPhmo6AjZz2MAs3IQBrpD9joM8D2r/IZy9hCGeeQfA1IDCL2mv/chAoRRa4Dn9yFbORCwrARh8FLI4iIAr5O5L/1iEgQTK8iKoW1UMKHTRKCCI2RbJwAmNhB6fQdZ3Cvg/nnlN1jbQ/hqGZCRT//rGkDoOlX5ObEEQt9FEKzt8/avZVVknfoZ8P773bHUN6o2h4pAaDUOsHaAbP8UwMgaQue5kMWHA8EXlN9gYQeh2+K8MeA6EKjZDrJjC4DkOAhtJ0PoMg+yA99mf07HGYBVTciOzMkeE7rMgywrE/DKTtQIXRcAOgaQ7RoDmFXOPv/6OfD0Zsk1nug/QKMJFnd3d3Tp0gVz5+b95e+tJUuWYMGCBdi7d2++1/wnSKWQ9v0KsV8PRcaD+8CD+0jyrA7pwCFKEyy6Xw6Awcw5yHz+HCIDw1zntOyrITMiHFkvnue5T2RhgQx/fyS4z4PszRtkPn2CtGtXoe3SSJFg0bKvhozfNiErKrJk2kpKCVIp9Pp9hZgRQ5Bx/x4y7t/Dm001oD9osNIEi/SrATCcNReZz59BZJg7BsT21ZAZHo7M53ljQPF5xsYwnDUHab4+KpVNJUQqhW6vLxE/dhgy/e8j0/8+tLZWh27/QUoTLDp9+0P/29nIfPEcwvtjgF01ZOU3BlS1g3a9Bnjd2hWy6CgAQNLPP0H/29m5Eixia//TpwAAMYlJREFU54bQbtwUWZERxdxQypeOFKJOfZAxfxRkjx4Ajx4gs1I1aHUbiAwlCRZRl37QGjkDsrDnEPSV/zvVGjEdslfPIJhZvjtoYASRY32kr/kOCH0KWehTyG5fhqieGzKvngFMLZC5ewOyzh8DAGTu+gVavYdDqGQPWdDdEmk6yUl0AbfukP06GXgRCLwIhMxmB4QW/SBTlmBp2is7IRP9EtA1UFqk8MVkIPoFYGzx7qChGfAyELJ93wOpSUDkcyDoJgS7+pDlTLDY1QNqNIIsLqqYG0pKaesCLt0g+30q8CoQeBUI2eWdEBr3hUxZgqVhDwidJwIxoYBOPv3faSLw+iVgaJH7hGUVCH0X5b+8wLIKcHknkPhavTaRasS6QO3PITs4DYgIAiKCILu1C4JzL8iUJVjqfgGh1XggNhTQ0c99TqQF2YV1wEtfAIDM+08IXd2zz0mNITi0R9a+SUBo9rguu7QRQuuJkHntBSzsgcoNIdsyAIh7BUSHABXrQ6hQBzImWEoZjS9IofdotEeCg4PRv3//D17Tv39/BAYGfqQaaY7YwREQi5Hu7aU4lu51G9r16iv94afTsjUSZn6L5G2/5S2rWnVkhoQo/ZysyEjEfzMBsjfZ30JoN3CBpJEr0m9mTx0V9A2gZVMOGU+U308lR+xQCxCLkXYnZwzcgnY9Z+Ux0Ko14mZ8i6St+cTAk8cf/DzDWfOQfPggMh8Gq1Q2lQxxjewxIMPnjuJY+p3bENepr7T/Jc1bIXHudKTs2JLnnJZdNWQ+Vf5vWBYVifjRQxTJlbeEnIk0bQn03ZfhzdLvIEvL51tRKnaCXU1ALIbM30dxTHbfC0LNukpjQNSwBTJWzUbWoe3Ky6vTCKK6rsjc82vuE6kpkKUkQdShJ6AlBipUgVDLGbJH2cuIZJdPIuvtPRIdiHoMgSwmCrJnj4qlnfQB5Wtk90mI77tjj32Ayk5KY0BwbArZH+6QXdilvDz7BkB1F8hOvTdOxEdDtn1OdnIFAKrWA+wbQBb87ucPtLQhfDkPsv0e+c+OoOJlUx0QiYHnfu+OPfUFbGsp7/8aTSA7uBiyq3uUl1fFGajaALJ/tyk51wAI8YJsk5Ll6Dp6EIytgOj8v6ShEmJVDdDSAkLvvTv20g+wqQVlj+MVqrpBdnwpZHf25S3r2jbgoXyZt9QEQp3Pgefe2e+Ny2f/76sH766PfATBwAIwsgEq1gciH2UnV+Rk51ZDdpW/FxIVRKMJlho1auDAgQ+sGQWwd+9e2NnZfaQaaY6WpRWyYmKA9HTFsayoSAi6uhBMTPNcHzd+FFJPn8xzHMiegSJIdWHy+x6YX7oJ401boVWlap7rzM9dhunuA0j3vqOYJaNlXw2yrCzojxkP83+vwfTIcej24JrLj0FkZYWsmNe5YiAzKio7BkzzxkDs2FFIPXVCaVli+2qArhRmf+yB5dVbMPXclisGJG5NIXF1ReL6tUrv/1DZVDJEllaQxcYAGe/6XxYdle8YkDB5DNLO5jMG2FWDoCuF0ZZdMD13HYa/bIGocnb/yxISkH41x746ggDd/oOQfuOq4pD063HIDHiA9GuXi6l1VChmlkDcezEQGw1BRxcwMslzecbiiZBdPa28LG1tiCctRMYvi4DU9/YyS09D5s+LIfqsH7SPeEPieRxZty8h61Tun8dCfTdoH/SC1sDxyPx1OZcHfQzGFsCbWCAz492xhGgIEl1AzzjP5bLfpgF++Swd0dKG8OXc7ARJev5LPYUFxyCa8hvwxA/wPffueMdhwMtAIPBGUVtDqjK0AJLicvf/m9cQtHUBqZL+3zUTeHBBeVla2hC6z4Ls2Erl/X/rIGTH1yg/Z1kVsqwsCK2GQph2FML4HUD9z4rWJlKNvjmQHAdk5YiBpBgI2jrKY+DIHOBh3r0YcxKaDodo3DGgfF3I/v05++Ab+cwkgxyzGw2tsv9XagzBuHx2cqXhVxBG7oUwbCdQ9wt1Wkb0ydD4EqFRo0bh1KlTcHFxgZWVlWIPlsjISHh7eyMhIQEbN27UZDU/CkEqBdJy/5B7+82xIJGotPZZbGcPwdgEiT/OhSwxEXpfj4HJtj/wumsHxcwVAIibNBYiC0sYui+Bwez5SFy6EGI7e0AmQ8bjR0jauR2SRo1huHgZshITkXZG+R9zVDwEqS7w/mwBeUyoGgNa9tUgMjFB/PwVkCUmQn/UWJjt2IWozu0hS8+A0ZJliHefz/1VShNd3TyzRWTpRRsDtKraQTA2RtLaHyBLTIDu8DEw8tyB2O6dgKTca+j1ps6C2LE24vr3yL7Xrhp0+w1AbG/+Mv2xCTrSXAlWAO/21dDOuwnxh2j1H4eshw8gu3MVQp1GeT+rkj2yblxA1sGtECpXh9bYeZD5XEPW+b8U18ieBCNjUh8Irq2h9e1yyMJfQhbgm6csKkbaurkSbADevRerFgNCp5HAi4DsBEk1l3yvk22ZAZmROYS+syD0nArZwR8A66pAs96QeXx4ljEVM20dIPO93wPezh4Sa6tUlNB6OBAaCDy6mWcD2wJZVAYggyzyKXB9P1DFOTtZk/oG8P9XtbJINWJdIPO9MeBtTGipFgNvyR6chOzRFQiNBkDoswqybYOBhHDIQu9BaDMJsuOLAZE2hKbD3n2ORA+o5AJBpAXZse8AC3sI7b6BLDkOCGYMlCp8ilCpo9EES61atXD69Gn8/fff8PPzQ1BQEFJSUqCjowNra2t8/fXX6NSpEwwMlK8r/S+RpaYCEp1cxwT5Uz1kKcnKbslX7IghELTFig1N46dNgcW/VyFp006xzwoAZNzLXnOZuHwxjH5YjcQVy5By+ABSz5+BLC4OAJAcGACtKlWh138gEywlLDsG3vsFWh4TuTYqLYSY4YMhiN/FQOzUybC6fA06bdtDXLMm0u/6Ie3Sh7/xoI8sLVXxb/4tQf5Htar9Hz/m/+3deXxM9/7H8dfJJiFCiOXWErXUEkRELVeUqq3or9YWae1LKVGUxL63NNbS1tJSRUvVVq7oZut17dRObbW0pEkrFbJJZn5/jExNQ01EMom+n4/HPB7mnO9853PO+Zqc+cx36QYuLtZJbW+GvYH3Nztxa/AcSZv+/AzIPSgU91e6cXNoCClnfwQgz7i3iHtvZpohRJL5zEmJ4PqXG+jUxEo6VtQzfMvh9Hx7bvd98d77q9XGqWk7br/aAJISMZ85Dj5FcO7wmk2ChZjfMMf8hvn8KZwq+OPU/GVSlGDJXMmJab9Ipz6/nY5VFf9VBv7dGvPUDg8ue/nO0DCXmRidJ8L62RgdRmHeNB9iNf9GlkpOAue/3AekJtb+phdSGoVLQ40XMc995eHi+GET5tP/hfgblueRZ8GnJEbNNpiVYMlcKYlpEympbSL5IVdWjfkZAHPEZIw+q6FcfTgegTliEsYLEzH6bYTEW5i/n4/xRBXLZMamZMscLv+ZYHnfyNNQqAxG1f/DrASLyN9yaIIFwMPDg3bt2tGu3T976beUyGs4eXtbxl2mpAB3hgzEx2O+cSN9ld1Osv7yDUBSIilXLuNcpChGQR9cq1Un6bs/J0xMPnsGwy0Xhqcn5uvXrckVa2znz+JW+98PfWxiH9O1SJy8C9i0AedChR6uDSQl2faGSEok+fJlnIoUxb3F/+FcqBC5DlvG3aZ+qc/VrDm/+ld6JMci6WeKjLQMBbrr+hs+d65/bPo/A2xWFElKwvTzFZwKF7Fuyj18LO4vBXNz+GCSvrUMB3P61xO4BtTApXxF8rw5wlLQ3YM8oyfh1qwFsX27Z+gY5QF+i4R83uDkDKY7bcDbx5Jkv2V/GzDqNoa8+XBddCcp7uQMgOua/aTMGQcFi2D+5aJNr0nzuZPwch/L65+qDCkmy0S7qfsvncMoWSaDBygPFBMFefLbtAHyFsSclADx6VjNz78h5Pb6c+lmwzIi3HhnB+aVb8GPe6FUFTh61xela+cxXNwsvVlK+0OxctDqDcs+V3eMl4ZDQGPLBLySOW5EWYaC3X39PQtYrn9COq6/37Pg4YUx6M5qkE53rv+oLZi/nApH7PjBLN72M8cc9RNG6fv3hJJH5Ga0ZSiQ4QzmO20gTwHMtxMg4Wb66ir9b8tEuTfv/GCSkmSZDDd1qFHMz5iXdgeP/JB0C/IVs6wiFBuJ+dZvGLG/2iR1zNcvY5SqmfFjlEdMk9xmNw5PsDxIYmIiERERtGrVytGhZKrkkycgORnXagHcPrAfANfAGtw+egTM6VscseA327n1/pw/l1n28MDZ90mSz5/DuXgJ8s2dx2/162D6NdLyPpWrYPotGvP16+QJGYRrQCAx3f781cOlQiWSz2tyw8x2++Txe7SBp7l99HC624DPlh3cmvsu8WssbcDw8MCl1JOknD/L78EvY7j++V8/79DhAMSGv/2IjkQeRvJpy2eAS9UAkg/duf7Va5B8PP2fAfk3bSV+/lwS19+ZU8PDAyffUqRcsPw/9ngtBPf2nbg5bKDNCkWmXyO53vxZm7q8Fn9KwvIlJP1nfQaOTuxhPn8KkpMxKvpjPm6Z7NjwC8R85li62oDpy+U2PVGcKlTFZVg4t19vAzHRONV+DuNfJS09I+4MPzGKP4k50vIrp1OTthhFi5M8qpe1DqNcJcxnTyCZ7OfTlvk3SlWG83d6C5WuBpeOp+9zYMdKzPvvWn3MtzJG50mY3+lk6ZVStDRG93DM41rAH3dWDCxREXPs7/BHFKaJrWyqMwbMx7x9JRy495Lx8ohc+9HSc6B4Zbh05/r7+sPPJ9J3/Xevwnz4riRKcT+M9uMxv9/ZrlWBjIa9oGRVzB8P+HNb0XIQddH+GOTh/HrG8iPLE5Xg5zurthWrCtdOQToXSzfq98N8fDPsXWbZ4OoB3iXgt4uAgdF2mmVOlug7iyKUrmNJyCTFwS8n4OlXwC2PJfkCGAV84ca1R3OcIo+xbJ/yio2NJSwszNFhZL6EBBLWrSbvuMm4VKmK23NNyN29F/GfWGb+d/IpBLlyPaASi8RtW8gz4A1ca9bGuWw5vN6ZienaVZK2byX56GGSjx8l71vhOJcpi9szDcgzdAS35lkmvUrc+h2uT9fCo3svnEuUxKPjK7i3akvcooWZduhyR0IC8Wu+wGviW7hUqUquRk3I07MXtz5eDKSzDWzdgufAQbjVqo1LuXLkmzaLlGtXSdy2FdMvP5Ny8aL1Yb51E/Otm6Rc1I2TQyUkkPjlGvKMnoizX1VcGzbGvUsvEpZ9DIBR0Mfu65+0Yyse/d7ApUYtnMuUw/OtGZgir3H7+204P1kGjz79iV80j9sH92EU9LE+SEnBdPmizYPkFMy//2ZNyEomSkzA9O06nPuPw3iqMkad53Bu242UdUst+7190gwlvaebf8DVS9aHOfrOtbt6CeLjMO3ZCinJOA+caFlBqFYDnF/ug2m95X1MEasw/Gvh9OKr8IQvzq/0x3iqKinrPsmkAxer24mw7z8YL42AkpWgSn2Mhq9i3n5nlZi8BS3zdDxI3A2IvvLnIzWJEn3FsnLQpRNw5SRGxzGW+VYq1cV4MQTzN4ssPSfufm30FcsXvpu//1mPZI7biXBoE8b/DYNiFaHiMxh1gzHvvrNCjGcBcLHj+sffgN+v/Pm4cee6/X7F8uX5Acyn/2tZgahuJ/AuBk+3gWrPY965PAMHJ3ZJToQTERiN3oQiFaBsPYwaHTAfXGXZn7uA3fMxmX9Yi1GjIzxZGwqWwmg+2jJc6MJuwAzJiRj1XoP8xS3vU6cr5j13/t5c2g/XL2E8PxIKlITyDaFKS8yH12XKYYs8TrJ9gsXHx4dTp045OowsEfv2RG4fP0b+JZ+Rd+wEbs2ZZV0pyGfnPtybv2BXPTfDp5D4VQRe02dTYNV6DBcXYnp3A5MJTCb+6NcLc3wc3ivXkHfyVOKXLib+E8uX+OSjR/hjYD/cX2xDgY1f4/FqV24MCbFZOlYyz423JpJ87CgFlq3Aa9xEbs6eaV3Np/Du/Xi0sK8NxE59m4TNEeSb8S4FVn8Jri5c79nV0gYk27oVPonkE8fIt2g5niPGE//+LOtKQQW27SVXs5Z21RM3YwpJ30SQd+os8n26FsPFxTK8x2TCtWFjDBcXcvcZQIFte20e4ngpC6diPnsclykf49JvNCnL5lpXCnL79Hucnnk+428Sd5Pbw7thFCiE6+zPcekdRsqKeZgiLF/izOdOkDwxBKembXF9fx3G08+QPKon/PZrxt9bHsi8dgZcPonRfx5Gu1DMEfOtKwU5TfoKAho/gjcxYV44BJLiMQYttsy5smMlpCZyxGHMm2fDL6cwur2H0fJNzFsWWlcKcgrdBFUaZX4QP5/EvGI4RrXnMQYsx6jzEuYvxsLlYw9+rWSYedtciDyN8dJsjIaDMP9vkXWlIKe+66H8c/ZVdGgN5v2fYjQaghFs+aHUvC6M1J4w5m+mgTkF49WPMOq/jnnL7D+XdTabMK8dBoaB8cpHGM/0s8R1buejPlzJKMPIPg8BwDCb09n3PIf4tXwpR4cgDmZKeSybtqSDq4ezo0MQB8pb3L4eP/L4cnkqj6NDEEfzyvaj4SUz5X+4lXfk8eE05HtHh5C54rPR0E2PR/Aj0GPAoX919u3bZ3fZp59Ou8ykiIiIiIiIiEh24NAEy4QJEzh79iwAf9eRxjAMTp48mVVhiYiIiIiIiGRvGpqT7Tg0wbJ69WoGDx7MlStXWLlyJbnsnMBRRERERERERCQ7cegkt25ubsyYMQOAWbNmOTIUEREREREREZGH5vBVhNzc3Jg+fTolS5Z0dCgiIiIiIiIiOYRTNnoIOHiIUKoyZcpQpkwZR4chIiIiIiIiIvJQskWCRURERERERETSQZPcZjvqyyMiIiIiIiIikkFKsIiIiIiIiIiIZJCGCImIiIiIiIjkOBoilN2oB4uIiIiIiIiIZJnExERGjBhBjRo1CAoKYtGiRQ98zf79+3nuuefuue+DDz4gLCzsUYeZbkqwiIiIiIiIiEiWeeeddzh27BhLlixh7NixzJ07l82bN9+3/OnTpxk4cCBmsznNvo0bNzJnzpzMDNduGiIkIiIiIiIiktMYObO/RFxcHKtWrWLhwoX4+fnh5+fHmTNnWL58Oc2aNUtTfsWKFUydOpUSJUpw8+ZN6/bk5GQmTpzI2rVrKVGiRFYewn3lzCsiIiIiIiIiIjnOqVOnSE5OJiAgwLotMDCQw4cPYzKZ0pTfsWMHU6dOpWvXrjbb4+LiOH36NJ9//rlNXY6kHiwiIiIiIiIikiWioqLw9vbGzc3Nus3Hx4fExERiYmIoUKCATfn3338fgDVr1ths9/LyYsWKFZkfcDoowSIiIiIiIiKS4+TMVYTi4+NtkiuA9XlSUpIjQnpkNERIRERERERERLJErly50iRSUp+7u7s7IqRHRj1YRERERERERHKaHDrJbZEiRbh+/TrJycm4uFhSElFRUbi7u+Pl5eXg6DImZ14REREREREREclxKlasiIuLCz/88IN124EDB6hSpQpOTjk7RZGzoxcRERERERGRHMPDw4NWrVoxbtw4jhw5wrfffsuiRYvo3LkzYOnNkpCQ4OAoH44SLCIiIiIiIiI5jpGNHukzfPhw/Pz86NKlC+PHj2fAgAE0adIEgKCgIDZt2pTuOrMDw2w2mx0dRGb4tXwpR4cgDmZKeSybtqSDq4ezo0MQB8pbPJejQxAHc3kqj6NDEEfz0nSD/2j5XR0dgTiY05DvHR1C5rq9w9ER/Mn1GUdHkC2oB4uIiIiIiIiISAYprS8iIiIiIiKS0xjpH5ojmUs9WEREREREREREMkg9WERERERERERyGkP9JbIbXRERERERERERkQxSgkVEREREREREJIM0REhEREREREQkx9Ekt9mNerCIiIiIiIiIiGSQEiwiIiIiIiIiIhmkIUIiIiIiIiIiOY2hIULZjXqwiIiIiIiIiIhkkBIsIiIiIiIiIiIZpCFCIiIiIiIiIjmO+ktkN7oiIiIiIiIiIiIZpB4sIiIiIiIiIjmNJrnNdtSDRUREREREREQkg5RgERERERERERHJIA0REhEREREREclx1F8iu9EVERERERERERHJICVYREREREREREQySEOERERERERERHIarSKU7agHi4iIiIiIiIhIBinBIiIiIiIiIiKSQYbZbDY7OggRERERERERkZxMPVhERERERERERDJICRYRERERERERkQxSgkVEREREREREJIOUYBERERERERERySAlWEREREREREREMkgJFhERERERERGRDFKCRUREREREREQkg5RgERERERERERHJICVYcrDExERGjBhBjRo1CAoKYtGiRfct+8033/D8888TEBBAx44dOX78eBZGKpkpKSmJli1bsmfPnvuWOXHiBO3bt8ff35+2bdty7NixLIxQMps9bWDbtm28+OKLBAQE8MILL/Ddd99lYYSS2expA6muXLlCQECAXWUlZ7Dn+p8+fZqOHTtStWpVXnjhBXbv3p2FEUpms6cN6F7w8RMZGUlISAg1a9akXr16vP322yQmJt6zrO4FRbKGEiw52DvvvMOxY8dYsmQJY8eOZe7cuWzevDlNuTNnzjBkyBD69OnD+vXrqVixIn369CE+Pt4BUcujlJiYyODBgzlz5sx9y8TFxdG7d29q1KjBmjVrCAgIoE+fPsTFxWVhpJJZ7GkDp06don///rRt25Z169bRoUMHBg4cyKlTp7IwUsks9rSBu40bN07//x8j9lz/2NhYunfvTtmyZdmwYQONGzemf//+/Pbbb1kYqWQWe9qA7gUfP2azmZCQEOLj41m+fDkzZ85k69atzJo1K01Z3QuKZB0lWHKouLg4Vq1axciRI/Hz86Nx48b07NmT5cuXpym7c+dOypYtS6tWrShZsiSDBw8mKiqKs2fPOiByeVTOnj3LSy+9xKVLl/623KZNm8iVKxfDhg2jTJkyjBw5kjx58twzGSc5i71tYOPGjdSuXZvOnTvj6+tLcHAwtWrVIiIiIosilcxibxtI9eWXX3Lr1q1Mjkqyir3Xf+3ateTOnZtx48bh6+tLSEgIvr6++gX7MWBvG9C94OPn/Pnz/PDDD7z99tuUK1eOGjVqEBISwsaNG9OU1b2gSNZRgiWHOnXqFMnJyQQEBFi3BQYGcvjwYUwmk03Z/Pnzc/bsWQ4cOIDJZGLNmjV4enpSsmTJrA5bHqG9e/dSq1YtVq5c+bflDh8+TGBgIIZhAGAYBtWrV+eHH37IgiglM9nbBlq3bs2bb76ZZntsbGxmhSZZxN42AHD9+nXCw8OZMGFCFkQmWcHe6793716ee+45nJ2drdtWr15N/fr1MztEyWT2tgHdCz5+ChUqxIcffoiPj4/N9ps3b6Ypq3tBkazj4ugA5OFERUXh7e2Nm5ubdZuPjw+JiYnExMRQoEAB6/bmzZuzZcsWOnXqhLOzM05OTsyfP598+fI5InR5RDp16mRXuaioKMqWLWuzrWDBgnYPJ5Dsy942UKZMGZvnZ86cYdeuXXTo0CEzwpIsZG8bAJgyZQqtW7emXLlymRiRZCV7r//ly5epWrUqo0ePZsuWLRQrVozQ0FACAwMzOULJbPa2Ad0LPn68vLyoV6+e9bnJZGLZsmXUrl07TVndC4pkHfVgyaHi4+NtkiuA9XlSUpLN9uvXrxMVFcWYMWP4/PPPefHFFxk+fLjGXv9D3K+t/LWdyD/D77//zoABA6hevTrPPfeco8ORLPK///2PAwcO0K9fP0eHIg4QFxfHggULKFSoEAsXLuTpp5+mR48eXL161dGhSRbRveDjLzw8nBMnTjBo0KA0+3QvKJJ1lGDJoXLlypXmQzH1ubu7u832adOm8dRTTxEcHEzlypWZOHEiHh4erF69OsviFce5X1v5azuRx190dDRdunTBbDbz7rvv4uSkPwH/BAkJCYwZM4axY8fq//0/lLOzMxUrViQkJIRKlSoxdOhQSpUqxfr16x0dmmQR3Qs+3sLDw1myZAnh4eE89dRTafbrXlAk6+juOocqUqQI169fJzk52botKioKd3d3vLy8bMoeP36cChUqWJ87OTlRoUIFfvnllyyLVxynSJEiREdH22yLjo6mcOHCDopIHCEyMpLg4GCSkpL45JNPbIYRyuPtyJEjXL58mZCQEAICAqxzd/Xq1YsxY8Y4ODrJCoUKFaJ06dI220qVKqUeLP8guhd8fE2cOJHFixcTHh5O06ZN71lG94IiWUcJlhyqYsWKuLi42ExOdeDAAapUqZLmV+nChQtz7tw5m20XLlygePHiWRGqOJi/vz+HDh3CbDYDlmX9Dh48iL+/v4Mjk6wSFxdHz549cXJyYtmyZRQpUsTRIUkWqlq1Kl9//TXr1q2zPgAmTZrEwIEDHRucZIlq1apx+vRpm23nz5+nWLFiDopIspruBR9Pc+fOZcWKFcyYMYMWLVrct5zuBUWyjhIsOZSHhwetWrVi3LhxHDlyhG+//ZZFixbRuXNnwNKbJSEhAYCXXnqJzz//nHXr1nHx4kWmTZvGL7/8QuvWrR15CJKJ7r7+zZo148aNG0yePJmzZ88yefJk4uPjef755x0cpWSmu9vA/PnzuXTpElOnTrXui4qK0ipCj7nUNuDu7o6vr6/NAyy/aBYsWNDBUUpmufszoEOHDpw+fZo5c+Zw8eJFZs+ezeXLl3nxxRcdHKVkJt0LPt7OnTvH+++/T69evQgMDLT+bY+KigJ0LyjiKEqw5GDDhw/Hz8+PLl26MH78eAYMGECTJk0ACAoKYtOmTYBl5vjRo0czf/58WrVqxcGDB1myZIlurB9jd19/T09P5s+fz4EDB2jTpg2HDx9mwYIF5M6d28FRSma6uw189dVXJCQk0L59e4KCgqyPyZMnOzhKyUx3twH557n7+hcrVowPP/yQrVu30rJlS7Zu3cqCBQvUm+0xp3vBx9t3331HSkoKH3zwgc3f9qCgIED3giKOYphT+4qJiIiIiIiIiMhDUQ8WEREREREREZEMUoJFRERERERERCSDlGAREREREREREckgJVhERERERERERDJICRYRERERERERkQxSgkVEREREREREJIOUYBERERERERERySAlWERERCTHMpvN/4j3FBERkexPCRYREQGgYcOGhIWF2V0+JCQkXeWPHDlC06ZNSUpKomHDhpQvX/5vH3PmzHmYw3ikrly58rcxtmzZ0tEh5jgHDhzgtddeo1atWlSuXJkGDRowYsQILl++nO66zpw5Q8eOHTMhyvv77rvvCA0NtT7fs2cP5cuXZ8+ePY/0fZKSkmjWrBk//PDDI61XREREMo+LowMQEZGcxWQy8fbbb/PVV1/RunVru16TmJhIaGgoQ4cOxc3Njblz55KUlGTd379/fypVqkS/fv2s24oWLfrIY39Yffv2pUGDBmm2u7u7Z30wOdiuXbvo2bMnjRs3ZvLkyeTNm5dLly6xaNEi2rVrx6pVqyhZsqTd9W3evJlDhw5lYsRpffzxxzbP/fz8WLlyJWXLln2k7+Pm5sabb75JaGgo69evV1sTERHJAZRgERERu506dYpJkyZx9OjRdH3h+/TTT3FxcaFRo0YAVKpUyWa/m5sbBQoUoFq1ao8y3EemZMmS2Ta2nGTevHlUrVqVWbNmWbfVqlWL+vXr07hxYxYvXszYsWMdF+BD8PT0zLS20ahRI2bNmsVnn31Gt27dMuU9RERE5NHRECEREbmnL774ggoVKvDee+9Zt4WGhpKSksLKlSspWLCgXfUkJSWxePHihxpOs2rVKlq0aGEdSjJnzhxSUlKs+8PCwujSpQtjx46levXqNG/enJSUFMqXL89nn31GWFgYgYGB1KxZk0mTJpGQkMDUqVOpXbs2tWrVYuTIkSQmJqY7rr9KHSayYsUKnn32WapXr87OnTsB2L9/P6+88gr+/v7UrFmT0NBQfv/9d5vXnzp1iq5duxIQEEDDhg1ZtWoVXbt2tQ7BSh2qtGbNGpvXhYWF0bBhQ5tt3377LW3atKFKlSrUrVuXSZMmERcXZ90/Z84cGjduzLZt23jhhReoXLkyTZs2Zd26dTb1/Prrr4SGhlKnTh0CAgJ45ZVXrL1FQkJCeOaZZzCZTDavGTlyJE2bNr3veYqOjr7n/CWFCxdm1KhR1K1b17otISGB6dOn06RJEypXrkz16tXp1q0bJ0+etB7H3LlzAaxDyuw9T6+++ipvvvkmISEhVKtWzZq8uHLlCsOGDSMoKAg/Pz/q1KnDsGHDuH79uvV1e/fuZe/evdZhQfcaInT06FF69OhBrVq1qF69Oq+99hpnzpyx7k99za5du+jevTv+/v7UrVuX8PBwm/YN8MILL7B48WKbHl8iIiKSPSnBIiIiaWzatInRo0fTr18/Xn/9dev2d955h88++4wKFSrYXdeePXuIjIykSZMm6Yph/vz5jB49mjp16jBv3jyCg4NZuHAho0ePtim3f/9+rl69ynvvvceQIUNwdnYGIDw83DocqVWrVixdupRWrVpx9epVpk2bxquvvsoXX3zB0qVLHxiLyWQiOTnZ5vHXL8IAc+fOJTQ0lDFjxhAQEMC+ffvo2rUr7u7uzJo1ixEjRrB37146d+5MQkICANeuXSM4OJgbN24QHh5O//79mT17NsePH0/X+QLYsGEDr7/+OqVLl+a9996jf//+fPnll/Tr188msREVFcWECRPo3LkzCxYsoHjx4oSGhnLu3DkAbt26RceOHdmzZw9Dhw5l7ty55MqVi+7du/PTTz/Rrl07IiMjbZIKCQkJbN68+W+HjTVo0IBDhw5Zz/3d8660b9/e2sMJYNiwYaxevZrevXuzaNEihg8fzpkzZxgyZAhms5n27dvTrl07AFauXEn79u3Tda4iIiLIkycPH3zwAT179iQ+Pp7OnTtz7tw5xo4dy0cffUTnzp35z3/+w8yZMwEYO3YslSpVolKlSqxcuRI/P7809e7evds6L8xbb73FpEmTuHr1Kh06dLCe31RvvvkmgYGBzJs3j5YtW/Lhhx+yatUqmzLNmjUjMjKSvXv3puv4REREJOtpiJCIiNjYunUrw4YNo3fv3oSEhNjsK1++fLrr2717N15eXjz55JN2vyY2Npb333+fl19+mVGjRgEQFBRE/vz5GTVqFN26daNcuXIAJCcnM2HChDRztpQtW5YJEyYAULNmTVatWsXt27eZNm0aLi4uBAUF8dVXX3Hw4MEHxjNy5EhGjhxps83NzY2jR4/abOvUqRPNmjWzPp8+fTpPPvkk8+fPtyZ+/P39adGiBatXryY4OJglS5aQkpLCwoULrb2CfH196dSpk93nCywr20ybNo169eoxbdo06/ZSpUrRtWtXtm/fbp1HJj4+nsmTJ1OnTh1rmWeffZbt27dTpkwZ1q5dy88//8zatWupWLEiANWrV6dVq1bs27ePtm3bUrRoUdatW2et45tvviEuLo5WrVrdN8aBAwcSGxvLF198YU0YFC1alPr169O1a1dKly4NWHo93bp1i1GjRtG8eXPAcg1v3rzJlClTiI6OpmjRotZrnjpE58qVK3afL1dXV8aPH4+bmxsAJ0+epGjRokydOpUSJUoAULt2bQ4fPmyNtWzZsnh6etq8519Nnz4dX19fFixYYL3mQUFBNG7cmHfffZfZs2dby7Zv396awKxTpw7ffvst27Zto0OHDtYyvr6+5MuXj127dhEUFGT38YmIiEjWU4JFRESsjh8/zqZNmyhcuDADBw58JHVevnyZYsWKpes1hw4dIiEhgYYNG5KcnGzdnjrMY+fOndYES/78+e85IW5AQID1387Oznh7e+Pn54eLy59/+vLnz09sbOwD4+nfv3+aSW6dnNJ2Ak1NRoAliXH48GF69OiB2Wy2HkeJEiUoU6YMO3fuJDg4mP3791OtWjWbIVeBgYHpPmfnz5/n2rVr9OnTx+acPf3003h6erJz506bY7g7QZB6/lKHEh04cIDixYvbHI+HhwdfffWV9Xnr1q1ZsmQJ48aNw8PDg7Vr1/Lvf//7bycndnNzY8KECQwYMIDt27eze/du9uzZw8qVK1mzZg0zZsygSZMmuLm58dFHHwEQGRnJhQsX+Omnn9i6dSvAIxkuU7p0aWtyBSzX7tNPP8VkMvHTTz9x8eJFzp49y/nz523O59+Ji4vj6NGj9O/f35pcAfDy8rImsO52dxsFy3W4ezhXqieeeCJdySMRERFxDCVYRETE6scff6RBgwZs27aN5cuX8+qrr2a4zps3b+Lh4ZGu18TExADQu3fve+7/9ddfrf/OkyfPPcuk9jS4W+7cudMVR6pixYpRpUqVB5a7u/4bN25gMplYuHAhCxcuTFM2V65cAPzxxx/WHhN3K1KkSLpiTD1n48ePZ/z48Wn2333OAJtrkposSh1GFBMT88A5dtq2bcu8efP4+uuvqV27Nrt27bLpOfN3ChUqRLt27axDfHbv3s3QoUMZN24cjRo1wsnJie+//5633nqL8+fPkydPHipUqGA9v/eaxyW97tVuFi9ezLx584iJicHHx4fKlSvj4eFhVxIOLD2vzGYzPj4+afb5+PikqeevE0U7OTnd89g8PDy4efOmXTGIiIiI4yjBIiIiVvXq1WP+/PkMGjSIGTNm0KhRI/71r39lqE5vb+80X+4fxMvLC4Bp06ZRqlSpNPvv9QU2u8mTJw+GYdC1a1datGiRZn9qgsPb25vo6Og0+2NiYvD19QXAMAyANPO+3N3bIfWcDRs2jJo1a6apL1++fHbHnjdv3nv2mDh48CD58uWjTJkylChRgpo1axIREUFMTAyenp42c6j81eHDh+nbty/h4eE2k9mCZShOjx49ePvtt7l+/Tq3bt3i9ddfp1GjRsyfP58SJUpgGAbLly/n+++/v+972HOe7mfDhg1MmTKFoUOH0qZNGwoUKABYhjX9dSjY/eTNmxfDMO55PaOiosifP79d9fzVjRs3eOKJJx7qtSIiIpJ1NMmtiIhYpSYuhg8fjrOzM+PGjctwnU888QTXrl1LV68Df39/XF1diYyMpEqVKtaHi4sLM2bMyBHDJTw9PalUqRLnz5+3OYZy5coxZ84c6wSxderU4dChQ0RGRlpfe/78eS5evGhTF2BT5vbt2xw5csT6vHTp0hQsWJArV67YvF+RIkWYPn06J06csDv2GjVqcPnyZZuVbxITExkwYABffPGFdVu7du343//+x8aNG2nevLm1V869lCpVivj4eD755JM0qw8BXLhwgUKFClGgQAGOHTtGYmIivXv3pmTJktbESWpyJbUt/XWYlj3n6X4OHDiAl5cXPXv2tCZXbt26xYEDB2zivdfQsFS5c+emcuXKRERE2CR5YmNj2bZtG4GBgQ+M46/MZjORkZHpHjImIiIiWU8JFhERSaNw4cIMGjSIbdu2sXHjxgzVVbduXWJjY/nxxx/tfo23tzc9e/Zk9uzZzJo1i127drFu3Tr69evHxYsX07WKkSMNHjyY//73vwwZMoTt27ezZcsWevbsya5du6wr0HTp0oWCBQvSvXt3Nm/eTEREBH379rX5Up8vXz4CAgJYunQpGzZsYMeOHfTt29e6EhFY5pkZNGgQK1asYNKkSezcuZOIiAh69OjBiRMn7rnizf20adOGEiVK0LdvX7788ku+//57+vfvz+3bt20m323atCm5cuXiyJEjtG3b9m/rzJcvH6GhoWzbto1OnTqxZs0a9u3bx5YtWxg+fDgrV64kLCwMwzCsc+WEh4ezc+dOtm7dyoABA9i2bRvwZ4+U1F47Gzdu5PLly3adp/upWrUqN27cYMqUKezZs4cNGzYQHBxMdHQ08fHx1nJeXl5cuHCBXbt28ccff6SpZ8iQIVy4cIHevXvz3XffsXnzZrp06UJSUpLNilz2+vHHH4mNjaVevXrpfq2IiIhkLSVYRETknjp27EjVqlWZPHky169ff+h6atSoQcGCBdNM8Pkgb7zxBmFhYXzzzTf06tWL8PBwAgMDWbZsGXnz5n3oeLJSUFAQH330EdeuXSMkJIRhw4bh7OzM4sWLrZPMent7s3z5ckqVKkVYWBiTJ0+mY8eOaYaETJkyhcqVKzNq1CiGDx+On58fXbp0sSnTvn17pk+fzsGDB3nttdcYN24cxYsXZ+nSpfec5+V+PD09WbZsGf7+/kycOJE33ngDk8nEJ598YlNPrly5qF27NmXLlqVq1aoPrLdDhw58/PHHeHt7M2PGDLp168bw4cOJjo5myZIltGzZErCsnDN9+nQiIyPp27cvY8aMAWDp0qUYhsH+/fsBaNKkCVWqVCEsLMw6Ka495+leWrduzeuvv05ERAS9evXi3XffpUaNGkyYMIGYmBjrEsvBwcG4urrSq1cvduzYkaaeOnXqsHjxYhISEhg8eDCjR4+mSJEifP755zz11FMPjOOvduzYQaFChahevXq6XysiIiJZyzA/ipniRERE/saiRYv47LPP+Prrr63DPeTvNWzYkJo1azJlyhRHh3JfCQkJ1K9fn379+tmVxJD0MZvNNG3alE6dOtG1a1dHhyMiIiIPoB4sIiKS6Tp16oTJZGLz5s2ODkUegZ9//pm5c+fSvXt3DMN44PAgeThff/01KSkpdOjQwdGhiIiIiB2UYBERkUzn7u5OeHg4M2fOJCkpydHhSAY5OTmxdOlSrl27xsyZM++5JLZkTFJSEjNmzOCdd95Js5yziIiIZE8aIiQiIiIiIiIikkHqwSIiIiIiIiIikkFKsIiIiIiIiIiIZJASLCIiIiIiIiIiGaQEi4iIiIiIiIhIBinBIiIiIiIiIiKSQUqwiIiIiIiIiIhkkBIsIiIiIiIiIiIZpASLiIiIiIiIiEgGKcEiIiIiIiIiIpJB/w9VrXUHhU22gwAAAABJRU5ErkJggg==",
      "text/plain": [
       "<Figure size 1200x800 with 2 Axes>"
      ]
     },
     "metadata": {},
     "output_type": "display_data"
    },
    {
     "name": "stdout",
     "output_type": "stream",
     "text": [
      "\\nBest parameters found:\n",
      "k1 = 0.8\n",
      "b = 0.6\n",
      "MAP = 0.1714\n"
     ]
    }
   ],
   "source": [
    "# Visualize parameter tuning results\n",
    "def plot_parameter_tuning_results(tuning_results, k1_values, b_values):\n",
    "    \"\"\"Create heatmap visualization of parameter tuning results.\"\"\"\n",
    "    \n",
    "    # Create a matrix for the heatmap\n",
    "    map_matrix = np.zeros((len(b_values), len(k1_values)))\n",
    "    \n",
    "    for i, b in enumerate(b_values):\n",
    "        for j, k1 in enumerate(k1_values):\n",
    "            if (k1, b) in tuning_results:\n",
    "                map_matrix[i, j] = tuning_results[(k1, b)]['MAP']\n",
    "    \n",
    "    # Create the heatmap\n",
    "    plt.figure(figsize=(12, 8))\n",
    "    sns.heatmap(map_matrix, \n",
    "                xticklabels=k1_values, \n",
    "                yticklabels=b_values,\n",
    "                annot=True, \n",
    "                fmt='.4f', \n",
    "                cmap='YlOrRd',\n",
    "                cbar_kws={'label': 'MAP Score'})\n",
    "    \n",
    "    plt.title('BM25 Parameter Tuning Results\\\\nMAP Score Heatmap', fontsize=16, fontweight='bold')\n",
    "    plt.xlabel('k1 (Term Frequency Saturation)', fontsize=12)\n",
    "    plt.ylabel('b (Length Normalization)', fontsize=12)\n",
    "    plt.tight_layout()\n",
    "    plt.show()\n",
    "    \n",
    "    # Find and highlight the best parameters\n",
    "    best_score = 0\n",
    "    best_k1, best_b = 0, 0\n",
    "    \n",
    "    for (k1, b), result in tuning_results.items():\n",
    "        if result['MAP'] > best_score:\n",
    "            best_score = result['MAP']\n",
    "            best_k1, best_b = k1, b\n",
    "    \n",
    "    print(f\"\\\\nBest parameters found:\")\n",
    "    print(f\"k1 = {best_k1}\")\n",
    "    print(f\"b = {best_b}\")\n",
    "    print(f\"MAP = {best_score:.4f}\")\n",
    "    \n",
    "    return best_k1, best_b, best_score\n",
    "\n",
    "# Plot the results\n",
    "best_k1, best_b, best_map = plot_parameter_tuning_results(tuning_results, k1_values, b_values)\n"
   ]
  },
  {
   "cell_type": "code",
   "execution_count": 8,
   "metadata": {},
   "outputs": [
    {
     "name": "stdout",
     "output_type": "stream",
     "text": [
      "\\nInitializing BM25 with optimized parameters: k1=0.8, b=0.6\n",
      "BM25 initialized with k1=0.8, b=0.6\n",
      "Average document length: 64.92\n"
     ]
    }
   ],
   "source": [
    "# Initialize BM25 with the best parameters found\n",
    "print(f\"\\\\nInitializing BM25 with optimized parameters: k1={best_k1}, b={best_b}\")\n",
    "bm25_optimized = BM25Model(corpus_df, k1=best_k1, b=best_b)\n"
   ]
  },
  {
   "cell_type": "markdown",
   "metadata": {},
   "source": [
    ## 2.7. Retrieval and Evaluation

Run the retrieval process for both TF-IDF and BM25 (with default and optimized parameters) on a sample of queries and store the results.
  },
  {
   "cell_type": "code",
   "execution_count": 9,
   "metadata": {},
   "outputs": [
    {
     "name": "stdout",
     "output_type": "stream",
     "text": [
      "Evaluating on 50 queries with at least 3 relevant documents\n",
      "Average relevant documents per query: 4.59\n",
      "\\nRunning retrieval with all models...\n"
     ]
    },
    {
     "name": "stderr",
     "output_type": "stream",
     "text": [
      "Processing Queries: 100%|██████████| 50/50 [00:14<00:00,  3.53it/s]"
     ]
    },
    {
     "name": "stdout",
     "output_type": "stream",
     "text": [
      "\\nRetrieval completed successfully!\n",
      "\\nSample results for query 10009:\n",
      "TF-IDF top 5: ['239574', '199648', '160087', '251843', '146218']\n",
      "BM25 (default) top 5: ['239574', '170378', '337793', '387141', '251843']\n",
      "BM25 (optimized) top 5: ['239574', '170378', '453624', '387141', '337793']\n"
     ]
    },
    {
     "name": "stderr",
     "output_type": "stream",
     "text": [
      "\n"
     ]
    }
   ],
   "source": [
    "\n",
    "# Select queries with sufficient relevance judgments for evaluation\n",
    "rel_counts = qrels_df.groupby('query_id').size()\n",
    "rich_queries = rel_counts[rel_counts >= 3]  # At least 3 relevant documents\n",
    "\n",
    "# Use more queries for comprehensive evaluation\n",
    "eval_query_ids = rich_queries.index[:50].tolist()  # Evaluate on 50 queries\n",
    "\n",
    "print(f\"Evaluating on {len(eval_query_ids)} queries with at least 3 relevant documents\")\n",
    "print(f\"Average relevant documents per query: {rich_queries.mean():.2f}\")\n",
    "\n",
    "# Create relevance mapping\n",
    "relevant_docs = qrels_df.groupby('query_id')['doc_id'].apply(list).to_dict()\n",
    "\n",
    "# Run retrieval with both models\n",
    "results_tfidf = {}\n",
    "results_bm25_default = {}\n",
    "results_bm25_optimized = {}\n",
    "\n",
    "print(\"\\\\nRunning retrieval with all models...\")\n",
    "\n",
    "for qid in tqdm(eval_query_ids, desc=\"Processing Queries\"):\n",
    "    query_terms = query_id_to_text[qid]\n",
    "    \n",
    "    # Get TF-IDF results\n",
    "    tfidf_ranked_list = tfidf_model.rank_documents(query_terms, top_n=100)\n",
    "    results_tfidf[qid] = [doc_id for doc_id, score in tfidf_ranked_list]\n",
    "    \n",
    "    # Get BM25 results (default parameters)\n",
    "    bm25_default_ranked_list = bm25_model.rank_documents(query_terms, top_n=100)\n",
    "    results_bm25_default[qid] = [doc_id for doc_id, score in bm25_default_ranked_list]\n",
    "    \n",
    "    # Get BM25 results (optimized parameters)\n",
    "    bm25_optimized_ranked_list = bm25_optimized.rank_documents(query_terms, top_n=100)\n",
    "    results_bm25_optimized[qid] = [doc_id for doc_id, score in bm25_optimized_ranked_list]\n",
    "\n",
    "print(\"\\\\nRetrieval completed successfully!\")\n",
    "print(f\"\\\\nSample results for query {eval_query_ids[0]}:\")\n",
    "print(f\"TF-IDF top 5: {results_tfidf[eval_query_ids[0]][:5]}\")\n",
    "print(f\"BM25 (default) top 5: {results_bm25_default[eval_query_ids[0]][:5]}\")\n",
    "print(f\"BM25 (optimized) top 5: {results_bm25_optimized[eval_query_ids[0]][:5]}\")"
   ]
  },
  {
   "cell_type": "markdown",
   "metadata": {},
   "source": [
    "## 2.8. Model Comparison\n",\n    "\n",\n    "Compare the performance of the TF-IDF, default BM25, and optimized BM25 models using the defined evaluation metrics. The results are displayed in a table and visualized to highlight the differences in performance."
   ]
  },
  {
   "cell_type": "code",
   "execution_count": 10,
   "metadata": {},
   "outputs": [
    {
     "name": "stdout",
     "output_type": "stream",
     "text": [
      "Evaluating all models...\n",
      "\\n=== Model Performance Comparison ===\n"
     ]
    },
    {
     "data": {
      "text/html": [
       "<div>\n",
       "<style scoped>\n",
       "    .dataframe tbody tr th:only-of-type {\n",
       "        vertical-align: middle;\n",
       "    }\n",
       "\n",
       "    .dataframe tbody tr th {\n",
       "        vertical-align: top;\n",
       "    }\n",
       "\n",
       "    .dataframe thead th {\n",
       "        text-align: right;\n",
       "    }\n",
       "</style>\n",
       "<table border=\"1\" class=\"dataframe\">\n",
       "  <thead>\n",
       "    <tr style=\"text-align: right;\">\n",
       "      <th></th>\n",
       "      <th>P@1</th>\n",
       "      <th>R@1</th>\n",
       "      <th>nDCG@1</th>\n",
       "      <th>F1@1</th>\n",
       "      <th>P@3</th>\n",
       "      <th>R@3</th>\n",
       "      <th>nDCG@3</th>\n",
       "      <th>F1@3</th>\n",
       "      <th>P@5</th>\n",
       "      <th>R@5</th>\n",
       "      <th>...</th>\n",
       "      <th>P@10</th>\n",
       "      <th>R@10</th>\n",
       "      <th>nDCG@10</th>\n",
       "      <th>F1@10</th>\n",
       "      <th>P@20</th>\n",
       "      <th>R@20</th>\n",
       "      <th>nDCG@20</th>\n",
       "      <th>F1@20</th>\n",
       "      <th>MAP</th>\n",
       "      <th>MRR</th>\n",
       "    </tr>\n",
       "  </thead>\n",
       "  <tbody>\n",
       "    <tr>\n",
       "      <th>TF-IDF (Scikit-learn)</th>\n",
       "      <td>0.08</td>\n",
       "      <td>0.0185</td>\n",
       "      <td>0.08</td>\n",
       "      <td>0.0297</td>\n",
       "      <td>0.0867</td>\n",
       "      <td>0.0659</td>\n",
       "      <td>0.0859</td>\n",
       "      <td>0.0732</td>\n",
       "      <td>0.072</td>\n",
       "      <td>0.0856</td>\n",
       "      <td>...</td>\n",
       "      <td>0.042</td>\n",
       "      <td>0.0963</td>\n",
       "      <td>0.0901</td>\n",
       "      <td>0.0572</td>\n",
       "      <td>0.033</td>\n",
       "      <td>0.1575</td>\n",
       "      <td>0.1140</td>\n",
       "      <td>0.0538</td>\n",
       "      <td>0.0687</td>\n",
       "      <td>0.1650</td>\n",
       "    </tr>\n",
       "    <tr>\n",
       "      <th>BM25 (Default)</th>\n",
       "      <td>0.20</td>\n",
       "      <td>0.0552</td>\n",
       "      <td>0.20</td>\n",
       "      <td>0.0857</td>\n",
       "      <td>0.1067</td>\n",
       "      <td>0.0826</td>\n",
       "      <td>0.1269</td>\n",
       "      <td>0.0913</td>\n",
       "      <td>0.100</td>\n",
       "      <td>0.1283</td>\n",
       "      <td>...</td>\n",
       "      <td>0.058</td>\n",
       "      <td>0.1468</td>\n",
       "      <td>0.1472</td>\n",
       "      <td>0.0816</td>\n",
       "      <td>0.036</td>\n",
       "      <td>0.1820</td>\n",
       "      <td>0.1604</td>\n",
       "      <td>0.0594</td>\n",
       "      <td>0.1026</td>\n",
       "      <td>0.2734</td>\n",
       "    </tr>\n",
       "    <tr>\n",
       "      <th>BM25 (Optimized)</th>\n",
       "      <td>0.20</td>\n",
       "      <td>0.0535</td>\n",
       "      <td>0.20</td>\n",
       "      <td>0.0837</td>\n",
       "      <td>0.1200</td>\n",
       "      <td>0.0942</td>\n",
       "      <td>0.1363</td>\n",
       "      <td>0.1037</td>\n",
       "      <td>0.092</td>\n",
       "      <td>0.1194</td>\n",
       "      <td>...</td>\n",
       "      <td>0.060</td>\n",
       "      <td>0.1508</td>\n",
       "      <td>0.1485</td>\n",
       "      <td>0.0843</td>\n",
       "      <td>0.036</td>\n",
       "      <td>0.1800</td>\n",
       "      <td>0.1599</td>\n",
       "      <td>0.0592</td>\n",
       "      <td>0.1017</td>\n",
       "      <td>0.2758</td>\n",
       "    </tr>\n",
       "  </tbody>\n",
       "</table>\n",
       "<p>3 rows × 22 columns</p>\n",
       "</div>"
      ],
      "text/plain": [
       "                        P@1     R@1  nDCG@1    F1@1     P@3     R@3  nDCG@3  \\\n",
       "TF-IDF (Scikit-learn)  0.08  0.0185    0.08  0.0297  0.0867  0.0659  0.0859   \n",
       "BM25 (Default)         0.20  0.0552    0.20  0.0857  0.1067  0.0826  0.1269   \n",
       "BM25 (Optimized)       0.20  0.0535    0.20  0.0837  0.1200  0.0942  0.1363   \n",
       "\n",
       "                         F1@3    P@5     R@5  ...   P@10    R@10  nDCG@10  \\\n",
       "TF-IDF (Scikit-learn)  0.0732  0.072  0.0856  ...  0.042  0.0963   0.0901   \n",
       "BM25 (Default)         0.0913  0.100  0.1283  ...  0.058  0.1468   0.1472   \n",
       "BM25 (Optimized)       0.1037  0.092  0.1194  ...  0.060  0.1508   0.1485   \n",
       "\n",
       "                        F1@10   P@20    R@20  nDCG@20   F1@20     MAP     MRR  \n",
       "TF-IDF (Scikit-learn)  0.0572  0.033  0.1575   0.1140  0.0538  0.0687  0.1650  \n",
       "BM25 (Default)         0.0816  0.036  0.1820   0.1604  0.0594  0.1026  0.2734  \n",
       "BM25 (Optimized)       0.0843  0.036  0.1800   0.1599  0.0592  0.1017  0.2758  \n",
       "\n",
       "[3 rows x 22 columns]"
      ]
     },
     "metadata": {},
     "output_type": "display_data"
    }
   ],
   "source": [
    "# Evaluate all models\n",
    "print(\"Evaluating all models...\")\n",
    "\n",
    "tfidf_metrics = evaluate_model(results_tfidf, relevant_docs)\n",
    "bm25_default_metrics = evaluate_model(results_bm25_default, relevant_docs)\n",
    "bm25_optimized_metrics = evaluate_model(results_bm25_optimized, relevant_docs)\n",
    "\n",
    "# Create comparison DataFrame\n",
    "comparison_df = pd.DataFrame([\n",
    "    tfidf_metrics,\n",
    "    bm25_default_metrics,\n",
    "    bm25_optimized_metrics\n",
    "], index=['TF-IDF (Scikit-learn)', 'BM25 (Default)', 'BM25 (Optimized)'])\n",
    "\n",
    "print(\"\\\\n=== Model Performance Comparison ===\")\n",
    "display(comparison_df.round(4))"
   ]
  },
  {
   "cell_type": "code",
   "execution_count": 11,
   "metadata": {},
   "outputs": [
    {
     "data": {
      "image/png": "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",
      "text/plain": [
       "<Figure size 1500x1200 with 4 Axes>"
      ]
     },
     "metadata": {},
     "output_type": "display_data"
    },
    {
     "name": "stdout",
     "output_type": "stream",
     "text": [
      "\\n=== Performance Improvement Analysis ===\n",
      "BM25 Optimized vs Default:\n",
      "  MAP improvement: -0.93%\n",
      "  MRR improvement: 0.86%\n",
      "\\nBM25 Optimized vs TF-IDF:\n",
      "  MAP improvement: 48.05%\n",
      "  MRR improvement: 67.18%\n"
     ]
    }
   ],
   "source": [
    "# Create visualizations\n",
    "def plot_model_comparison(comparison_df):\n",
    "    \"\"\"Create comprehensive visualizations comparing model performance\"\"\"\n",
    "    \n",
    "    # 1. MAP and MRR comparison\n",
    "    fig, axes = plt.subplots(2, 2, figsize=(15, 12))\n",
    "    \n",
    "    # MAP and MRR bar plot\n",
    "    map_mrr_data = comparison_df[['MAP', 'MRR']]\n",
    "    map_mrr_data.plot(kind='bar', ax=axes[0, 0], color=['skyblue', 'lightcoral'])\n",
    "    axes[0, 0].set_title('MAP and MRR Comparison', fontweight='bold')\n",
    "    axes[0, 0].set_ylabel('Score')\n",
    "    axes[0, 0].legend()\n",
    "    axes[0, 0].tick_params(axis='x', rotation=45)\n",
    "    \n",
    "    # Precision@k comparison\n",
    "    p_at_k_cols = [col for col in comparison_df.columns if col.startswith('P@')]\n",
    "    comparison_df[p_at_k_cols].plot(kind='bar', ax=axes[0, 1], width=0.8)\n",
    "    axes[0, 1].set_title('Precision@k Comparison', fontweight='bold')\n",
    "    axes[0, 1].set_ylabel('Precision')\n",
    "    axes[0, 1].legend(title='k values')\n",
    "    axes[0, 1].tick_params(axis='x', rotation=45)\n",
    "    \n",
    "    # nDCG@k comparison\n",
    "    ndcg_at_k_cols = [col for col in comparison_df.columns if col.startswith('nDCG@')]\n",
    "    comparison_df[ndcg_at_k_cols].plot(kind='bar', ax=axes[1, 0], width=0.8)\n",
    "    axes[1, 0].set_title('nDCG@k Comparison', fontweight='bold')\n",
    "    axes[1, 0].set_ylabel('nDCG')\n",
    "    axes[1, 0].legend(title='k values')\n",
    "    axes[1, 0].tick_params(axis='x', rotation=45)\n",
    "    \n",
    "    # F1@k comparison\n",
    "    f1_at_k_cols = [col for col in comparison_df.columns if col.startswith('F1@')]\n",
    "    comparison_df[f1_at_k_cols].plot(kind='bar', ax=axes[1, 1], width=0.8)\n",
    "    axes[1, 1].set_title('F1@k Comparison', fontweight='bold')\n",
    "    axes[1, 1].set_ylabel('F1 Score')\n",
    "    axes[1, 1].legend(title='k values')\n",
    "    axes[1, 1].tick_params(axis='x', rotation=45)\n",
    "    \n",
    "    plt.tight_layout()\n",
    "    plt.show()\n",
    "    \n",
    "    # 2. Performance improvement analysis\n",
    "    print(\"\\\\n=== Performance Improvement Analysis ===\")\n",
    "    \n",
    "    # Compare BM25 optimized vs default\n",
    "    map_improvement = ((bm25_optimized_metrics['MAP'] - bm25_default_metrics['MAP']) / \n",
    "                      bm25_default_metrics['MAP'] * 100)\n",
    "    mrr_improvement = ((bm25_optimized_metrics['MRR'] - bm25_default_metrics['MRR']) / \n",
    "                      bm25_default_metrics['MRR'] * 100)\n",
    "    \n",
    "    print(f\"BM25 Optimized vs Default:\")\n",
    "    print(f\"  MAP improvement: {map_improvement:.2f}%\")\n",
    "    print(f\"  MRR improvement: {mrr_improvement:.2f}%\")\n",
    "    \n",
    "    # Compare BM25 vs TF-IDF\n",
    "    bm25_vs_tfidf_map = ((bm25_optimized_metrics['MAP'] - tfidf_metrics['MAP']) / \n",
    "                        tfidf_metrics['MAP'] * 100)\n",
    "    bm25_vs_tfidf_mrr = ((bm25_optimized_metrics['MRR'] - tfidf_metrics['MRR']) / \n",
    "                        tfidf_metrics['MRR'] * 100)\n",
    "    \n",
    "    print(f\"\\\\nBM25 Optimized vs TF-IDF:\")\n",
    "    print(f\"  MAP improvement: {bm25_vs_tfidf_map:.2f}%\")\n",
    "    print(f\"  MRR improvement: {bm25_vs_tfidf_mrr:.2f}%\")\n",
    "\n",
    "# Create the visualizations\n",
    "plot_model_comparison(comparison_df)\n"
   ]
  },
  
  {
   "cell_type": "code",
   "execution_count": 12,
   "metadata": {},
   "outputs": [
    {
     "name": "stdout",
     "output_type": "stream",
     "text": [
      "=== FINAL RESULTS SUMMARY ===\n",
      "\\nDataset: 57638 documents, 6648 queries\n",
      "Evaluation: 50 queries with sufficient relevance judgments\n",
      "\\nBest BM25 Parameters Found:\n",
      "  k1 = 0.8\n",
      "  b = 0.6\n",
      "  MAP = 0.1714\n",
      "\\nModel Performance Ranking (by MAP):\n",
      "  1. BM25 (Default): MAP = 0.1026, MRR = 0.2734\n",
      "  2. BM25 (Optimized): MAP = 0.1017, MRR = 0.2758\n",
      "  3. TF-IDF (Scikit-learn): MAP = 0.0687, MRR = 0.1650\n",
      "\\nKey Insights:\n",
      "  • BM25 (optimized) shows no improvement over default parameters\n",
      "  • BM25 outperforms TF-IDF by 48.0% in MAP\n",
      "  • Parameter tuning marginally affects performance\n"
     ]
    }
   ],
   "source": [
    "\n",
    "\n",
    "# Print final summary\n",
    "print(\"=== FINAL RESULTS SUMMARY ===\")\n",
    "print(f\"\\\\nDataset: {len(corpus_df)} documents, {len(queries_df)} queries\")\n",
    "print(f\"Evaluation: {len(eval_query_ids)} queries with sufficient relevance judgments\")\n",
    "print(f\"\\\\nBest BM25 Parameters Found:\")\n",
    "print(f\"  k1 = {best_k1}\")\n",
    "print(f\"  b = {best_b}\")\n",
    "print(f\"  MAP = {best_map:.4f}\")\n",
    "\n",
    "print(f\"\\\\nModel Performance Ranking (by MAP):\")\n",
    "sorted_models = comparison_df.sort_values('MAP', ascending=False)\n",
    "for i, (model, row) in enumerate(sorted_models.iterrows(), 1):\n",
    "    print(f\"  {i}. {model}: MAP = {row['MAP']:.4f}, MRR = {row['MRR']:.4f}\")\n",
    "\n",
    "print(f\"\\\\nKey Insights:\")\n",
    "print(f\"  • BM25 (optimized) shows {'improvement' if bm25_optimized_metrics['MAP'] > bm25_default_metrics['MAP'] else 'no improvement'} over default parameters\")\n",
    "print(f\"  • BM25 outperforms TF-IDF by {((bm25_optimized_metrics['MAP'] - tfidf_metrics['MAP']) / tfidf_metrics['MAP'] * 100):.1f}% in MAP\")\n",
    "print(f\"  • Parameter tuning {'significantly' if abs(bm25_optimized_metrics['MAP'] - bm25_default_metrics['MAP']) > 0.01 else 'marginally'} affects performance\")"
   ]
  },
  {
   "cell_type": "markdown",
   "metadata": {},
   "source": [
    "### Technical Implementation Notes\n",
    "\n",
    "The implementations provided include several optimizations:\n",
    "\n",
    "1. **Scikit-learn TF-IDF**: Uses optimized sparse matrix operations and built-in cosine similarity\n",
    "2. **BM25 Parameter Tuning**: Grid search with visualization to find optimal parameters  \n",
    "3. **Comprehensive Evaluation**: Multiple metrics including MAP, MRR, Precision@k, Recall@k, nDCG@k, and F1@k\n",
    "4. **Efficient Processing**: Candidate selection and vectorized operations for better performance\n",
    "\n",
    "The code is designed to be easily extensible and can be adapted for other datasets and evaluation scenarios."
   ]
  },
  {
   "cell_type": "code",
   "execution_count": 13,
   "metadata": {},
   "outputs": [
    {
     "name": "stdout",
     "output_type": "stream",
     "text": [
      "\\n=== COMPLETE PERFORMANCE COMPARISON ===\n"
     ]
    },
    {
     "data": {
      "text/html": [
       "<div>\n",
       "<style scoped>\n",
       "    .dataframe tbody tr th:only-of-type {\n",
       "        vertical-align: middle;\n",
       "    }\n",
       "\n",
       "    .dataframe tbody tr th {\n",
       "        vertical-align: top;\n",
       "    }\n",
       "\n",
       "    .dataframe thead th {\n",
       "        text-align: right;\n",
       "    }\n",
       "</style>\n",
       "<table border=\"1\" class=\"dataframe\">\n",
       "  <thead>\n",
       "    <tr style=\"text-align: right;\">\n",
       "      <th></th>\n",
       "      <th>P@1</th>\n",
       "      <th>R@1</th>\n",
       "      <th>nDCG@1</th>\n",
       "      <th>F1@1</th>\n",
       "      <th>P@3</th>\n",
       "      <th>R@3</th>\n",
       "      <th>nDCG@3</th>\n",
       "      <th>F1@3</th>\n",
       "      <th>P@5</th>\n",
       "      <th>R@5</th>\n",
       "      <th>...</th>\n",
       "      <th>P@10</th>\n",
       "      <th>R@10</th>\n",
       "      <th>nDCG@10</th>\n",
       "      <th>F1@10</th>\n",
       "      <th>P@20</th>\n",
       "      <th>R@20</th>\n",
       "      <th>nDCG@20</th>\n",
       "      <th>F1@20</th>\n",
       "      <th>MAP</th>\n",
       "      <th>MRR</th>\n",
       "    </tr>\n",
       "  </thead>\n",
       "  <tbody>\n",
       "    <tr>\n",
       "      <th>TF-IDF (Scikit-learn)</th>\n",
       "      <td>0.08</td>\n",
       "      <td>0.0185</td>\n",
       "      <td>0.08</td>\n",
       "      <td>0.0297</td>\n",
       "      <td>0.0867</td>\n",
       "      <td>0.0659</td>\n",
       "      <td>0.0859</td>\n",
       "      <td>0.0732</td>\n",
       "      <td>0.072</td>\n",
       "      <td>0.0856</td>\n",
       "      <td>...</td>\n",
       "      <td>0.042</td>\n",
       "      <td>0.0963</td>\n",
       "      <td>0.0901</td>\n",
       "      <td>0.0572</td>\n",
       "      <td>0.033</td>\n",
       "      <td>0.1575</td>\n",
       "      <td>0.1140</td>\n",
       "      <td>0.0538</td>\n",
       "      <td>0.0687</td>\n",
       "      <td>0.1650</td>\n",
       "    </tr>\n",
       "    <tr>\n",
       "      <th>BM25 (Default)</th>\n",
       "      <td>0.20</td>\n",
       "      <td>0.0552</td>\n",
       "      <td>0.20</td>\n",
       "      <td>0.0857</td>\n",
       "      <td>0.1067</td>\n",
       "      <td>0.0826</td>\n",
       "      <td>0.1269</td>\n",
       "      <td>0.0913</td>\n",
       "      <td>0.100</td>\n",
       "      <td>0.1283</td>\n",
       "      <td>...</td>\n",
       "      <td>0.058</td>\n",
       "      <td>0.1468</td>\n",
       "      <td>0.1472</td>\n",
       "      <td>0.0816</td>\n",
       "      <td>0.036</td>\n",
       "      <td>0.1820</td>\n",
       "      <td>0.1604</td>\n",
       "      <td>0.0594</td>\n",
       "      <td>0.1026</td>\n",
       "      <td>0.2734</td>\n",
       "    </tr>\n",
       "    <tr>\n",
       "      <th>BM25 (Optimized)</th>\n",
       "      <td>0.20</td>\n",
       "      <td>0.0535</td>\n",
       "      <td>0.20</td>\n",
       "      <td>0.0837</td>\n",
       "      <td>0.1200</td>\n",
       "      <td>0.0942</td>\n",
       "      <td>0.1363</td>\n",
       "      <td>0.1037</td>\n",
       "      <td>0.092</td>\n",
       "      <td>0.1194</td>\n",
       "      <td>...</td>\n",
       "      <td>0.060</td>\n",
       "      <td>0.1508</td>\n",
       "      <td>0.1485</td>\n",
       "      <td>0.0843</td>\n",
       "      <td>0.036</td>\n",
       "      <td>0.1800</td>\n",
       "      <td>0.1599</td>\n",
       "      <td>0.0592</td>\n",
       "      <td>0.1017</td>\n",
       "      <td>0.2758</td>\n",
       "    </tr>\n",
       "  </tbody>\n",
       "</table>\n",
       "<p>3 rows × 22 columns</p>\n",
       "</div>"
      ],
      "text/plain": [
       "                        P@1     R@1  nDCG@1    F1@1     P@3     R@3  nDCG@3  \\\n",
       "TF-IDF (Scikit-learn)  0.08  0.0185    0.08  0.0297  0.0867  0.0659  0.0859   \n",
       "BM25 (Default)         0.20  0.0552    0.20  0.0857  0.1067  0.0826  0.1269   \n",
       "BM25 (Optimized)       0.20  0.0535    0.20  0.0837  0.1200  0.0942  0.1363   \n",
       "\n",
       "                         F1@3    P@5     R@5  ...   P@10    R@10  nDCG@10  \\\n",
       "TF-IDF (Scikit-learn)  0.0732  0.072  0.0856  ...  0.042  0.0963   0.0901   \n",
       "BM25 (Default)         0.0913  0.100  0.1283  ...  0.058  0.1468   0.1472   \n",
       "BM25 (Optimized)       0.1037  0.092  0.1194  ...  0.060  0.1508   0.1485   \n",
       "\n",
       "                        F1@10   P@20    R@20  nDCG@20   F1@20     MAP     MRR  \n",
       "TF-IDF (Scikit-learn)  0.0572  0.033  0.1575   0.1140  0.0538  0.0687  0.1650  \n",
       "BM25 (Default)         0.0816  0.036  0.1820   0.1604  0.0594  0.1026  0.2734  \n",
       "BM25 (Optimized)       0.0843  0.036  0.1800   0.1599  0.0592  0.1017  0.2758  \n",
       "\n",
       "[3 rows x 22 columns]"
      ]
     },
     "metadata": {},
     "output_type": "display_data"
    },
    {
     "name": "stdout",
     "output_type": "stream",
     "text": [
      "\\n=== PARAMETER TUNING SUMMARY ===\n",
      "Total parameter combinations tested: 49\n",
      "Best parameters: k1=0.8, b=0.6\n",
      "Best MAP score: 0.1714\n",
      "Improvement over default (k1=1.2, b=0.75): 4.14%\n"
     ]
    }
   ],
   "source": [
    "# Display the complete comparison table\n",
    "print(\"\\\\n=== COMPLETE PERFORMANCE COMPARISON ===\")\n",
    "display(comparison_df.round(4))\n",
    "\n",
    "# Show parameter tuning results summary\n",
    "print(\"\\\\n=== PARAMETER TUNING SUMMARY ===\")\n",
    "print(f\"Total parameter combinations tested: {len(tuning_results)}\")\n",
    "print(f\"Best parameters: k1={best_k1}, b={best_b}\")\n",
    "print(f\"Best MAP score: {best_map:.4f}\")\n",
    "\n",
    "# Show improvement over default\n",
    "default_map = tuning_results.get((1.2, 0.75), {}).get('MAP', 0)\n",
    "if default_map > 0:\n",
    "    improvement = ((best_map - default_map) / default_map * 100)\n",
    "    print(f\"Improvement over default (k1=1.2, b=0.75): {improvement:.2f}%\")"
   ]
  }
 ],
 "metadata": {
  "kernelspec": {
   "display_name": "Python 3",
   "language": "python",
   "name": "python3"
  },
  "language_info": {
   "codemirror_mode": {
    "name": "ipython",
    "version": 3
   },
   "file_extension": ".py",
   "mimetype": "text/x-python",
   "name": "python",
   "nbconvert_exporter": "python",
   "pygments_lexer": "ipython3",
   "version": "3.9.6"
  }
 },
 "nbformat": 4,
 "nbformat_minor": 4
}
