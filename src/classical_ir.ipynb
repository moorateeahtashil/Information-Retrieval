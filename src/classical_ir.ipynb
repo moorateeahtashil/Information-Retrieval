{
 "cells": [
  {
   "cell_type": "markdown",
   "metadata": {},
   "source": [
    "# Notebook 2: Classical IR Models and Evaluation\n",
    "\n",
    "This notebook covers **Steps 2 and 3** of the project. We will:\n",
    "\n",
    "1.  **Load Processed Data**: Import the cleaned corpus and queries from Notebook 1.\n",
    "2.  **Implement TF-IDF**: Build a TF-IDF Vector Space Model from scratch.\n",
    "3.  **Implement BM25**: Use the `rank_bm25` library for the Okapi BM25 model.\n",
    "4.  **Rank Documents**: Retrieve and rank documents for a sample of 10 queries using both models.\n",
    "5.  **Evaluate Performance**: Calculate Precision@k, Recall@k, MAP, MRR, and nDCG for both models and compare their performance."
   ]
  },
  {
   "cell_type": "markdown",
   "metadata": {},
   "source": [
    "## 1. Setup and Installation\n",
    "\n",
    "We need several libraries for optimized implementations:\n",
    "- `scikit-learn` for optimized TF-IDF implementation\n",
    "- `rank_bm25` for BM25 model\n",
    "- `numpy`, `pandas` for data manipulation\n",
    "- `tqdm` for progress bars\n",
    "- `matplotlib`, `seaborn` for visualization"
   ]
  },
  {
   "cell_type": "code",
   "execution_count": 1,
   "metadata": {},
   "outputs": [
    {
     "name": "stdout",
     "output_type": "stream",
     "text": [
      "Defaulting to user installation because normal site-packages is not writeable\n",
      "Requirement already satisfied: numpy in /Users/moorateeahtashil/Library/Python/3.9/lib/python/site-packages (2.0.2)\n",
      "Requirement already satisfied: scipy in /Users/moorateeahtashil/Library/Python/3.9/lib/python/site-packages (1.13.1)\n",
      "Requirement already satisfied: rank_bm25 in /Users/moorateeahtashil/Library/Python/3.9/lib/python/site-packages (0.2.2)\n",
      "Requirement already satisfied: pandas in /Users/moorateeahtashil/Library/Python/3.9/lib/python/site-packages (2.2.3)\n",
      "Requirement already satisfied: scikit-learn in /Users/moorateeahtashil/Library/Python/3.9/lib/python/site-packages (1.5.2)\n",
      "Requirement already satisfied: matplotlib in /Users/moorateeahtashil/Library/Python/3.9/lib/python/site-packages (3.9.2)\n",
      "Requirement already satisfied: seaborn in /Users/moorateeahtashil/Library/Python/3.9/lib/python/site-packages (0.13.2)\n",
      "Requirement already satisfied: tqdm in /Users/moorateeahtashil/Library/Python/3.9/lib/python/site-packages (4.67.1)\n",
      "Requirement already satisfied: python-dateutil>=2.8.2 in /Users/moorateeahtashil/Library/Python/3.9/lib/python/site-packages (from pandas) (2.9.0.post0)\n",
      "Requirement already satisfied: pytz>=2020.1 in /Users/moorateeahtashil/Library/Python/3.9/lib/python/site-packages (from pandas) (2025.2)\n",
      "Requirement already satisfied: tzdata>=2022.7 in /Users/moorateeahtashil/Library/Python/3.9/lib/python/site-packages (from pandas) (2025.2)\n",
      "Requirement already satisfied: joblib>=1.2.0 in /Users/moorateeahtashil/Library/Python/3.9/lib/python/site-packages (from scikit-learn) (1.4.2)\n",
      "Requirement already satisfied: threadpoolctl>=3.1.0 in /Users/moorateeahtashil/Library/Python/3.9/lib/python/site-packages (from scikit-learn) (3.5.0)\n",
      "Requirement already satisfied: contourpy>=1.0.1 in /Users/moorateeahtashil/Library/Python/3.9/lib/python/site-packages (from matplotlib) (1.3.0)\n",
      "Requirement already satisfied: cycler>=0.10 in /Users/moorateeahtashil/Library/Python/3.9/lib/python/site-packages (from matplotlib) (0.12.1)\n",
      "Requirement already satisfied: fonttools>=4.22.0 in /Users/moorateeahtashil/Library/Python/3.9/lib/python/site-packages (from matplotlib) (4.55.0)\n",
      "Requirement already satisfied: kiwisolver>=1.3.1 in /Users/moorateeahtashil/Library/Python/3.9/lib/python/site-packages (from matplotlib) (1.4.7)\n",
      "Requirement already satisfied: packaging>=20.0 in /Users/moorateeahtashil/Library/Python/3.9/lib/python/site-packages (from matplotlib) (24.2)\n",
      "Requirement already satisfied: pillow>=8 in /Users/moorateeahtashil/Library/Python/3.9/lib/python/site-packages (from matplotlib) (11.0.0)\n",
      "Requirement already satisfied: pyparsing>=2.3.1 in /Users/moorateeahtashil/Library/Python/3.9/lib/python/site-packages (from matplotlib) (3.2.0)\n",
      "Requirement already satisfied: importlib-resources>=3.2.0 in /Users/moorateeahtashil/Library/Python/3.9/lib/python/site-packages (from matplotlib) (6.4.5)\n",
      "Requirement already satisfied: zipp>=3.1.0 in /Users/moorateeahtashil/Library/Python/3.9/lib/python/site-packages (from importlib-resources>=3.2.0->matplotlib) (3.21.0)\n",
      "Requirement already satisfied: six>=1.5 in /Library/Developer/CommandLineTools/Library/Frameworks/Python3.framework/Versions/3.9/lib/python3.9/site-packages (from python-dateutil>=2.8.2->pandas) (1.15.0)\n"
     ]
    }
   ],
   "source": [
    "!pip install numpy scipy rank_bm25 pandas scikit-learn matplotlib seaborn tqdm"
   ]
  },
  {
   "cell_type": "markdown",
   "metadata": {},
   "source": [
    "## 2. Load Processed Data\n",
    "\n",
    "Load the dataframes and the inverted index that we saved in the previous notebook."
   ]
  },
  {
   "cell_type": "code",
   "execution_count": 2,
   "metadata": {},
   "outputs": [
    {
     "name": "stdout",
     "output_type": "stream",
     "text": [
      "Data loaded successfully.\n",
      "Corpus size: 57638 documents\n",
      "Queries size: 6648 queries\n",
      "Qrels size: 17110 relevance judgments\n"
     ]
    },
    {
     "data": {
      "text/html": [
       "<div>\n",
       "<style scoped>\n",
       "    .dataframe tbody tr th:only-of-type {\n",
       "        vertical-align: middle;\n",
       "    }\n",
       "\n",
       "    .dataframe tbody tr th {\n",
       "        vertical-align: top;\n",
       "    }\n",
       "\n",
       "    .dataframe thead th {\n",
       "        text-align: right;\n",
       "    }\n",
       "</style>\n",
       "<table border=\"1\" class=\"dataframe\">\n",
       "  <thead>\n",
       "    <tr style=\"text-align: right;\">\n",
       "      <th></th>\n",
       "      <th>doc_id</th>\n",
       "      <th>text</th>\n",
       "      <th>processed_text</th>\n",
       "    </tr>\n",
       "  </thead>\n",
       "  <tbody>\n",
       "    <tr>\n",
       "      <th>0</th>\n",
       "      <td>3</td>\n",
       "      <td>I'm not saying I don't like the idea of on-the...</td>\n",
       "      <td>[say, like, idea, training, ca, expect, compan...</td>\n",
       "    </tr>\n",
       "    <tr>\n",
       "      <th>1</th>\n",
       "      <td>31</td>\n",
       "      <td>So nothing preventing false ratings besides ad...</td>\n",
       "      <td>[nothing, prevent, false, rating, besides, add...</td>\n",
       "    </tr>\n",
       "    <tr>\n",
       "      <th>2</th>\n",
       "      <td>56</td>\n",
       "      <td>You can never use a health FSA for individual ...</td>\n",
       "      <td>[never, use, health, fsa, individual, health, ...</td>\n",
       "    </tr>\n",
       "    <tr>\n",
       "      <th>3</th>\n",
       "      <td>59</td>\n",
       "      <td>Samsung created the LCD and other flat screen ...</td>\n",
       "      <td>[samsung, create, lcd, flat, screen, technolog...</td>\n",
       "    </tr>\n",
       "    <tr>\n",
       "      <th>4</th>\n",
       "      <td>63</td>\n",
       "      <td>Here are the SEC requirements: The federal sec...</td>\n",
       "      <td>[sec, requirement, federal, security, law, def...</td>\n",
       "    </tr>\n",
       "  </tbody>\n",
       "</table>\n",
       "</div>"
      ],
      "text/plain": [
       "  doc_id                                               text  \\\n",
       "0      3  I'm not saying I don't like the idea of on-the...   \n",
       "1     31  So nothing preventing false ratings besides ad...   \n",
       "2     56  You can never use a health FSA for individual ...   \n",
       "3     59  Samsung created the LCD and other flat screen ...   \n",
       "4     63  Here are the SEC requirements: The federal sec...   \n",
       "\n",
       "                                      processed_text  \n",
       "0  [say, like, idea, training, ca, expect, compan...  \n",
       "1  [nothing, prevent, false, rating, besides, add...  \n",
       "2  [never, use, health, fsa, individual, health, ...  \n",
       "3  [samsung, create, lcd, flat, screen, technolog...  \n",
       "4  [sec, requirement, federal, security, law, def...  "
      ]
     },
     "metadata": {},
     "output_type": "display_data"
    }
   ],
   "source": [
    "import pandas as pd\n",
    "import json\n",
    "import os\n",
    "import numpy as np\n",
    "from tqdm import tqdm\n",
    "import matplotlib.pyplot as plt\n",
    "import seaborn as sns\n",
    "from sklearn.feature_extraction.text import TfidfVectorizer\n",
    "from sklearn.metrics.pairwise import cosine_similarity\n",
    "from rank_bm25 import BM25Okapi\n",
    "import itertools\n",
    "from collections import defaultdict\n",
    "\n",
    "# Set style for better plots\n",
    "plt.style.use('seaborn-v0_8')\n",
    "sns.set_palette(\"husl\")\n",
    "\n",
    "DATA_DIR = '../fiqa/processed_data'\n",
    "\n",
    "# Load data\n",
    "corpus_df = pd.read_pickle(os.path.join(DATA_DIR, 'corpus_processed.pkl'))\n",
    "queries_df = pd.read_pickle(os.path.join(DATA_DIR, 'queries_processed.pkl'))\n",
    "qrels_df = pd.read_pickle(os.path.join(DATA_DIR, 'qrels.pkl'))\n",
    "with open(os.path.join(DATA_DIR, 'inverted_index.json'), 'r', encoding='utf-8') as f:\n",
    "    inverted_index = json.load(f)\n",
    "\n",
    "# Create mappings for faster lookups\n",
    "query_id_to_text = pd.Series(queries_df.processed_text.values, index=queries_df.query_id).to_dict()\n",
    "\n",
    "print(\"Data loaded successfully.\")\n",
    "print(f\"Corpus size: {len(corpus_df)} documents\")\n",
    "print(f\"Queries size: {len(queries_df)} queries\")\n",
    "print(f\"Qrels size: {len(qrels_df)} relevance judgments\")\n",
    "display(corpus_df.head())"
   ]
  },
  {
   "cell_type": "markdown",
   "metadata": {},
   "source": [
    "## 3. Optimized TF-IDF Implementation using Scikit-learn\n",
    "\n",
    "We'll use scikit-learn's `TfidfVectorizer` which provides:\n",
    "- **Optimized TF-IDF computation**: Much faster than manual implementation\n",
    "- **Built-in preprocessing**: Handles tokenization, stop words, etc.\n",
    "- **Efficient sparse matrix operations**: Memory efficient for large corpora\n",
    "- **Cosine similarity**: Built-in cosine similarity computation\n",
    "\n",
    "The scikit-learn implementation uses:\n",
    "- **TF**: Raw term frequency (can be normalized)\n",
    "- **IDF**: log(1 + N/df) where N is total documents and df is document frequency\n",
    "- **Normalization**: L2 normalization by default"
   ]
  },
  {
   "cell_type": "code",
   "execution_count": 3,
   "metadata": {},
   "outputs": [
    {
     "name": "stdout",
     "output_type": "stream",
     "text": [
      "Initializing optimized TF-IDF model...\n",
      "Fitting TF-IDF vectorizer...\n",
      "TF-IDF matrix shape: (57638, 27443)\n"
     ]
    }
   ],
   "source": [
    "class OptimizedTFIDFModel:\n",
    "    def __init__(self, corpus_df):\n",
    "        self.corpus = corpus_df\n",
    "        self.doc_ids = corpus_df['doc_id'].tolist()\n",
    "        \n",
    "        # Convert processed text to strings for TfidfVectorizer\n",
    "        # TfidfVectorizer expects strings, not lists of tokens\n",
    "        self.documents = [' '.join(doc) for doc in corpus_df['processed_text']]\n",
    "        \n",
    "        # Initialize TF-IDF vectorizer with optimized settings\n",
    "        self.vectorizer = TfidfVectorizer(\n",
    "            lowercase=False,  # Already processed\n",
    "            token_pattern=r'\\S+',  # Match any non-whitespace sequence\n",
    "            max_features=50000,  # Limit vocabulary size for efficiency\n",
    "            min_df=2,  # Ignore terms that appear in less than 2 documents\n",
    "            max_df=0.95,  # Ignore terms that appear in more than 95% of documents\n",
    "            sublinear_tf=True,  # Use 1 + log(tf) instead of raw tf\n",
    "            norm='l2'  # L2 normalization for cosine similarity\n",
    "        )\n",
    "        \n",
    "        print(\"Fitting TF-IDF vectorizer...\")\n",
    "        self.tfidf_matrix = self.vectorizer.fit_transform(self.documents)\n",
    "        print(f\"TF-IDF matrix shape: {self.tfidf_matrix.shape}\")\n",
    "        \n",
    "        # Create mapping from doc_id to matrix index\n",
    "        self.doc_id_to_idx = {doc_id: idx for idx, doc_id in enumerate(self.doc_ids)}\n",
    "    \n",
    "    def rank_documents(self, query_terms, top_n=100):\n",
    "        # Convert query terms to string\n",
    "        query_text = ' '.join(query_terms)\n",
    "        \n",
    "        # Transform query to TF-IDF vector\n",
    "        query_vector = self.vectorizer.transform([query_text])\n",
    "        \n",
    "        # Compute cosine similarities\n",
    "        similarities = cosine_similarity(query_vector, self.tfidf_matrix).flatten()\n",
    "        \n",
    "        # Get top documents\n",
    "        top_indices = np.argsort(similarities)[::-1][:top_n]\n",
    "        \n",
    "        results = []\n",
    "        for idx in top_indices:\n",
    "            if similarities[idx] > 0:  # Only include documents with non-zero similarity\n",
    "                doc_id = self.doc_ids[idx]\n",
    "                score = similarities[idx]\n",
    "                results.append((doc_id, score))\n",
    "        \n",
    "        return results\n",
    "\n",
    "# Initialize the optimized TF-IDF model\n",
    "print(\"Initializing optimized TF-IDF model...\")\n",
    "tfidf_model = OptimizedTFIDFModel(corpus_df)"
   ]
  },
  {
   "cell_type": "markdown",
   "metadata": {},
   "source": [
    "## 4. BM25 Model Implementation with Parameter Tuning\n",
    "\n",
    "For BM25, we'll use the efficient `rank_bm25` library with optimized parameters:\n",
    "- **k1**: Controls term frequency saturation (default: 1.2, range: 1.0-2.0)\n",
    "- **b**: Controls length normalization (default: 0.75, range: 0.0-1.0)\n",
    "\n",
    "Research shows that k1=1.2 and b=0.75 work well for most collections, but we'll implement parameter tuning to find the optimal values for this specific dataset."
   ]
  },
  {
   "cell_type": "code",
   "execution_count": null,
   "metadata": {},
   "outputs": [
    {
     "name": "stdout",
     "output_type": "stream",
     "text": [
      "Initializing BM25 model with optimized parameters...\n",
      "BM25 initialized with k1=1.2, b=0.75\n",
      "Average document length: 64.92\n"
     ]
    }
   ],
   "source": [
    "class BM25Model:\n",
    "    def __init__(self, corpus_df, k1=1.2, b=0.75):\n",
    "        self.corpus = corpus_df\n",
    "        self.doc_ids = corpus_df['doc_id'].tolist()\n",
    "        self.tokenized_corpus = corpus_df['processed_text'].tolist()\n",
    "        self.k1 = k1\n",
    "        self.b = b\n",
    "        \n",
    "        # Initialize BM25 with given parameters\n",
    "        self.bm25 = BM25Okapi(self.tokenized_corpus, k1=k1, b=b)\n",
    "        \n",
    "        # Calculate average document length for BM25 formula\n",
    "        self.avg_doc_length = np.mean([len(doc) for doc in self.tokenized_corpus])\n",
    "        print(f\"BM25 initialized with k1={k1}, b={b}\")\n",
    "        print(f\"Average document length: {self.avg_doc_length:.2f}\")\n",
    "    \n",
    "    def rank_documents(self, query_terms, top_n=100):\n",
    "        # Get BM25 scores for all documents\n",
    "        doc_scores = self.bm25.get_scores(query_terms)\n",
    "        \n",
    "        # Get top documents\n",
    "        top_indices = np.argsort(doc_scores)[::-1][:top_n]\n",
    "        \n",
    "        results = []\n",
    "        for idx in top_indices:\n",
    "            if doc_scores[idx] > 0:  # Only include documents with non-zero scores\n",
    "                doc_id = self.doc_ids[idx]\n",
    "                score = doc_scores[idx]\n",
    "                results.append((doc_id, score))\n",
    "        \n",
    "        return results\n",
    "\n",
    "# Initialize BM25 with optimized default parameters\n",
    "print(\"Initializing BM25 model with optimized parameters...\")\n",
    "bm25_model = BM25Model(corpus_df, k1=1.2, b=0.75)"
   ]
  },
  {
   "cell_type": "markdown",
   "metadata": {},
   "source": [
    "## 6. Comprehensive Evaluation Functions\n",
    "\n",
    "We'll implement a comprehensive set of evaluation metrics to compare TF-IDF and BM25 performance.\n"
   ]
  },
  {
   "cell_type": "code",
   "execution_count": 5,
   "metadata": {},
   "outputs": [
    {
     "name": "stdout",
     "output_type": "stream",
     "text": [
      "Evaluation functions loaded successfully.\n"
     ]
    }
   ],
   "source": [
    "import math\n",
    "\n",
    "def precision_at_k(retrieved, relevant, k):\n",
    "    \"\"\"Calculate Precision@k\"\"\"\n",
    "    retrieved_k = retrieved[:k]\n",
    "    if k == 0:\n",
    "        return 0.0\n",
    "    return len(set(retrieved_k) & set(relevant)) / k\n",
    "\n",
    "def recall_at_k(retrieved, relevant, k):\n",
    "    \"\"\"Calculate Recall@k\"\"\"\n",
    "    retrieved_k = retrieved[:k]\n",
    "    if not relevant:\n",
    "        return 0.0\n",
    "    return len(set(retrieved_k) & set(relevant)) / len(relevant)\n",
    "\n",
    "def average_precision(retrieved, relevant):\n",
    "    \"\"\"Calculate Average Precision (AP)\"\"\"\n",
    "    if not relevant:\n",
    "        return 0.0\n",
    "    \n",
    "    hits = 0\n",
    "    sum_precisions = 0.0\n",
    "    for i, doc_id in enumerate(retrieved):\n",
    "        if doc_id in relevant:\n",
    "            hits += 1\n",
    "            sum_precisions += hits / (i + 1)\n",
    "    \n",
    "    return sum_precisions / len(relevant)\n",
    "\n",
    "def mean_average_precision(results, relevant_docs):\n",
    "    \"\"\"Calculate Mean Average Precision (MAP)\"\"\"\n",
    "    aps = [average_precision(results[qid], relevant_docs.get(qid, [])) for qid in results]\n",
    "    return np.mean(aps)\n",
    "\n",
    "def mean_reciprocal_rank(results, relevant_docs):\n",
    "    \"\"\"Calculate Mean Reciprocal Rank (MRR)\"\"\"\n",
    "    rrs = []\n",
    "    for qid in results:\n",
    "        relevant = relevant_docs.get(qid, [])\n",
    "        for i, doc_id in enumerate(results[qid]):\n",
    "            if doc_id in relevant:\n",
    "                rrs.append(1 / (i + 1))\n",
    "                break\n",
    "        else:  # If no relevant doc was found\n",
    "            rrs.append(0.0)\n",
    "    return np.mean(rrs)\n",
    "\n",
    "def ndcg_at_k(retrieved, relevant, k):\n",
    "    \"\"\"Calculate Normalized Discounted Cumulative Gain@k\"\"\"\n",
    "    retrieved_k = retrieved[:k]\n",
    "    dcg = 0.0\n",
    "    for i, doc_id in enumerate(retrieved_k):\n",
    "        if doc_id in relevant:\n",
    "            dcg += 1 / math.log2(i + 2)  # relevance=1\n",
    "    \n",
    "    idcg = 0.0\n",
    "    num_relevant_k = min(len(relevant), k)\n",
    "    for i in range(num_relevant_k):\n",
    "        idcg += 1 / math.log2(i + 2)\n",
    "        \n",
    "    return dcg / idcg if idcg > 0 else 0.0\n",
    "\n",
    "def f1_at_k(retrieved, relevant, k):\n",
    "    \"\"\"Calculate F1@k\"\"\"\n",
    "    p = precision_at_k(retrieved, relevant, k)\n",
    "    r = recall_at_k(retrieved, relevant, k)\n",
    "    if p + r == 0:\n",
    "        return 0.0\n",
    "    return 2 * p * r / (p + r)\n",
    "\n",
    "def evaluate_model(results, relevant_docs, k_values=[1, 3, 5, 10, 20]):\n",
    "    \"\"\"Comprehensive evaluation of a retrieval model\"\"\"\n",
    "    metrics = {}\n",
    "    \n",
    "    for k in k_values:\n",
    "        precisions = [precision_at_k(results[qid], relevant_docs.get(qid, []), k) for qid in results]\n",
    "        recalls = [recall_at_k(results[qid], relevant_docs.get(qid, []), k) for qid in results]\n",
    "        ndcgs = [ndcg_at_k(results[qid], relevant_docs.get(qid, []), k) for qid in results]\n",
    "        f1s = [f1_at_k(results[qid], relevant_docs.get(qid, []), k) for qid in results]\n",
    "        \n",
    "        metrics[f'P@{k}'] = np.mean(precisions)\n",
    "        metrics[f'R@{k}'] = np.mean(recalls)\n",
    "        metrics[f'nDCG@{k}'] = np.mean(ndcgs)\n",
    "        metrics[f'F1@{k}'] = np.mean(f1s)\n",
    "    \n",
    "    metrics['MAP'] = mean_average_precision(results, relevant_docs)\n",
    "    metrics['MRR'] = mean_reciprocal_rank(results, relevant_docs)\n",
    "    \n",
    "    return metrics\n",
    "\n",
    "print(\"Evaluation functions loaded successfully.\")\n"
   ]
  },
  {
   "cell_type": "markdown",
   "metadata": {},
   "source": [
    "## 5. BM25 Parameter Tuning\n",
    "\n",
    "We'll implement a comprehensive parameter tuning system to find the optimal k1 and b values for BM25. This will help us achieve the best possible performance on our dataset.\n"
   ]
  },
  {
   "cell_type": "code",
   "execution_count": null,
   "metadata": {},
   "outputs": [
    {
     "name": "stdout",
     "output_type": "stream",
     "text": [
      "Starting BM25 parameter tuning...\n",
      "k1 values: [0.8, 1.0, 1.2, 1.4, 1.6, 1.8, 2.0]\n",
      "b values: [0.0, 0.2, 0.4, 0.6, 0.75, 0.8, 1.0]\n",
      "Evaluating on 30 queries with 7 k1 values and 7 b values\n",
      "Total combinations: 49\n",
      "\\n[1/49] Testing k1=0.8, b=0.0\n",
      "BM25 initialized with k1=0.8, b=0.0\n",
      "Average document length: 64.92\n"
     ]
    },
    {
     "name": "stderr",
     "output_type": "stream",
     "text": [
      "                                                              \r"
     ]
    },
    {
     "name": "stdout",
     "output_type": "stream",
     "text": [
      "MAP: 0.1468\n",
      "*** New best MAP: 0.1468 with k1=0.8, b=0.0 ***\n",
      "\\n[2/49] Testing k1=0.8, b=0.2\n",
      "BM25 initialized with k1=0.8, b=0.2\n",
      "Average document length: 64.92\n"
     ]
    },
    {
     "name": "stderr",
     "output_type": "stream",
     "text": [
      "                                                              \r"
     ]
    },
    {
     "name": "stdout",
     "output_type": "stream",
     "text": [
      "MAP: 0.1935\n",
      "*** New best MAP: 0.1935 with k1=0.8, b=0.2 ***\n",
      "\\n[3/49] Testing k1=0.8, b=0.4\n",
      "BM25 initialized with k1=0.8, b=0.4\n",
      "Average document length: 64.92\n"
     ]
    },
    {
     "name": "stderr",
     "output_type": "stream",
     "text": [
      "                                                              \r"
     ]
    },
    {
     "name": "stdout",
     "output_type": "stream",
     "text": [
      "MAP: 0.2164\n",
      "*** New best MAP: 0.2164 with k1=0.8, b=0.4 ***\n",
      "\\n[4/49] Testing k1=0.8, b=0.6\n",
      "BM25 initialized with k1=0.8, b=0.6\n",
      "Average document length: 64.92\n"
     ]
    },
    {
     "name": "stderr",
     "output_type": "stream",
     "text": [
      "                                                              \r"
     ]
    },
    {
     "name": "stdout",
     "output_type": "stream",
     "text": [
      "MAP: 0.2280\n",
      "*** New best MAP: 0.2280 with k1=0.8, b=0.6 ***\n",
      "\\n[5/49] Testing k1=0.8, b=0.75\n",
      "BM25 initialized with k1=0.8, b=0.75\n",
      "Average document length: 64.92\n"
     ]
    },
    {
     "name": "stderr",
     "output_type": "stream",
     "text": [
      "                                                               \r"
     ]
    },
    {
     "name": "stdout",
     "output_type": "stream",
     "text": [
      "MAP: 0.2202\n",
      "\\n[6/49] Testing k1=0.8, b=0.8\n",
      "BM25 initialized with k1=0.8, b=0.8\n",
      "Average document length: 64.92\n"
     ]
    },
    {
     "name": "stderr",
     "output_type": "stream",
     "text": [
      "                                                              \r"
     ]
    },
    {
     "name": "stdout",
     "output_type": "stream",
     "text": [
      "MAP: 0.2181\n",
      "\\n[7/49] Testing k1=0.8, b=1.0\n",
      "BM25 initialized with k1=0.8, b=1.0\n",
      "Average document length: 64.92\n"
     ]
    },
    {
     "name": "stderr",
     "output_type": "stream",
     "text": [
      "k1=0.8, b=1.0:   0%|          | 0/30 [00:00<?, ?it/s]/Users/moorateeahtashil/Library/Python/3.9/lib/python/site-packages/rank_bm25.py:119: RuntimeWarning: invalid value encountered in divide\n",
      "  score += (self.idf.get(q) or 0) * (q_freq * (self.k1 + 1) /\n",
      "                                                              \r"
     ]
    },
    {
     "name": "stdout",
     "output_type": "stream",
     "text": [
      "MAP: 0.2069\n",
      "\\n[8/49] Testing k1=1.0, b=0.0\n",
      "BM25 initialized with k1=1.0, b=0.0\n",
      "Average document length: 64.92\n"
     ]
    },
    {
     "name": "stderr",
     "output_type": "stream",
     "text": [
      "                                                              \r"
     ]
    },
    {
     "name": "stdout",
     "output_type": "stream",
     "text": [
      "MAP: 0.1437\n",
      "\\n[9/49] Testing k1=1.0, b=0.2\n",
      "BM25 initialized with k1=1.0, b=0.2\n",
      "Average document length: 64.92\n"
     ]
    },
    {
     "name": "stderr",
     "output_type": "stream",
     "text": [
      "                                                              \r"
     ]
    },
    {
     "name": "stdout",
     "output_type": "stream",
     "text": [
      "MAP: 0.1947\n",
      "\\n[10/49] Testing k1=1.0, b=0.4\n",
      "BM25 initialized with k1=1.0, b=0.4\n",
      "Average document length: 64.92\n"
     ]
    },
    {
     "name": "stderr",
     "output_type": "stream",
     "text": [
      "                                                              \r"
     ]
    },
    {
     "name": "stdout",
     "output_type": "stream",
     "text": [
      "MAP: 0.2176\n",
      "\\n[11/49] Testing k1=1.0, b=0.6\n",
      "BM25 initialized with k1=1.0, b=0.6\n",
      "Average document length: 64.92\n"
     ]
    },
    {
     "name": "stderr",
     "output_type": "stream",
     "text": [
      "                                                              \r"
     ]
    },
    {
     "name": "stdout",
     "output_type": "stream",
     "text": [
      "MAP: 0.2311\n",
      "*** New best MAP: 0.2311 with k1=1.0, b=0.6 ***\n",
      "\\n[12/49] Testing k1=1.0, b=0.75\n",
      "BM25 initialized with k1=1.0, b=0.75\n",
      "Average document length: 64.92\n"
     ]
    },
    {
     "name": "stderr",
     "output_type": "stream",
     "text": [
      "                                                               \r"
     ]
    },
    {
     "name": "stdout",
     "output_type": "stream",
     "text": [
      "MAP: 0.2237\n",
      "\\n[13/49] Testing k1=1.0, b=0.8\n",
      "BM25 initialized with k1=1.0, b=0.8\n",
      "Average document length: 64.92\n"
     ]
    },
    {
     "name": "stderr",
     "output_type": "stream",
     "text": [
      "                                                              \r"
     ]
    },
    {
     "name": "stdout",
     "output_type": "stream",
     "text": [
      "MAP: 0.2172\n",
      "\\n[14/49] Testing k1=1.0, b=1.0\n",
      "BM25 initialized with k1=1.0, b=1.0\n",
      "Average document length: 64.92\n"
     ]
    },
    {
     "name": "stderr",
     "output_type": "stream",
     "text": [
      "                                                              \r"
     ]
    },
    {
     "name": "stdout",
     "output_type": "stream",
     "text": [
      "MAP: 0.2100\n",
      "\\n[15/49] Testing k1=1.2, b=0.0\n",
      "BM25 initialized with k1=1.2, b=0.0\n",
      "Average document length: 64.92\n"
     ]
    },
    {
     "name": "stderr",
     "output_type": "stream",
     "text": [
      "                                                              \r"
     ]
    },
    {
     "name": "stdout",
     "output_type": "stream",
     "text": [
      "MAP: 0.1445\n",
      "\\n[16/49] Testing k1=1.2, b=0.2\n",
      "BM25 initialized with k1=1.2, b=0.2\n",
      "Average document length: 64.92\n"
     ]
    },
    {
     "name": "stderr",
     "output_type": "stream",
     "text": [
      "                                                              \r"
     ]
    },
    {
     "name": "stdout",
     "output_type": "stream",
     "text": [
      "MAP: 0.1940\n",
      "\\n[17/49] Testing k1=1.2, b=0.4\n",
      "BM25 initialized with k1=1.2, b=0.4\n",
      "Average document length: 64.92\n"
     ]
    },
    {
     "name": "stderr",
     "output_type": "stream",
     "text": [
      "                                                              \r"
     ]
    },
    {
     "name": "stdout",
     "output_type": "stream",
     "text": [
      "MAP: 0.2171\n",
      "\\n[18/49] Testing k1=1.2, b=0.6\n",
      "BM25 initialized with k1=1.2, b=0.6\n",
      "Average document length: 64.92\n"
     ]
    },
    {
     "name": "stderr",
     "output_type": "stream",
     "text": [
      "                                                              \r"
     ]
    },
    {
     "name": "stdout",
     "output_type": "stream",
     "text": [
      "MAP: 0.2309\n",
      "\\n[19/49] Testing k1=1.2, b=0.75\n",
      "BM25 initialized with k1=1.2, b=0.75\n",
      "Average document length: 64.92\n"
     ]
    },
    {
     "name": "stderr",
     "output_type": "stream",
     "text": [
      "                                                               \r"
     ]
    },
    {
     "name": "stdout",
     "output_type": "stream",
     "text": [
      "MAP: 0.2241\n",
      "\\n[20/49] Testing k1=1.2, b=0.8\n",
      "BM25 initialized with k1=1.2, b=0.8\n",
      "Average document length: 64.92\n"
     ]
    },
    {
     "name": "stderr",
     "output_type": "stream",
     "text": [
      "                                                              \r"
     ]
    },
    {
     "name": "stdout",
     "output_type": "stream",
     "text": [
      "MAP: 0.2249\n",
      "\\n[21/49] Testing k1=1.2, b=1.0\n",
      "BM25 initialized with k1=1.2, b=1.0\n",
      "Average document length: 64.92\n"
     ]
    },
    {
     "name": "stderr",
     "output_type": "stream",
     "text": [
      "                                                              \r"
     ]
    },
    {
     "name": "stdout",
     "output_type": "stream",
     "text": [
      "MAP: 0.2088\n",
      "\\n[22/49] Testing k1=1.4, b=0.0\n",
      "BM25 initialized with k1=1.4, b=0.0\n",
      "Average document length: 64.92\n"
     ]
    },
    {
     "name": "stderr",
     "output_type": "stream",
     "text": [
      "                                                              \r"
     ]
    },
    {
     "name": "stdout",
     "output_type": "stream",
     "text": [
      "MAP: 0.1487\n",
      "\\n[23/49] Testing k1=1.4, b=0.2\n",
      "BM25 initialized with k1=1.4, b=0.2\n",
      "Average document length: 64.92\n"
     ]
    },
    {
     "name": "stderr",
     "output_type": "stream",
     "text": [
      "                                                              \r"
     ]
    },
    {
     "name": "stdout",
     "output_type": "stream",
     "text": [
      "MAP: 0.1964\n",
      "\\n[24/49] Testing k1=1.4, b=0.4\n",
      "BM25 initialized with k1=1.4, b=0.4\n",
      "Average document length: 64.92\n"
     ]
    },
    {
     "name": "stderr",
     "output_type": "stream",
     "text": [
      "                                                              \r"
     ]
    },
    {
     "name": "stdout",
     "output_type": "stream",
     "text": [
      "MAP: 0.2202\n",
      "\\n[25/49] Testing k1=1.4, b=0.6\n",
      "BM25 initialized with k1=1.4, b=0.6\n",
      "Average document length: 64.92\n"
     ]
    },
    {
     "name": "stderr",
     "output_type": "stream",
     "text": [
      "                                                              \r"
     ]
    },
    {
     "name": "stdout",
     "output_type": "stream",
     "text": [
      "MAP: 0.2308\n",
      "\\n[26/49] Testing k1=1.4, b=0.75\n",
      "BM25 initialized with k1=1.4, b=0.75\n",
      "Average document length: 64.92\n"
     ]
    },
    {
     "name": "stderr",
     "output_type": "stream",
     "text": [
      "                                                               \r"
     ]
    },
    {
     "name": "stdout",
     "output_type": "stream",
     "text": [
      "MAP: 0.2257\n",
      "\\n[27/49] Testing k1=1.4, b=0.8\n",
      "BM25 initialized with k1=1.4, b=0.8\n",
      "Average document length: 64.92\n"
     ]
    },
    {
     "name": "stderr",
     "output_type": "stream",
     "text": [
      "                                                              \r"
     ]
    },
    {
     "name": "stdout",
     "output_type": "stream",
     "text": [
      "MAP: 0.2229\n",
      "\\n[28/49] Testing k1=1.4, b=1.0\n",
      "BM25 initialized with k1=1.4, b=1.0\n",
      "Average document length: 64.92\n"
     ]
    },
    {
     "name": "stderr",
     "output_type": "stream",
     "text": [
      "                                                              \r"
     ]
    },
    {
     "name": "stdout",
     "output_type": "stream",
     "text": [
      "MAP: 0.2023\n",
      "\\n[29/49] Testing k1=1.6, b=0.0\n",
      "BM25 initialized with k1=1.6, b=0.0\n",
      "Average document length: 64.92\n"
     ]
    },
    {
     "name": "stderr",
     "output_type": "stream",
     "text": [
      "                                                              \r"
     ]
    },
    {
     "name": "stdout",
     "output_type": "stream",
     "text": [
      "MAP: 0.1454\n",
      "\\n[30/49] Testing k1=1.6, b=0.2\n",
      "BM25 initialized with k1=1.6, b=0.2\n",
      "Average document length: 64.92\n"
     ]
    },
    {
     "name": "stderr",
     "output_type": "stream",
     "text": [
      "                                                              \r"
     ]
    },
    {
     "name": "stdout",
     "output_type": "stream",
     "text": [
      "MAP: 0.1960\n",
      "\\n[31/49] Testing k1=1.6, b=0.4\n",
      "BM25 initialized with k1=1.6, b=0.4\n",
      "Average document length: 64.92\n"
     ]
    },
    {
     "name": "stderr",
     "output_type": "stream",
     "text": [
      "                                                              \r"
     ]
    },
    {
     "name": "stdout",
     "output_type": "stream",
     "text": [
      "MAP: 0.2192\n",
      "\\n[32/49] Testing k1=1.6, b=0.6\n",
      "BM25 initialized with k1=1.6, b=0.6\n",
      "Average document length: 64.92\n"
     ]
    },
    {
     "name": "stderr",
     "output_type": "stream",
     "text": [
      "                                                              \r"
     ]
    },
    {
     "name": "stdout",
     "output_type": "stream",
     "text": [
      "MAP: 0.2308\n",
      "\\n[33/49] Testing k1=1.6, b=0.75\n",
      "BM25 initialized with k1=1.6, b=0.75\n",
      "Average document length: 64.92\n"
     ]
    },
    {
     "name": "stderr",
     "output_type": "stream",
     "text": [
      "                                                               \r"
     ]
    },
    {
     "name": "stdout",
     "output_type": "stream",
     "text": [
      "MAP: 0.2237\n",
      "\\n[34/49] Testing k1=1.6, b=0.8\n",
      "BM25 initialized with k1=1.6, b=0.8\n",
      "Average document length: 64.92\n"
     ]
    },
    {
     "name": "stderr",
     "output_type": "stream",
     "text": [
      "                                                              \r"
     ]
    },
    {
     "name": "stdout",
     "output_type": "stream",
     "text": [
      "MAP: 0.2210\n",
      "\\n[35/49] Testing k1=1.6, b=1.0\n",
      "BM25 initialized with k1=1.6, b=1.0\n",
      "Average document length: 64.92\n"
     ]
    },
    {
     "name": "stderr",
     "output_type": "stream",
     "text": [
      "                                                              \r"
     ]
    },
    {
     "name": "stdout",
     "output_type": "stream",
     "text": [
      "MAP: 0.1993\n",
      "\\n[36/49] Testing k1=1.8, b=0.0\n",
      "BM25 initialized with k1=1.8, b=0.0\n",
      "Average document length: 64.92\n"
     ]
    },
    {
     "name": "stderr",
     "output_type": "stream",
     "text": [
      "                                                              \r"
     ]
    },
    {
     "name": "stdout",
     "output_type": "stream",
     "text": [
      "MAP: 0.1440\n",
      "\\n[37/49] Testing k1=1.8, b=0.2\n",
      "BM25 initialized with k1=1.8, b=0.2\n",
      "Average document length: 64.92\n"
     ]
    },
    {
     "name": "stderr",
     "output_type": "stream",
     "text": [
      "                                                              \r"
     ]
    },
    {
     "name": "stdout",
     "output_type": "stream",
     "text": [
      "MAP: 0.1948\n",
      "\\n[38/49] Testing k1=1.8, b=0.4\n",
      "BM25 initialized with k1=1.8, b=0.4\n",
      "Average document length: 64.92\n"
     ]
    },
    {
     "name": "stderr",
     "output_type": "stream",
     "text": [
      "                                                              \r"
     ]
    },
    {
     "name": "stdout",
     "output_type": "stream",
     "text": [
      "MAP: 0.2214\n",
      "\\n[39/49] Testing k1=1.8, b=0.6\n",
      "BM25 initialized with k1=1.8, b=0.6\n",
      "Average document length: 64.92\n"
     ]
    },
    {
     "name": "stderr",
     "output_type": "stream",
     "text": [
      "                                                              \r"
     ]
    },
    {
     "name": "stdout",
     "output_type": "stream",
     "text": [
      "MAP: 0.2338\n",
      "*** New best MAP: 0.2338 with k1=1.8, b=0.6 ***\n",
      "\\n[40/49] Testing k1=1.8, b=0.75\n",
      "BM25 initialized with k1=1.8, b=0.75\n",
      "Average document length: 64.92\n"
     ]
    },
    {
     "name": "stderr",
     "output_type": "stream",
     "text": [
      "                                                               \r"
     ]
    },
    {
     "name": "stdout",
     "output_type": "stream",
     "text": [
      "MAP: 0.2278\n",
      "\\n[41/49] Testing k1=1.8, b=0.8\n",
      "BM25 initialized with k1=1.8, b=0.8\n",
      "Average document length: 64.92\n"
     ]
    },
    {
     "name": "stderr",
     "output_type": "stream",
     "text": [
      "                                                              \r"
     ]
    },
    {
     "name": "stdout",
     "output_type": "stream",
     "text": [
      "MAP: 0.2251\n",
      "\\n[42/49] Testing k1=1.8, b=1.0\n",
      "BM25 initialized with k1=1.8, b=1.0\n",
      "Average document length: 64.92\n"
     ]
    },
    {
     "name": "stderr",
     "output_type": "stream",
     "text": [
      "                                                              \r"
     ]
    },
    {
     "name": "stdout",
     "output_type": "stream",
     "text": [
      "MAP: 0.2045\n",
      "\\n[43/49] Testing k1=2.0, b=0.0\n",
      "BM25 initialized with k1=2.0, b=0.0\n",
      "Average document length: 64.92\n"
     ]
    },
    {
     "name": "stderr",
     "output_type": "stream",
     "text": [
      "                                                              \r"
     ]
    },
    {
     "name": "stdout",
     "output_type": "stream",
     "text": [
      "MAP: 0.1399\n",
      "\\n[44/49] Testing k1=2.0, b=0.2\n",
      "BM25 initialized with k1=2.0, b=0.2\n",
      "Average document length: 64.92\n"
     ]
    },
    {
     "name": "stderr",
     "output_type": "stream",
     "text": [
      "                                                              \r"
     ]
    },
    {
     "name": "stdout",
     "output_type": "stream",
     "text": [
      "MAP: 0.1941\n",
      "\\n[45/49] Testing k1=2.0, b=0.4\n",
      "BM25 initialized with k1=2.0, b=0.4\n",
      "Average document length: 64.92\n"
     ]
    },
    {
     "name": "stderr",
     "output_type": "stream",
     "text": [
      "                                                              \r"
     ]
    },
    {
     "name": "stdout",
     "output_type": "stream",
     "text": [
      "MAP: 0.2218\n",
      "\\n[46/49] Testing k1=2.0, b=0.6\n",
      "BM25 initialized with k1=2.0, b=0.6\n",
      "Average document length: 64.92\n"
     ]
    },
    {
     "name": "stderr",
     "output_type": "stream",
     "text": [
      "                                                              \r"
     ]
    },
    {
     "name": "stdout",
     "output_type": "stream",
     "text": [
      "MAP: 0.2276\n",
      "\\n[47/49] Testing k1=2.0, b=0.75\n",
      "BM25 initialized with k1=2.0, b=0.75\n",
      "Average document length: 64.92\n"
     ]
    },
    {
     "name": "stderr",
     "output_type": "stream",
     "text": [
      "                                                               \r"
     ]
    },
    {
     "name": "stdout",
     "output_type": "stream",
     "text": [
      "MAP: 0.2282\n",
      "\\n[48/49] Testing k1=2.0, b=0.8\n",
      "BM25 initialized with k1=2.0, b=0.8\n",
      "Average document length: 64.92\n"
     ]
    },
    {
     "name": "stderr",
     "output_type": "stream",
     "text": [
      "                                                              \r"
     ]
    },
    {
     "name": "stdout",
     "output_type": "stream",
     "text": [
      "MAP: 0.2251\n",
      "\\n[49/49] Testing k1=2.0, b=1.0\n",
      "BM25 initialized with k1=2.0, b=1.0\n",
      "Average document length: 64.92\n"
     ]
    },
    {
     "name": "stderr",
     "output_type": "stream",
     "text": [
      "                                                              \r"
     ]
    },
    {
     "name": "stdout",
     "output_type": "stream",
     "text": [
      "MAP: 0.2044\n",
      "\\n=== Parameter Tuning Complete ===\n",
      "Best parameters: k1=1.8, b=0.6\n",
      "Best MAP: 0.2338\n"
     ]
    }
   ],
   "source": [
    "def evaluate_bm25_parameters(corpus_df, queries_df, qrels_df, k1_values, b_values, \n",
    "                           sample_size=50, top_n=100):\n",
    "    \"\"\"\n",
    "    Evaluate BM25 with different parameter combinations and return the best parameters.\n",
    "    \n",
    "    Args:\n",
    "        corpus_df: DataFrame with processed documents\n",
    "        queries_df: DataFrame with processed queries\n",
    "        qrels_df: DataFrame with relevance judgments\n",
    "        k1_values: List of k1 values to test\n",
    "        b_values: List of b values to test\n",
    "        sample_size: Number of queries to use for evaluation (for speed)\n",
    "        top_n: Number of top documents to retrieve\n",
    "    \n",
    "    Returns:\n",
    "        best_params: Dictionary with best k1 and b values\n",
    "        results_grid: Grid of results for visualization\n",
    "    \"\"\"\n",
    "    \n",
    "    # Create relevance mapping\n",
    "    relevant_docs = qrels_df.groupby('query_id')['doc_id'].apply(list).to_dict()\n",
    "    query_id_to_text = pd.Series(queries_df.processed_text.values, \n",
    "                                index=queries_df.query_id).to_dict()\n",
    "    \n",
    "    # Select queries with sufficient relevance judgments for evaluation\n",
    "    rel_counts = qrels_df.groupby('query_id').size()\n",
    "    rich_queries = rel_counts[rel_counts >= 3].index.tolist()\n",
    "    \n",
    "    if len(rich_queries) > sample_size:\n",
    "        # Randomly sample queries for faster evaluation\n",
    "        np.random.seed(42)  # For reproducibility\n",
    "        eval_queries = np.random.choice(rich_queries, sample_size, replace=False)\n",
    "    else:\n",
    "        eval_queries = rich_queries\n",
    "    \n",
    "    print(f\"Evaluating on {len(eval_queries)} queries with {len(k1_values)} k1 values and {len(b_values)} b values\")\n",
    "    print(f\"Total combinations: {len(k1_values) * len(b_values)}\")\n",
    "    \n",
    "    # Grid search\n",
    "    results_grid = {}\n",
    "    best_map = 0\n",
    "    best_params = {'k1': 1.2, 'b': 0.75}\n",
    "    \n",
    "    total_combinations = len(k1_values) * len(b_values)\n",
    "    combination_count = 0\n",
    "    \n",
    "    for k1 in k1_values:\n",
    "        for b in b_values:\n",
    "            combination_count += 1\n",
    "            print(f\"\\\\n[{combination_count}/{total_combinations}] Testing k1={k1}, b={b}\")\n",
    "            \n",
    "            # Initialize BM25 with current parameters\n",
    "            bm25 = BM25Model(corpus_df, k1=k1, b=b)\n",
    "            \n",
    "            # Evaluate on sample queries\n",
    "            results = {}\n",
    "            for qid in tqdm(eval_queries, desc=f\"k1={k1}, b={b}\", leave=False):\n",
    "                query_terms = query_id_to_text[qid]\n",
    "                ranked_list = bm25.rank_documents(query_terms, top_n=top_n)\n",
    "                results[qid] = [doc_id for doc_id, score in ranked_list]\n",
    "            \n",
    "            # Calculate MAP\n",
    "            map_score = mean_average_precision(results, relevant_docs)\n",
    "            \n",
    "            # Store results\n",
    "            results_grid[(k1, b)] = {\n",
    "                'MAP': map_score,\n",
    "                'k1': k1,\n",
    "                'b': b\n",
    "            }\n",
    "            \n",
    "            print(f\"MAP: {map_score:.4f}\")\n",
    "            \n",
    "            # Update best parameters\n",
    "            if map_score > best_map:\n",
    "                best_map = map_score\n",
    "                best_params = {'k1': k1, 'b': b}\n",
    "                print(f\"*** New best MAP: {best_map:.4f} with k1={k1}, b={b} ***\")\n",
    "    \n",
    "    print(f\"\\\\n=== Parameter Tuning Complete ===\")\n",
    "    print(f\"Best parameters: k1={best_params['k1']}, b={best_params['b']}\")\n",
    "    print(f\"Best MAP: {best_map:.4f}\")\n",
    "    \n",
    "    return best_params, results_grid\n",
    "\n",
    "# Define parameter ranges for tuning\n",
    "k1_values = [0.8, 1.0, 1.2, 1.4, 1.6, 1.8, 2.0]\n",
    "b_values = [0.0, 0.2, 0.4, 0.6, 0.75, 0.8, 1.0]\n",
    "\n",
    "print(\"Starting BM25 parameter tuning...\")\n",
    "print(f\"k1 values: {k1_values}\")\n",
    "print(f\"b values: {b_values}\")\n",
    "\n",
    "# Run parameter tuning (this will take some time)\n",
    "best_params, tuning_results = evaluate_bm25_parameters(\n",
    "    corpus_df, queries_df, qrels_df, \n",
    "    k1_values, b_values, \n",
    "    sample_size=100,  # Use fewer queries for faster tuning\n",
    "    top_n=100\n",
    ")\n"
   ]
  },
  {
   "cell_type": "code",
   "execution_count": 7,
   "metadata": {},
   "outputs": [
    {
     "data": {
      "image/png": "[encoded data removed]",
      "text/plain": [
       "<Figure size 1200x800 with 2 Axes>"
      ]
     },
     "metadata": {},
     "output_type": "display_data"
    },
    {
     "name": "stdout",
     "output_type": "stream",
     "text": [
      "\\nBest parameters found:\n",
      "k1 = 1.8\n",
      "b = 0.6\n",
      "MAP = 0.2338\n"
     ]
    }
   ],
   "source": [
    "# Visualize parameter tuning results\n",
    "def plot_parameter_tuning_results(tuning_results, k1_values, b_values):\n",
    "    \"\"\"Create heatmap visualization of parameter tuning results.\"\"\"\n",
    "    \n",
    "    # Create a matrix for the heatmap\n",
    "    map_matrix = np.zeros((len(b_values), len(k1_values)))\n",
    "    \n",
    "    for i, b in enumerate(b_values):\n",
    "        for j, k1 in enumerate(k1_values):\n",
    "            if (k1, b) in tuning_results:\n",
    "                map_matrix[i, j] = tuning_results[(k1, b)]['MAP']\n",
    "    \n",
    "    # Create the heatmap\n",
    "    plt.figure(figsize=(12, 8))\n",
    "    sns.heatmap(map_matrix, \n",
    "                xticklabels=k1_values, \n",
    "                yticklabels=b_values,\n",
    "                annot=True, \n",
    "                fmt='.4f', \n",
    "                cmap='YlOrRd',\n",
    "                cbar_kws={'label': 'MAP Score'})\n",
    "    \n",
    "    plt.title('BM25 Parameter Tuning Results\\\\nMAP Score Heatmap', fontsize=16, fontweight='bold')\n",
    "    plt.xlabel('k1 (Term Frequency Saturation)', fontsize=12)\n",
    "    plt.ylabel('b (Length Normalization)', fontsize=12)\n",
    "    plt.tight_layout()\n",
    "    plt.show()\n",
    "    \n",
    "    # Find and highlight the best parameters\n",
    "    best_score = 0\n",
    "    best_k1, best_b = 0, 0\n",
    "    \n",
    "    for (k1, b), result in tuning_results.items():\n",
    "        if result['MAP'] > best_score:\n",
    "            best_score = result['MAP']\n",
    "            best_k1, best_b = k1, b\n",
    "    \n",
    "    print(f\"\\\\nBest parameters found:\")\n",
    "    print(f\"k1 = {best_k1}\")\n",
    "    print(f\"b = {best_b}\")\n",
    "    print(f\"MAP = {best_score:.4f}\")\n",
    "    \n",
    "    return best_k1, best_b, best_score\n",
    "\n",
    "# Plot the results\n",
    "best_k1, best_b, best_map = plot_parameter_tuning_results(tuning_results, k1_values, b_values)\n"
   ]
  },
  {
   "cell_type": "code",
   "execution_count": 8,
   "metadata": {},
   "outputs": [
    {
     "name": "stdout",
     "output_type": "stream",
     "text": [
      "\\nInitializing BM25 with optimized parameters: k1=1.8, b=0.6\n",
      "BM25 initialized with k1=1.8, b=0.6\n",
      "Average document length: 64.92\n"
     ]
    }
   ],
   "source": [
    "# Initialize BM25 with the best parameters found\n",
    "print(f\"\\\\nInitializing BM25 with optimized parameters: k1={best_k1}, b={best_b}\")\n",
    "bm25_optimized = BM25Model(corpus_df, k1=best_k1, b=best_b)\n"
   ]
  },
  {
   "cell_type": "markdown",
   "metadata": {},
   "source": [
    "## 7. Run Retrieval and Evaluation\n",
    "\n",
    "Let's select queries with sufficient relevance judgments and run both retrieval models to get comprehensive evaluation results."
   ]
  },
  {
   "cell_type": "code",
   "execution_count": 9,
   "metadata": {},
   "outputs": [
    {
     "name": "stdout",
     "output_type": "stream",
     "text": [
      "Evaluating on 50 queries with at least 3 relevant documents\n",
      "Average relevant documents per query: 4.59\n",
      "\\nRunning retrieval with all models...\n"
     ]
    },
    {
     "name": "stderr",
     "output_type": "stream",
     "text": [
      "Processing Queries: 100%|██████████| 50/50 [00:14<00:00,  3.43it/s]"
     ]
    },
    {
     "name": "stdout",
     "output_type": "stream",
     "text": [
      "\\nRetrieval completed successfully!\n",
      "\\nSample results for query 10009:\n",
      "TF-IDF top 5: ['239574', '199648', '160087', '251843', '146218']\n",
      "BM25 (default) top 5: ['239574', '170378', '337793', '387141', '251843']\n",
      "BM25 (optimized) top 5: ['239574', '170378', '337793', '387141', '251843']\n"
     ]
    },
    {
     "name": "stderr",
     "output_type": "stream",
     "text": [
      "\n"
     ]
    }
   ],
   "source": [
    "\n",
    "# Select queries with sufficient relevance judgments for evaluation\n",
    "rel_counts = qrels_df.groupby('query_id').size()\n",
    "rich_queries = rel_counts[rel_counts >= 3]  # At least 3 relevant documents\n",
    "\n",
    "# Use more queries for comprehensive evaluation\n",
    "eval_query_ids = rich_queries.index[:50].tolist()  # Evaluate on 50 queries\n",
    "\n",
    "print(f\"Evaluating on {len(eval_query_ids)} queries with at least 3 relevant documents\")\n",
    "print(f\"Average relevant documents per query: {rich_queries.mean():.2f}\")\n",
    "\n",
    "# Create relevance mapping\n",
    "relevant_docs = qrels_df.groupby('query_id')['doc_id'].apply(list).to_dict()\n",
    "\n",
    "# Run retrieval with both models\n",
    "results_tfidf = {}\n",
    "results_bm25_default = {}\n",
    "results_bm25_optimized = {}\n",
    "\n",
    "print(\"\\\\nRunning retrieval with all models...\")\n",
    "\n",
    "for qid in tqdm(eval_query_ids, desc=\"Processing Queries\"):\n",
    "    query_terms = query_id_to_text[qid]\n",
    "    \n",
    "    # Get TF-IDF results\n",
    "    tfidf_ranked_list = tfidf_model.rank_documents(query_terms, top_n=100)\n",
    "    results_tfidf[qid] = [doc_id for doc_id, score in tfidf_ranked_list]\n",
    "    \n",
    "    # Get BM25 results (default parameters)\n",
    "    bm25_default_ranked_list = bm25_model.rank_documents(query_terms, top_n=100)\n",
    "    results_bm25_default[qid] = [doc_id for doc_id, score in bm25_default_ranked_list]\n",
    "    \n",
    "    # Get BM25 results (optimized parameters)\n",
    "    bm25_optimized_ranked_list = bm25_optimized.rank_documents(query_terms, top_n=100)\n",
    "    results_bm25_optimized[qid] = [doc_id for doc_id, score in bm25_optimized_ranked_list]\n",
    "\n",
    "print(\"\\\\nRetrieval completed successfully!\")\n",
    "print(f\"\\\\nSample results for query {eval_query_ids[0]}:\")\n",
    "print(f\"TF-IDF top 5: {results_tfidf[eval_query_ids[0]][:5]}\")\n",
    "print(f\"BM25 (default) top 5: {results_bm25_default[eval_query_ids[0]][:5]}\")\n",
    "print(f\"BM25 (optimized) top 5: {results_bm25_optimized[eval_query_ids[0]][:5]}\")"
   ]
  },
  {
   "cell_type": "markdown",
   "metadata": {},
   "source": [
    "## 8. Comprehensive Model Comparison\n",
    "\n",
    "Now let's evaluate all three models (TF-IDF, BM25 default, BM25 optimized) using comprehensive metrics and create visualizations."
   ]
  },
  {
   "cell_type": "code",
   "execution_count": 10,
   "metadata": {},
   "outputs": [
    {
     "name": "stdout",
     "output_type": "stream",
     "text": [
      "Evaluating all models...\n",
      "\\n=== Model Performance Comparison ===\n"
     ]
    },
    {
     "data": {
      "text/html": [
       "<div>\n",
       "<style scoped>\n",
       "    .dataframe tbody tr th:only-of-type {\n",
       "        vertical-align: middle;\n",
       "    }\n",
       "\n",
       "    .dataframe tbody tr th {\n",
       "        vertical-align: top;\n",
       "    }\n",
       "\n",
       "    .dataframe thead th {\n",
       "        text-align: right;\n",
       "    }\n",
       "</style>\n",
       "<table border=\"1\" class=\"dataframe\">\n",
       "  <thead>\n",
       "    <tr style=\"text-align: right;\">\n",
       "      <th></th>\n",
       "      <th>P@1</th>\n",
       "      <th>R@1</th>\n",
       "      <th>nDCG@1</th>\n",
       "      <th>F1@1</th>\n",
       "      <th>P@3</th>\n",
       "      <th>R@3</th>\n",
       "      <th>nDCG@3</th>\n",
       "      <th>F1@3</th>\n",
       "      <th>P@5</th>\n",
       "      <th>R@5</th>\n",
       "      <th>...</th>\n",
       "      <th>P@10</th>\n",
       "      <th>R@10</th>\n",
       "      <th>nDCG@10</th>\n",
       "      <th>F1@10</th>\n",
       "      <th>P@20</th>\n",
       "      <th>R@20</th>\n",
       "      <th>nDCG@20</th>\n",
       "      <th>F1@20</th>\n",
       "      <th>MAP</th>\n",
       "      <th>MRR</th>\n",
       "    </tr>\n",
       "  </thead>\n",
       "  <tbody>\n",
       "    <tr>\n",
       "      <th>TF-IDF (Scikit-learn)</th>\n",
       "      <td>0.08</td>\n",
       "      <td>0.0185</td>\n",
       "      <td>0.08</td>\n",
       "      <td>0.0297</td>\n",
       "      <td>0.0867</td>\n",
       "      <td>0.0659</td>\n",
       "      <td>0.0859</td>\n",
       "      <td>0.0732</td>\n",
       "      <td>0.072</td>\n",
       "      <td>0.0856</td>\n",
       "      <td>...</td>\n",
       "      <td>0.042</td>\n",
       "      <td>0.0963</td>\n",
       "      <td>0.0901</td>\n",
       "      <td>0.0572</td>\n",
       "      <td>0.033</td>\n",
       "      <td>0.1575</td>\n",
       "      <td>0.1140</td>\n",
       "      <td>0.0538</td>\n",
       "      <td>0.0687</td>\n",
       "      <td>0.1650</td>\n",
       "    </tr>\n",
       "    <tr>\n",
       "      <th>BM25 (Default)</th>\n",
       "      <td>0.20</td>\n",
       "      <td>0.0552</td>\n",
       "      <td>0.20</td>\n",
       "      <td>0.0857</td>\n",
       "      <td>0.1067</td>\n",
       "      <td>0.0826</td>\n",
       "      <td>0.1269</td>\n",
       "      <td>0.0913</td>\n",
       "      <td>0.100</td>\n",
       "      <td>0.1283</td>\n",
       "      <td>...</td>\n",
       "      <td>0.058</td>\n",
       "      <td>0.1468</td>\n",
       "      <td>0.1472</td>\n",
       "      <td>0.0816</td>\n",
       "      <td>0.036</td>\n",
       "      <td>0.1820</td>\n",
       "      <td>0.1604</td>\n",
       "      <td>0.0594</td>\n",
       "      <td>0.1026</td>\n",
       "      <td>0.2734</td>\n",
       "    </tr>\n",
       "    <tr>\n",
       "      <th>BM25 (Optimized)</th>\n",
       "      <td>0.22</td>\n",
       "      <td>0.0602</td>\n",
       "      <td>0.22</td>\n",
       "      <td>0.0937</td>\n",
       "      <td>0.1000</td>\n",
       "      <td>0.0814</td>\n",
       "      <td>0.1232</td>\n",
       "      <td>0.0882</td>\n",
       "      <td>0.096</td>\n",
       "      <td>0.1244</td>\n",
       "      <td>...</td>\n",
       "      <td>0.058</td>\n",
       "      <td>0.1468</td>\n",
       "      <td>0.1468</td>\n",
       "      <td>0.0816</td>\n",
       "      <td>0.038</td>\n",
       "      <td>0.1937</td>\n",
       "      <td>0.1650</td>\n",
       "      <td>0.0628</td>\n",
       "      <td>0.1044</td>\n",
       "      <td>0.2716</td>\n",
       "    </tr>\n",
       "  </tbody>\n",
       "</table>\n",
       "<p>3 rows × 22 columns</p>\n",
       "</div>"
      ],
      "text/plain": [
       "                        P@1     R@1  nDCG@1    F1@1     P@3     R@3  nDCG@3  \\\n",
       "TF-IDF (Scikit-learn)  0.08  0.0185    0.08  0.0297  0.0867  0.0659  0.0859   \n",
       "BM25 (Default)         0.20  0.0552    0.20  0.0857  0.1067  0.0826  0.1269   \n",
       "BM25 (Optimized)       0.22  0.0602    0.22  0.0937  0.1000  0.0814  0.1232   \n",
       "\n",
       "                         F1@3    P@5     R@5  ...   P@10    R@10  nDCG@10  \\\n",
       "TF-IDF (Scikit-learn)  0.0732  0.072  0.0856  ...  0.042  0.0963   0.0901   \n",
       "BM25 (Default)         0.0913  0.100  0.1283  ...  0.058  0.1468   0.1472   \n",
       "BM25 (Optimized)       0.0882  0.096  0.1244  ...  0.058  0.1468   0.1468   \n",
       "\n",
       "                        F1@10   P@20    R@20  nDCG@20   F1@20     MAP     MRR  \n",
       "TF-IDF (Scikit-learn)  0.0572  0.033  0.1575   0.1140  0.0538  0.0687  0.1650  \n",
       "BM25 (Default)         0.0816  0.036  0.1820   0.1604  0.0594  0.1026  0.2734  \n",
       "BM25 (Optimized)       0.0816  0.038  0.1937   0.1650  0.0628  0.1044  0.2716  \n",
       "\n",
       "[3 rows x 22 columns]"
      ]
     },
     "metadata": {},
     "output_type": "display_data"
    }
   ],
   "source": [
    "# Evaluate all models\n",
    "print(\"Evaluating all models...\")\n",
    "\n",
    "tfidf_metrics = evaluate_model(results_tfidf, relevant_docs)\n",
    "bm25_default_metrics = evaluate_model(results_bm25_default, relevant_docs)\n",
    "bm25_optimized_metrics = evaluate_model(results_bm25_optimized, relevant_docs)\n",
    "\n",
    "# Create comparison DataFrame\n",
    "comparison_df = pd.DataFrame([\n",
    "    tfidf_metrics,\n",
    "    bm25_default_metrics,\n",
    "    bm25_optimized_metrics\n",
    "], index=['TF-IDF (Scikit-learn)', 'BM25 (Default)', 'BM25 (Optimized)'])\n",
    "\n",
    "print(\"\\\\n=== Model Performance Comparison ===\")\n",
    "display(comparison_df.round(4))"
   ]
  },
  {
   "cell_type": "code",
   "execution_count": 11,
   "metadata": {},
   "outputs": [
    {
     "data": {
      "image/png": "[encoded data removed]",
      "text/plain": [
       "<Figure size 1500x1200 with 4 Axes>"
      ]
     },
     "metadata": {},
     "output_type": "display_data"
    },
    {
     "name": "stdout",
     "output_type": "stream",
     "text": [
      "\\n=== Performance Improvement Analysis ===\n",
      "BM25 Optimized vs Default:\n",
      "  MAP improvement: 1.67%\n",
      "  MRR improvement: -0.68%\n",
      "\\nBM25 Optimized vs TF-IDF:\n",
      "  MAP improvement: 51.93%\n",
      "  MRR improvement: 64.63%\n"
     ]
    }
   ],
   "source": [
    "# Create visualizations\n",
    "def plot_model_comparison(comparison_df):\n",
    "    \"\"\"Create comprehensive visualizations comparing model performance\"\"\"\n",
    "    \n",
    "    # 1. MAP and MRR comparison\n",
    "    fig, axes = plt.subplots(2, 2, figsize=(15, 12))\n",
    "    \n",
    "    # MAP and MRR bar plot\n",
    "    map_mrr_data = comparison_df[['MAP', 'MRR']]\n",
    "    map_mrr_data.plot(kind='bar', ax=axes[0, 0], color=['skyblue', 'lightcoral'])\n",
    "    axes[0, 0].set_title('MAP and MRR Comparison', fontweight='bold')\n",
    "    axes[0, 0].set_ylabel('Score')\n",
    "    axes[0, 0].legend()\n",
    "    axes[0, 0].tick_params(axis='x', rotation=45)\n",
    "    \n",
    "    # Precision@k comparison\n",
    "    p_at_k_cols = [col for col in comparison_df.columns if col.startswith('P@')]\n",
    "    comparison_df[p_at_k_cols].plot(kind='bar', ax=axes[0, 1], width=0.8)\n",
    "    axes[0, 1].set_title('Precision@k Comparison', fontweight='bold')\n",
    "    axes[0, 1].set_ylabel('Precision')\n",
    "    axes[0, 1].legend(title='k values')\n",
    "    axes[0, 1].tick_params(axis='x', rotation=45)\n",
    "    \n",
    "    # nDCG@k comparison\n",
    "    ndcg_at_k_cols = [col for col in comparison_df.columns if col.startswith('nDCG@')]\n",
    "    comparison_df[ndcg_at_k_cols].plot(kind='bar', ax=axes[1, 0], width=0.8)\n",
    "    axes[1, 0].set_title('nDCG@k Comparison', fontweight='bold')\n",
    "    axes[1, 0].set_ylabel('nDCG')\n",
    "    axes[1, 0].legend(title='k values')\n",
    "    axes[1, 0].tick_params(axis='x', rotation=45)\n",
    "    \n",
    "    # F1@k comparison\n",
    "    f1_at_k_cols = [col for col in comparison_df.columns if col.startswith('F1@')]\n",
    "    comparison_df[f1_at_k_cols].plot(kind='bar', ax=axes[1, 1], width=0.8)\n",
    "    axes[1, 1].set_title('F1@k Comparison', fontweight='bold')\n",
    "    axes[1, 1].set_ylabel('F1 Score')\n",
    "    axes[1, 1].legend(title='k values')\n",
    "    axes[1, 1].tick_params(axis='x', rotation=45)\n",
    "    \n",
    "    plt.tight_layout()\n",
    "    plt.show()\n",
    "    \n",
    "    # 2. Performance improvement analysis\n",
    "    print(\"\\\\n=== Performance Improvement Analysis ===\")\n",
    "    \n",
    "    # Compare BM25 optimized vs default\n",
    "    map_improvement = ((bm25_optimized_metrics['MAP'] - bm25_default_metrics['MAP']) / \n",
    "                      bm25_default_metrics['MAP'] * 100)\n",
    "    mrr_improvement = ((bm25_optimized_metrics['MRR'] - bm25_default_metrics['MRR']) / \n",
    "                      bm25_default_metrics['MRR'] * 100)\n",
    "    \n",
    "    print(f\"BM25 Optimized vs Default:\")\n",
    "    print(f\"  MAP improvement: {map_improvement:.2f}%\")\n",
    "    print(f\"  MRR improvement: {mrr_improvement:.2f}%\")\n",
    "    \n",
    "    # Compare BM25 vs TF-IDF\n",
    "    bm25_vs_tfidf_map = ((bm25_optimized_metrics['MAP'] - tfidf_metrics['MAP']) / \n",
    "                        tfidf_metrics['MAP'] * 100)\n",
    "    bm25_vs_tfidf_mrr = ((bm25_optimized_metrics['MRR'] - tfidf_metrics['MRR']) / \n",
    "                        tfidf_metrics['MRR'] * 100)\n",
    "    \n",
    "    print(f\"\\\\nBM25 Optimized vs TF-IDF:\")\n",
    "    print(f\"  MAP improvement: {bm25_vs_tfidf_map:.2f}%\")\n",
    "    print(f\"  MRR improvement: {bm25_vs_tfidf_mrr:.2f}%\")\n",
    "\n",
    "# Create the visualizations\n",
    "plot_model_comparison(comparison_df)\n"
   ]
  },
  {
   "cell_type": "markdown",
   "metadata": {},
   "source": [
    "## 9. Summary and Analysis\n",
    "\n",
    "### Key Findings\n",
    "\n",
    "Based on our comprehensive evaluation, here are the key insights:\n",
    "\n",
    "1. **BM25 vs TF-IDF**: BM25 consistently outperforms TF-IDF across all metrics, which is expected as BM25 is a more sophisticated probabilistic model.\n",
    "\n",
    "2. **Parameter Tuning Impact**: The parameter tuning process helps identify the optimal k1 and b values for the specific dataset, potentially providing significant performance improvements.\n",
    "\n",
    "3. **Model Characteristics**:\n",
    "   - **TF-IDF**: Simple vector space model, good baseline, but limited by linear term frequency growth\n",
    "   - **BM25**: Probabilistic model with term frequency saturation and length normalization\n",
    "\n",
    "### Best Practices for Classical IR\n",
    "\n",
    "1. **Always tune BM25 parameters** for your specific dataset\n",
    "2. **Use scikit-learn's TfidfVectorizer** for optimized TF-IDF implementation\n",
    "3. **Evaluate on multiple metrics** to get a comprehensive view of performance\n",
    "4. **Use sufficient queries** with multiple relevant documents for reliable evaluation\n",
    "\n",
    "### Parameter Tuning Code Usage\n",
    "\n",
    "The parameter tuning code provided can be easily adapted for other datasets:\n",
    "\n",
    "```python\n",
    "# Define your parameter ranges\n",
    "k1_values = [0.8, 1.0, 1.2, 1.4, 1.6, 1.8, 2.0]\n",
    "b_values = [0.0, 0.2, 0.4, 0.6, 0.75, 0.8, 1.0]\n",
    "\n",
    "# Run tuning\n",
    "best_params, results = evaluate_bm25_parameters(\n",
    "    corpus_df, queries_df, qrels_df, \n",
    "    k1_values, b_values, \n",
    "    sample_size=50,  # Adjust based on your dataset size\n",
    "    top_n=100\n",
    ")\n",
    "```\n",
    "\n",
    "This implementation provides a solid foundation for classical information retrieval with both TF-IDF and BM25, including comprehensive parameter tuning capabilities.\n"
   ]
  },
  {
   "cell_type": "markdown",
   "metadata": {},
   "source": [
    "## 10. Final Results Summary\n",
    "\n",
    "Here's a summary of the key results from our comprehensive evaluation:"
   ]
  },
  {
   "cell_type": "code",
   "execution_count": 12,
   "metadata": {},
   "outputs": [
    {
     "name": "stdout",
     "output_type": "stream",
     "text": [
      "=== FINAL RESULTS SUMMARY ===\n",
      "\\nDataset: 57638 documents, 6648 queries\n",
      "Evaluation: 50 queries with sufficient relevance judgments\n",
      "\\nBest BM25 Parameters Found:\n",
      "  k1 = 1.8\n",
      "  b = 0.6\n",
      "  MAP = 0.2338\n",
      "\\nModel Performance Ranking (by MAP):\n",
      "  1. BM25 (Optimized): MAP = 0.1044, MRR = 0.2716\n",
      "  2. BM25 (Default): MAP = 0.1026, MRR = 0.2734\n",
      "  3. TF-IDF (Scikit-learn): MAP = 0.0687, MRR = 0.1650\n",
      "\\nKey Insights:\n",
      "  • BM25 (optimized) shows improvement over default parameters\n",
      "  • BM25 outperforms TF-IDF by 51.9% in MAP\n",
      "  • Parameter tuning marginally affects performance\n"
     ]
    }
   ],
   "source": [
    "\n",
    "\n",
    "# Print final summary\n",
    "print(\"=== FINAL RESULTS SUMMARY ===\")\n",
    "print(f\"\\\\nDataset: {len(corpus_df)} documents, {len(queries_df)} queries\")\n",
    "print(f\"Evaluation: {len(eval_query_ids)} queries with sufficient relevance judgments\")\n",
    "print(f\"\\\\nBest BM25 Parameters Found:\")\n",
    "print(f\"  k1 = {best_k1}\")\n",
    "print(f\"  b = {best_b}\")\n",
    "print(f\"  MAP = {best_map:.4f}\")\n",
    "\n",
    "print(f\"\\\\nModel Performance Ranking (by MAP):\")\n",
    "sorted_models = comparison_df.sort_values('MAP', ascending=False)\n",
    "for i, (model, row) in enumerate(sorted_models.iterrows(), 1):\n",
    "    print(f\"  {i}. {model}: MAP = {row['MAP']:.4f}, MRR = {row['MRR']:.4f}\")\n",
    "\n",
    "print(f\"\\\\nKey Insights:\")\n",
    "print(f\"  • BM25 (optimized) shows {'improvement' if bm25_optimized_metrics['MAP'] > bm25_default_metrics['MAP'] else 'no improvement'} over default parameters\")\n",
    "print(f\"  • BM25 outperforms TF-IDF by {((bm25_optimized_metrics['MAP'] - tfidf_metrics['MAP']) / tfidf_metrics['MAP'] * 100):.1f}% in MAP\")\n",
    "print(f\"  • Parameter tuning {'significantly' if abs(bm25_optimized_metrics['MAP'] - bm25_default_metrics['MAP']) > 0.01 else 'marginally'} affects performance\")"
   ]
  },
  {
   "cell_type": "markdown",
   "metadata": {},
   "source": [
    "### Technical Implementation Notes\n",
    "\n",
    "The implementations provided include several optimizations:\n",
    "\n",
    "1. **Scikit-learn TF-IDF**: Uses optimized sparse matrix operations and built-in cosine similarity\n",
    "2. **BM25 Parameter Tuning**: Grid search with visualization to find optimal parameters  \n",
    "3. **Comprehensive Evaluation**: Multiple metrics including MAP, MRR, Precision@k, Recall@k, nDCG@k, and F1@k\n",
    "4. **Efficient Processing**: Candidate selection and vectorized operations for better performance\n",
    "\n",
    "The code is designed to be easily extensible and can be adapted for other datasets and evaluation scenarios."
   ]
  },
  {
   "cell_type": "code",
   "execution_count": 13,
   "metadata": {},
   "outputs": [
    {
     "name": "stdout",
     "output_type": "stream",
     "text": [
      "\\n=== COMPLETE PERFORMANCE COMPARISON ===\n"
     ]
    },
    {
     "data": {
      "text/html": [
       "<div>\n",
       "<style scoped>\n",
       "    .dataframe tbody tr th:only-of-type {\n",
       "        vertical-align: middle;\n",
       "    }\n",
       "\n",
       "    .dataframe tbody tr th {\n",
       "        vertical-align: top;\n",
       "    }\n",
       "\n",
       "    .dataframe thead th {\n",
       "        text-align: right;\n",
       "    }\n",
       "</style>\n",
       "<table border=\"1\" class=\"dataframe\">\n",
       "  <thead>\n",
       "    <tr style=\"text-align: right;\">\n",
       "      <th></th>\n",
       "      <th>P@1</th>\n",
       "      <th>R@1</th>\n",
       "      <th>nDCG@1</th>\n",
       "      <th>F1@1</th>\n",
       "      <th>P@3</th>\n",
       "      <th>R@3</th>\n",
       "      <th>nDCG@3</th>\n",
       "      <th>F1@3</th>\n",
       "      <th>P@5</th>\n",
       "      <th>R@5</th>\n",
       "      <th>...</th>\n",
       "      <th>P@10</th>\n",
       "      <th>R@10</th>\n",
       "      <th>nDCG@10</th>\n",
       "      <th>F1@10</th>\n",
       "      <th>P@20</th>\n",
       "      <th>R@20</th>\n",
       "      <th>nDCG@20</th>\n",
       "      <th>F1@20</th>\n",
       "      <th>MAP</th>\n",
       "      <th>MRR</th>\n",
       "    </tr>\n",
       "  </thead>\n",
       "  <tbody>\n",
       "    <tr>\n",
       "      <th>TF-IDF (Scikit-learn)</th>\n",
       "      <td>0.08</td>\n",
       "      <td>0.0185</td>\n",
       "      <td>0.08</td>\n",
       "      <td>0.0297</td>\n",
       "      <td>0.0867</td>\n",
       "      <td>0.0659</td>\n",
       "      <td>0.0859</td>\n",
       "      <td>0.0732</td>\n",
       "      <td>0.072</td>\n",
       "      <td>0.0856</td>\n",
       "      <td>...</td>\n",
       "      <td>0.042</td>\n",
       "      <td>0.0963</td>\n",
       "      <td>0.0901</td>\n",
       "      <td>0.0572</td>\n",
       "      <td>0.033</td>\n",
       "      <td>0.1575</td>\n",
       "      <td>0.1140</td>\n",
       "      <td>0.0538</td>\n",
       "      <td>0.0687</td>\n",
       "      <td>0.1650</td>\n",
       "    </tr>\n",
       "    <tr>\n",
       "      <th>BM25 (Default)</th>\n",
       "      <td>0.20</td>\n",
       "      <td>0.0552</td>\n",
       "      <td>0.20</td>\n",
       "      <td>0.0857</td>\n",
       "      <td>0.1067</td>\n",
       "      <td>0.0826</td>\n",
       "      <td>0.1269</td>\n",
       "      <td>0.0913</td>\n",
       "      <td>0.100</td>\n",
       "      <td>0.1283</td>\n",
       "      <td>...</td>\n",
       "      <td>0.058</td>\n",
       "      <td>0.1468</td>\n",
       "      <td>0.1472</td>\n",
       "      <td>0.0816</td>\n",
       "      <td>0.036</td>\n",
       "      <td>0.1820</td>\n",
       "      <td>0.1604</td>\n",
       "      <td>0.0594</td>\n",
       "      <td>0.1026</td>\n",
       "      <td>0.2734</td>\n",
       "    </tr>\n",
       "    <tr>\n",
       "      <th>BM25 (Optimized)</th>\n",
       "      <td>0.22</td>\n",
       "      <td>0.0602</td>\n",
       "      <td>0.22</td>\n",
       "      <td>0.0937</td>\n",
       "      <td>0.1000</td>\n",
       "      <td>0.0814</td>\n",
       "      <td>0.1232</td>\n",
       "      <td>0.0882</td>\n",
       "      <td>0.096</td>\n",
       "      <td>0.1244</td>\n",
       "      <td>...</td>\n",
       "      <td>0.058</td>\n",
       "      <td>0.1468</td>\n",
       "      <td>0.1468</td>\n",
       "      <td>0.0816</td>\n",
       "      <td>0.038</td>\n",
       "      <td>0.1937</td>\n",
       "      <td>0.1650</td>\n",
       "      <td>0.0628</td>\n",
       "      <td>0.1044</td>\n",
       "      <td>0.2716</td>\n",
       "    </tr>\n",
       "  </tbody>\n",
       "</table>\n",
       "<p>3 rows × 22 columns</p>\n",
       "</div>"
      ],
      "text/plain": [
       "                        P@1     R@1  nDCG@1    F1@1     P@3     R@3  nDCG@3  \\\n",
       "TF-IDF (Scikit-learn)  0.08  0.0185    0.08  0.0297  0.0867  0.0659  0.0859   \n",
       "BM25 (Default)         0.20  0.0552    0.20  0.0857  0.1067  0.0826  0.1269   \n",
       "BM25 (Optimized)       0.22  0.0602    0.22  0.0937  0.1000  0.0814  0.1232   \n",
       "\n",
       "                         F1@3    P@5     R@5  ...   P@10    R@10  nDCG@10  \\\n",
       "TF-IDF (Scikit-learn)  0.0732  0.072  0.0856  ...  0.042  0.0963   0.0901   \n",
       "BM25 (Default)         0.0913  0.100  0.1283  ...  0.058  0.1468   0.1472   \n",
       "BM25 (Optimized)       0.0882  0.096  0.1244  ...  0.058  0.1468   0.1468   \n",
       "\n",
       "                        F1@10   P@20    R@20  nDCG@20   F1@20     MAP     MRR  \n",
       "TF-IDF (Scikit-learn)  0.0572  0.033  0.1575   0.1140  0.0538  0.0687  0.1650  \n",
       "BM25 (Default)         0.0816  0.036  0.1820   0.1604  0.0594  0.1026  0.2734  \n",
       "BM25 (Optimized)       0.0816  0.038  0.1937   0.1650  0.0628  0.1044  0.2716  \n",
       "\n",
       "[3 rows x 22 columns]"
      ]
     },
     "metadata": {},
     "output_type": "display_data"
    },
    {
     "name": "stdout",
     "output_type": "stream",
     "text": [
      "\\n=== PARAMETER TUNING SUMMARY ===\n",
      "Total parameter combinations tested: 49\n",
      "Best parameters: k1=1.8, b=0.6\n",
      "Best MAP score: 0.2338\n",
      "Improvement over default (k1=1.2, b=0.75): 4.32%\n"
     ]
    }
   ],
   "source": [
    "# Display the complete comparison table\n",
    "print(\"\\\\n=== COMPLETE PERFORMANCE COMPARISON ===\")\n",
    "display(comparison_df.round(4))\n",
    "\n",
    "# Show parameter tuning results summary\n",
    "print(\"\\\\n=== PARAMETER TUNING SUMMARY ===\")\n",
    "print(f\"Total parameter combinations tested: {len(tuning_results)}\")\n",
    "print(f\"Best parameters: k1={best_k1}, b={best_b}\")\n",
    "print(f\"Best MAP score: {best_map:.4f}\")\n",
    "\n",
    "# Show improvement over default\n",
    "default_map = tuning_results.get((1.2, 0.75), {}).get('MAP', 0)\n",
    "if default_map > 0:\n",
    "    improvement = ((best_map - default_map) / default_map * 100)\n",
    "    print(f\"Improvement over default (k1=1.2, b=0.75): {improvement:.2f}%\")"
   ]
  }
 ],
 "metadata": {
  "kernelspec": {
   "display_name": "Python 3",
   "language": "python",
   "name": "python3"
  },
  "language_info": {
   "codemirror_mode": {
    "name": "ipython",
    "version": 3
   },
   "file_extension": ".py",
   "mimetype": "text/x-python",
   "name": "python",
   "nbconvert_exporter": "python",
   "pygments_lexer": "ipython3",
   "version": "3.9.6"
  }
 },
 "nbformat": 4,
 "nbformat_minor": 4
}
