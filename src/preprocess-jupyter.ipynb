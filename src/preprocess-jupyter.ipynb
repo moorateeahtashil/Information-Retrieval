{
 "cells": [
  {
   "cell_type": "code",
   "execution_count": null,
   "id": "6f5e1012",
   "metadata": {},
   "outputs": [],
   "source": [
    "!pip install -q datasets nltk tqdm unidecode\n",
    "import nltk\n",
    "for pkg in [\"stopwords\",\"punkt\",\"wordnet\",\"omw-1.4\",\"averaged_perceptron_tagger_eng\"]:\n",
    "    nltk.download(pkg)"
   ]
  },
  {
   "cell_type": "code",
   "execution_count": null,
   "id": "8259fb8e",
   "metadata": {},
   "outputs": [],
   "source": [
    "import os, pathlib, textwrap\n",
    "\n",
    "root = pathlib.Path(\"/content/ir-eu-regulations\")\n",
    "(root / \"src\").mkdir(parents=True, exist_ok=True)\n",
    "(root / \"data\").mkdir(parents=True, exist_ok=True)\n",
    "(root / \"cache\" / \"huggingface\").mkdir(parents=True, exist_ok=True)\n",
    "\n",
    "print(root)"
   ]
  },
  {
   "cell_type": "code",
   "execution_count": null,
   "id": "1e82e4ad",
   "metadata": {},
   "outputs": [],
   "source": [
    "!python /content/ir-eu-regulations/src/preprocess.py \\\n",
    "  --config uk2eu \\\n",
    "  --auto_stopwords_top 50 \\\n",
    "  --out_dir /content/ir-eu-regulations/data/processed"
   ]
  }
 ],
 "metadata": {
  "language_info": {
   "name": "python"
  }
 },
 "nbformat": 4,
 "nbformat_minor": 5
}
